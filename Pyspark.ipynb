{
  "nbformat": 4,
  "nbformat_minor": 0,
  "metadata": {
    "colab": {
      "provenance": [],
      "authorship_tag": "ABX9TyNWVFmZRujQ5HgThdSo0aoc",
      "include_colab_link": true
    },
    "kernelspec": {
      "name": "python3",
      "display_name": "Python 3"
    },
    "language_info": {
      "name": "python"
    }
  },
  "cells": [
    {
      "cell_type": "markdown",
      "metadata": {
        "id": "view-in-github",
        "colab_type": "text"
      },
      "source": [
        "<a href=\"https://colab.research.google.com/github/HUSSAIN7860/Python_EyTraining/blob/main/Pyspark.ipynb\" target=\"_parent\"><img src=\"https://colab.research.google.com/assets/colab-badge.svg\" alt=\"Open In Colab\"/></a>"
      ]
    },
    {
      "cell_type": "code",
      "execution_count": 1,
      "metadata": {
        "id": "U6LeZB6BRKEb",
        "colab": {
          "base_uri": "https://localhost:8080/"
        },
        "outputId": "97fb45f0-920f-4a6d-a23c-1abf3c2dff5e"
      },
      "outputs": [
        {
          "output_type": "stream",
          "name": "stdout",
          "text": [
            "Looking in indexes: https://pypi.org/simple, https://us-python.pkg.dev/colab-wheels/public/simple/\n",
            "Collecting pyspark\n",
            "  Downloading pyspark-3.3.0.tar.gz (281.3 MB)\n",
            "\u001b[K     |████████████████████████████████| 281.3 MB 48 kB/s \n",
            "\u001b[?25hCollecting py4j==0.10.9.5\n",
            "  Downloading py4j-0.10.9.5-py2.py3-none-any.whl (199 kB)\n",
            "\u001b[K     |████████████████████████████████| 199 kB 51.0 MB/s \n",
            "\u001b[?25hBuilding wheels for collected packages: pyspark\n",
            "  Building wheel for pyspark (setup.py) ... \u001b[?25l\u001b[?25hdone\n",
            "  Created wheel for pyspark: filename=pyspark-3.3.0-py2.py3-none-any.whl size=281764026 sha256=1b16864f756457cca9feb4c58156d372c0f95517ce6c02bea8bf5ed6c360a465\n",
            "  Stored in directory: /root/.cache/pip/wheels/7a/8e/1b/f73a52650d2e5f337708d9f6a1750d451a7349a867f928b885\n",
            "Successfully built pyspark\n",
            "Installing collected packages: py4j, pyspark\n",
            "Successfully installed py4j-0.10.9.5 pyspark-3.3.0\n"
          ]
        }
      ],
      "source": [
        "!pip install pyspark"
      ]
    },
    {
      "cell_type": "code",
      "source": [
        "import pyspark\n",
        "import pandas as pd"
      ],
      "metadata": {
        "id": "cl-_s65mRuBG"
      },
      "execution_count": 3,
      "outputs": []
    },
    {
      "cell_type": "code",
      "source": [
        "url ='https://raw.githubusercontent.com/a-forty-two/DFE6/main/titanic.csv'\n",
        "data = pd.read_csv(url)\n",
        "data.head()\n",
        "\n"
      ],
      "metadata": {
        "colab": {
          "base_uri": "https://localhost:8080/",
          "height": 206
        },
        "id": "d9JT8oc9SAoF",
        "outputId": "547d11a2-79b2-4a5f-a26a-d745a5fbefcf"
      },
      "execution_count": 5,
      "outputs": [
        {
          "output_type": "execute_result",
          "data": {
            "text/plain": [
              "   PassengerId  Survived  Pclass  \\\n",
              "0            1         0       3   \n",
              "1            2         1       1   \n",
              "2            3         1       3   \n",
              "3            4         1       1   \n",
              "4            5         0       3   \n",
              "\n",
              "                                                Name     Sex   Age  SibSp  \\\n",
              "0                            Braund, Mr. Owen Harris    male  22.0      1   \n",
              "1  Cumings, Mrs. John Bradley (Florence Briggs Th...  female  38.0      1   \n",
              "2                             Heikkinen, Miss. Laina  female  26.0      0   \n",
              "3       Futrelle, Mrs. Jacques Heath (Lily May Peel)  female  35.0      1   \n",
              "4                           Allen, Mr. William Henry    male  35.0      0   \n",
              "\n",
              "   Parch            Ticket     Fare Cabin Embarked  \n",
              "0      0         A/5 21171   7.2500   NaN        S  \n",
              "1      0          PC 17599  71.2833   C85        C  \n",
              "2      0  STON/O2. 3101282   7.9250   NaN        S  \n",
              "3      0            113803  53.1000  C123        S  \n",
              "4      0            373450   8.0500   NaN        S  "
            ],
            "text/html": [
              "\n",
              "  <div id=\"df-af939c26-4a17-4f57-9546-ff1a18e23bb5\">\n",
              "    <div class=\"colab-df-container\">\n",
              "      <div>\n",
              "<style scoped>\n",
              "    .dataframe tbody tr th:only-of-type {\n",
              "        vertical-align: middle;\n",
              "    }\n",
              "\n",
              "    .dataframe tbody tr th {\n",
              "        vertical-align: top;\n",
              "    }\n",
              "\n",
              "    .dataframe thead th {\n",
              "        text-align: right;\n",
              "    }\n",
              "</style>\n",
              "<table border=\"1\" class=\"dataframe\">\n",
              "  <thead>\n",
              "    <tr style=\"text-align: right;\">\n",
              "      <th></th>\n",
              "      <th>PassengerId</th>\n",
              "      <th>Survived</th>\n",
              "      <th>Pclass</th>\n",
              "      <th>Name</th>\n",
              "      <th>Sex</th>\n",
              "      <th>Age</th>\n",
              "      <th>SibSp</th>\n",
              "      <th>Parch</th>\n",
              "      <th>Ticket</th>\n",
              "      <th>Fare</th>\n",
              "      <th>Cabin</th>\n",
              "      <th>Embarked</th>\n",
              "    </tr>\n",
              "  </thead>\n",
              "  <tbody>\n",
              "    <tr>\n",
              "      <th>0</th>\n",
              "      <td>1</td>\n",
              "      <td>0</td>\n",
              "      <td>3</td>\n",
              "      <td>Braund, Mr. Owen Harris</td>\n",
              "      <td>male</td>\n",
              "      <td>22.0</td>\n",
              "      <td>1</td>\n",
              "      <td>0</td>\n",
              "      <td>A/5 21171</td>\n",
              "      <td>7.2500</td>\n",
              "      <td>NaN</td>\n",
              "      <td>S</td>\n",
              "    </tr>\n",
              "    <tr>\n",
              "      <th>1</th>\n",
              "      <td>2</td>\n",
              "      <td>1</td>\n",
              "      <td>1</td>\n",
              "      <td>Cumings, Mrs. John Bradley (Florence Briggs Th...</td>\n",
              "      <td>female</td>\n",
              "      <td>38.0</td>\n",
              "      <td>1</td>\n",
              "      <td>0</td>\n",
              "      <td>PC 17599</td>\n",
              "      <td>71.2833</td>\n",
              "      <td>C85</td>\n",
              "      <td>C</td>\n",
              "    </tr>\n",
              "    <tr>\n",
              "      <th>2</th>\n",
              "      <td>3</td>\n",
              "      <td>1</td>\n",
              "      <td>3</td>\n",
              "      <td>Heikkinen, Miss. Laina</td>\n",
              "      <td>female</td>\n",
              "      <td>26.0</td>\n",
              "      <td>0</td>\n",
              "      <td>0</td>\n",
              "      <td>STON/O2. 3101282</td>\n",
              "      <td>7.9250</td>\n",
              "      <td>NaN</td>\n",
              "      <td>S</td>\n",
              "    </tr>\n",
              "    <tr>\n",
              "      <th>3</th>\n",
              "      <td>4</td>\n",
              "      <td>1</td>\n",
              "      <td>1</td>\n",
              "      <td>Futrelle, Mrs. Jacques Heath (Lily May Peel)</td>\n",
              "      <td>female</td>\n",
              "      <td>35.0</td>\n",
              "      <td>1</td>\n",
              "      <td>0</td>\n",
              "      <td>113803</td>\n",
              "      <td>53.1000</td>\n",
              "      <td>C123</td>\n",
              "      <td>S</td>\n",
              "    </tr>\n",
              "    <tr>\n",
              "      <th>4</th>\n",
              "      <td>5</td>\n",
              "      <td>0</td>\n",
              "      <td>3</td>\n",
              "      <td>Allen, Mr. William Henry</td>\n",
              "      <td>male</td>\n",
              "      <td>35.0</td>\n",
              "      <td>0</td>\n",
              "      <td>0</td>\n",
              "      <td>373450</td>\n",
              "      <td>8.0500</td>\n",
              "      <td>NaN</td>\n",
              "      <td>S</td>\n",
              "    </tr>\n",
              "  </tbody>\n",
              "</table>\n",
              "</div>\n",
              "      <button class=\"colab-df-convert\" onclick=\"convertToInteractive('df-af939c26-4a17-4f57-9546-ff1a18e23bb5')\"\n",
              "              title=\"Convert this dataframe to an interactive table.\"\n",
              "              style=\"display:none;\">\n",
              "        \n",
              "  <svg xmlns=\"http://www.w3.org/2000/svg\" height=\"24px\"viewBox=\"0 0 24 24\"\n",
              "       width=\"24px\">\n",
              "    <path d=\"M0 0h24v24H0V0z\" fill=\"none\"/>\n",
              "    <path d=\"M18.56 5.44l.94 2.06.94-2.06 2.06-.94-2.06-.94-.94-2.06-.94 2.06-2.06.94zm-11 1L8.5 8.5l.94-2.06 2.06-.94-2.06-.94L8.5 2.5l-.94 2.06-2.06.94zm10 10l.94 2.06.94-2.06 2.06-.94-2.06-.94-.94-2.06-.94 2.06-2.06.94z\"/><path d=\"M17.41 7.96l-1.37-1.37c-.4-.4-.92-.59-1.43-.59-.52 0-1.04.2-1.43.59L10.3 9.45l-7.72 7.72c-.78.78-.78 2.05 0 2.83L4 21.41c.39.39.9.59 1.41.59.51 0 1.02-.2 1.41-.59l7.78-7.78 2.81-2.81c.8-.78.8-2.07 0-2.86zM5.41 20L4 18.59l7.72-7.72 1.47 1.35L5.41 20z\"/>\n",
              "  </svg>\n",
              "      </button>\n",
              "      \n",
              "  <style>\n",
              "    .colab-df-container {\n",
              "      display:flex;\n",
              "      flex-wrap:wrap;\n",
              "      gap: 12px;\n",
              "    }\n",
              "\n",
              "    .colab-df-convert {\n",
              "      background-color: #E8F0FE;\n",
              "      border: none;\n",
              "      border-radius: 50%;\n",
              "      cursor: pointer;\n",
              "      display: none;\n",
              "      fill: #1967D2;\n",
              "      height: 32px;\n",
              "      padding: 0 0 0 0;\n",
              "      width: 32px;\n",
              "    }\n",
              "\n",
              "    .colab-df-convert:hover {\n",
              "      background-color: #E2EBFA;\n",
              "      box-shadow: 0px 1px 2px rgba(60, 64, 67, 0.3), 0px 1px 3px 1px rgba(60, 64, 67, 0.15);\n",
              "      fill: #174EA6;\n",
              "    }\n",
              "\n",
              "    [theme=dark] .colab-df-convert {\n",
              "      background-color: #3B4455;\n",
              "      fill: #D2E3FC;\n",
              "    }\n",
              "\n",
              "    [theme=dark] .colab-df-convert:hover {\n",
              "      background-color: #434B5C;\n",
              "      box-shadow: 0px 1px 3px 1px rgba(0, 0, 0, 0.15);\n",
              "      filter: drop-shadow(0px 1px 2px rgba(0, 0, 0, 0.3));\n",
              "      fill: #FFFFFF;\n",
              "    }\n",
              "  </style>\n",
              "\n",
              "      <script>\n",
              "        const buttonEl =\n",
              "          document.querySelector('#df-af939c26-4a17-4f57-9546-ff1a18e23bb5 button.colab-df-convert');\n",
              "        buttonEl.style.display =\n",
              "          google.colab.kernel.accessAllowed ? 'block' : 'none';\n",
              "\n",
              "        async function convertToInteractive(key) {\n",
              "          const element = document.querySelector('#df-af939c26-4a17-4f57-9546-ff1a18e23bb5');\n",
              "          const dataTable =\n",
              "            await google.colab.kernel.invokeFunction('convertToInteractive',\n",
              "                                                     [key], {});\n",
              "          if (!dataTable) return;\n",
              "\n",
              "          const docLinkHtml = 'Like what you see? Visit the ' +\n",
              "            '<a target=\"_blank\" href=https://colab.research.google.com/notebooks/data_table.ipynb>data table notebook</a>'\n",
              "            + ' to learn more about interactive tables.';\n",
              "          element.innerHTML = '';\n",
              "          dataTable['output_type'] = 'display_data';\n",
              "          await google.colab.output.renderOutput(dataTable, element);\n",
              "          const docLink = document.createElement('div');\n",
              "          docLink.innerHTML = docLinkHtml;\n",
              "          element.appendChild(docLink);\n",
              "        }\n",
              "      </script>\n",
              "    </div>\n",
              "  </div>\n",
              "  "
            ]
          },
          "metadata": {},
          "execution_count": 5
        }
      ]
    },
    {
      "cell_type": "code",
      "source": [
        "type(data)"
      ],
      "metadata": {
        "colab": {
          "base_uri": "https://localhost:8080/"
        },
        "id": "FX-51zvASa_X",
        "outputId": "fa25179a-cb6c-4a2b-d256-4944cfe01a86"
      },
      "execution_count": 6,
      "outputs": [
        {
          "output_type": "execute_result",
          "data": {
            "text/plain": [
              "pandas.core.frame.DataFrame"
            ]
          },
          "metadata": {},
          "execution_count": 6
        }
      ]
    },
    {
      "cell_type": "code",
      "source": [
        "from pyspark.sql import SparkSession # entry point for spark"
      ],
      "metadata": {
        "id": "ZsYW92GcSg4q"
      },
      "execution_count": 7,
      "outputs": []
    },
    {
      "cell_type": "code",
      "source": [
        "spark = SparkSession.builder.appName('Practise').getOrCreate() # object of the spark session "
      ],
      "metadata": {
        "id": "fRU1jKVVSsBm"
      },
      "execution_count": 8,
      "outputs": []
    },
    {
      "cell_type": "code",
      "source": [],
      "metadata": {
        "id": "h4bFf-zpx98L"
      },
      "execution_count": null,
      "outputs": []
    },
    {
      "cell_type": "code",
      "source": [
        "spark"
      ],
      "metadata": {
        "colab": {
          "base_uri": "https://localhost:8080/",
          "height": 219
        },
        "id": "BCBlCzssS_Il",
        "outputId": "24ab1b84-f203-4210-a949-7e1c23aa9563"
      },
      "execution_count": 9,
      "outputs": [
        {
          "output_type": "execute_result",
          "data": {
            "text/plain": [
              "<pyspark.sql.session.SparkSession at 0x7f5b0eee5f50>"
            ],
            "text/html": [
              "\n",
              "            <div>\n",
              "                <p><b>SparkSession - in-memory</b></p>\n",
              "                \n",
              "        <div>\n",
              "            <p><b>SparkContext</b></p>\n",
              "\n",
              "            <p><a href=\"http://c4d459169764:4040\">Spark UI</a></p>\n",
              "\n",
              "            <dl>\n",
              "              <dt>Version</dt>\n",
              "                <dd><code>v3.3.0</code></dd>\n",
              "              <dt>Master</dt>\n",
              "                <dd><code>local[*]</code></dd>\n",
              "              <dt>AppName</dt>\n",
              "                <dd><code>Practise</code></dd>\n",
              "            </dl>\n",
              "        </div>\n",
              "        \n",
              "            </div>\n",
              "        "
            ]
          },
          "metadata": {},
          "execution_count": 9
        }
      ]
    },
    {
      "cell_type": "code",
      "source": [
        "df_spark = spark.read.option('header','true').csv('grades.csv',inferSchema=True) # command for read the csv file using spark"
      ],
      "metadata": {
        "id": "qcyBKMYnTDjn"
      },
      "execution_count": 20,
      "outputs": []
    },
    {
      "cell_type": "code",
      "source": [
        "df_spark.head()"
      ],
      "metadata": {
        "colab": {
          "base_uri": "https://localhost:8080/"
        },
        "id": "P3Uj1fEFi3QP",
        "outputId": "e2299de7-9027-4b76-d6fb-7af67eb39be1"
      },
      "execution_count": 21,
      "outputs": [
        {
          "output_type": "execute_result",
          "data": {
            "text/plain": [
              "Row(Last name='Alfalfa',  \"First name\"='   \"Aloysius\"',  \"SSN\"='   \"123-45-6789\"',         \"Test1\"=' 40.0',  \"Test2\"=90.0,  \"Test3\"=100.0,  \"Test4\"=83.0,  \"Final\"='    49.0',  \"Grade\"='   \"D-\"')"
            ]
          },
          "metadata": {},
          "execution_count": 21
        }
      ]
    },
    {
      "cell_type": "code",
      "source": [
        "df_spark.show()"
      ],
      "metadata": {
        "colab": {
          "base_uri": "https://localhost:8080/"
        },
        "id": "GLcoDC_Si5ZZ",
        "outputId": "adb8dd7a-2588-4638-b789-f709aa9d39d0"
      },
      "execution_count": 22,
      "outputs": [
        {
          "output_type": "stream",
          "name": "stdout",
          "text": [
            "+---------+----------------+--------------------+---------------+--------+--------+--------+--------+--------+\n",
            "|Last name|    \"First name\"|               \"SSN\"|        \"Test1\"| \"Test2\"| \"Test3\"| \"Test4\"| \"Final\"| \"Grade\"|\n",
            "+---------+----------------+--------------------+---------------+--------+--------+--------+--------+--------+\n",
            "|  Alfalfa|      \"Aloysius\"|       \"123-45-6789\"|           40.0|    90.0|   100.0|    83.0|    49.0|    \"D-\"|\n",
            "|   Alfred|    \"University\"|       \"123-12-1234\"|           41.0|    97.0|    96.0|    97.0|    48.0|    \"D+\"|\n",
            "|    Gerty|        \"Gramma\"|       \"567-89-0123\"|           41.0|    80.0|    60.0|    40.0|    44.0|     \"C\"|\n",
            "|  Android|      \"Electric\"|       \"087-65-4321\"|           42.0|    23.0|    36.0|    45.0|    47.0|    \"B-\"|\n",
            "|  Bumpkin|          \"Fred\"|       \"456-78-9012\"|           43.0|    78.0|    88.0|    77.0|    45.0|    \"A-\"|\n",
            "|   Rubble|         \"Betty\"|       \"234-56-7890\"|           44.0|    90.0|    80.0|    90.0|    46.0|    \"C-\"|\n",
            "|   Noshow|         \"Cecil\"|       \"345-67-8901\"|           45.0|    11.0|    -1.0|     4.0|    43.0|     \"F\"|\n",
            "|     Buff|           \"Bif\"|        \"632-79-9...|           46.0|    20.0|    30.0|    40.0|    50.0|    \"B+\"|\n",
            "|  Airpump|        \"Andrew\"|       \"223-45-6789\"|  49.0      1.0|    90.0|   100.0|    83.0|     \"A\"|    null|\n",
            "|   Backus|           \"Jim\"|        \"143-12-1...|           48.0|     1.0|    97.0|    96.0|    97.0|    \"A+\"|\n",
            "|Carnivore|           \"Art\"|        \"565-89-0...|           44.0|     1.0|    80.0|    60.0|    40.0|    \"D+\"|\n",
            "|    Dandy|           \"Jim\"|        \"087-75-4...|           47.0|     1.0|    23.0|    36.0|    45.0|    \"C+\"|\n",
            "| Elephant|           \"Ima\"|        \"456-71-9...|           45.0|     1.0|    78.0|    88.0|    77.0|    \"B-\"|\n",
            "| Franklin|         \"Benny\"|       \"234-56-2890\"|           50.0|     1.0|    90.0|    80.0|    90.0|    \"B-\"|\n",
            "|   George|           \"Boy\"|        \"345-67-3...|           40.0|     1.0|    11.0|    -1.0|     4.0|     \"B\"|\n",
            "|Heffalump|        \"Harvey\"|       \"632-79-9439\"|           30.0|     1.0|    20.0|    30.0|    40.0|     \"C\"|\n",
            "+---------+----------------+--------------------+---------------+--------+--------+--------+--------+--------+\n",
            "\n"
          ]
        }
      ]
    },
    {
      "cell_type": "code",
      "source": [
        "df_spark.head(3)"
      ],
      "metadata": {
        "colab": {
          "base_uri": "https://localhost:8080/"
        },
        "id": "vzAQ5MOalBLQ",
        "outputId": "cf446692-2758-4c3c-9400-363d9719b551"
      },
      "execution_count": 23,
      "outputs": [
        {
          "output_type": "execute_result",
          "data": {
            "text/plain": [
              "[Row(Last name='Alfalfa',  \"First name\"='   \"Aloysius\"',  \"SSN\"='   \"123-45-6789\"',         \"Test1\"=' 40.0',  \"Test2\"=90.0,  \"Test3\"=100.0,  \"Test4\"=83.0,  \"Final\"='    49.0',  \"Grade\"='   \"D-\"'),\n",
              " Row(Last name='Alfred',  \"First name\"='    \"University\"',  \"SSN\"=' \"123-12-1234\"',         \"Test1\"=' 41.0',  \"Test2\"=97.0,  \"Test3\"=96.0,  \"Test4\"=97.0,  \"Final\"='    48.0',  \"Grade\"='   \"D+\"'),\n",
              " Row(Last name='Gerty',  \"First name\"='     \"Gramma\"',  \"SSN\"='     \"567-89-0123\"',         \"Test1\"=' 41.0',  \"Test2\"=80.0,  \"Test3\"=60.0,  \"Test4\"=40.0,  \"Final\"='    44.0',  \"Grade\"='   \"C\"')]"
            ]
          },
          "metadata": {},
          "execution_count": 23
        }
      ]
    },
    {
      "cell_type": "code",
      "source": [
        "df_spark.tail(2)"
      ],
      "metadata": {
        "colab": {
          "base_uri": "https://localhost:8080/"
        },
        "id": "ziBcNMpJlFns",
        "outputId": "82bc0b55-61a1-4b3b-fb1f-fd5c6533d2de"
      },
      "execution_count": 24,
      "outputs": [
        {
          "output_type": "execute_result",
          "data": {
            "text/plain": [
              "[Row(Last name='George',  \"First name\"='    \"Boy\"',  \"SSN\"='        \"345-67-3901\"',         \"Test1\"=' 40.0',  \"Test2\"=1.0,  \"Test3\"=11.0,  \"Test4\"=-1.0,  \"Final\"='     4.0',  \"Grade\"='   \"B\"'),\n",
              " Row(Last name='Heffalump',  \"First name\"=' \"Harvey\"',  \"SSN\"='     \"632-79-9439\"',         \"Test1\"=' 30.0',  \"Test2\"=1.0,  \"Test3\"=20.0,  \"Test4\"=30.0,  \"Final\"='    40.0',  \"Grade\"='   \"C\"')]"
            ]
          },
          "metadata": {},
          "execution_count": 24
        }
      ]
    },
    {
      "cell_type": "code",
      "source": [
        "df_spark.select([\"Last name\" ]).show() # working like sql (select statement)"
      ],
      "metadata": {
        "colab": {
          "base_uri": "https://localhost:8080/"
        },
        "id": "_QycXdRJlKm4",
        "outputId": "a68c686a-7a88-4b99-f47c-8a36e47c00d7"
      },
      "execution_count": 30,
      "outputs": [
        {
          "output_type": "stream",
          "name": "stdout",
          "text": [
            "+---------+\n",
            "|Last name|\n",
            "+---------+\n",
            "|  Alfalfa|\n",
            "|   Alfred|\n",
            "|    Gerty|\n",
            "|  Android|\n",
            "|  Bumpkin|\n",
            "|   Rubble|\n",
            "|   Noshow|\n",
            "|     Buff|\n",
            "|  Airpump|\n",
            "|   Backus|\n",
            "|Carnivore|\n",
            "|    Dandy|\n",
            "| Elephant|\n",
            "| Franklin|\n",
            "|   George|\n",
            "|Heffalump|\n",
            "+---------+\n",
            "\n"
          ]
        }
      ]
    },
    {
      "cell_type": "code",
      "source": [
        "df_spark.printSchema()"
      ],
      "metadata": {
        "colab": {
          "base_uri": "https://localhost:8080/"
        },
        "id": "RhoiCwedlkzW",
        "outputId": "4042c110-889c-46ee-91f7-3c4729f283c7"
      },
      "execution_count": 31,
      "outputs": [
        {
          "output_type": "stream",
          "name": "stdout",
          "text": [
            "root\n",
            " |-- Last name: string (nullable = true)\n",
            " |--  \"First name\": string (nullable = true)\n",
            " |--  \"SSN\": string (nullable = true)\n",
            " |--         \"Test1\": string (nullable = true)\n",
            " |--  \"Test2\": double (nullable = true)\n",
            " |--  \"Test3\": double (nullable = true)\n",
            " |--  \"Test4\": double (nullable = true)\n",
            " |--  \"Final\": string (nullable = true)\n",
            " |--  \"Grade\": string (nullable = true)\n",
            "\n"
          ]
        }
      ]
    },
    {
      "cell_type": "code",
      "source": [
        "df_spark.dtypes"
      ],
      "metadata": {
        "colab": {
          "base_uri": "https://localhost:8080/"
        },
        "id": "429RCraCpfq3",
        "outputId": "a696d780-1479-4e48-ace2-30d4fb792a22"
      },
      "execution_count": 32,
      "outputs": [
        {
          "output_type": "execute_result",
          "data": {
            "text/plain": [
              "[('Last name', 'string'),\n",
              " (' \"First name\"', 'string'),\n",
              " (' \"SSN\"', 'string'),\n",
              " ('        \"Test1\"', 'string'),\n",
              " (' \"Test2\"', 'double'),\n",
              " (' \"Test3\"', 'double'),\n",
              " (' \"Test4\"', 'double'),\n",
              " (' \"Final\"', 'string'),\n",
              " (' \"Grade\"', 'string')]"
            ]
          },
          "metadata": {},
          "execution_count": 32
        }
      ]
    },
    {
      "cell_type": "code",
      "source": [
        "df_spark.describe().show()"
      ],
      "metadata": {
        "colab": {
          "base_uri": "https://localhost:8080/"
        },
        "id": "ZxCLycR4wmoL",
        "outputId": "12f46fa3-1dd7-49cf-8fb2-2884c44b38d9"
      },
      "execution_count": 33,
      "outputs": [
        {
          "output_type": "stream",
          "name": "stdout",
          "text": [
            "+-------+---------+-------------+--------------------+-----------------+-----------------+------------------+-----------------+------------------+--------+\n",
            "|summary|Last name| \"First name\"|               \"SSN\"|          \"Test1\"|          \"Test2\"|           \"Test3\"|          \"Test4\"|           \"Final\"| \"Grade\"|\n",
            "+-------+---------+-------------+--------------------+-----------------+-----------------+------------------+-----------------+------------------+--------+\n",
            "|  count|       16|           16|                  16|               16|               16|                16|               16|                16|      15|\n",
            "|   mean|     null|         null|                null|43.06666666666667|           36.625|             61.75|            59.25|              51.0|    null|\n",
            "| stddev|     null|         null|                null|4.667006790326364|41.46303574671461|35.768701402203575|32.08841951026361|22.367067628227762|    null|\n",
            "|    min|  Airpump|        \"Bif\"|        \"087-75-4...|             30.0|              1.0|              -1.0|             -1.0|               4.0|    \"A+\"|\n",
            "|    max|   Rubble|     \"Harvey\"|       \"123-12-1234\"|             50.0|             97.0|             100.0|             97.0|               \"A\"|     \"F\"|\n",
            "+-------+---------+-------------+--------------------+-----------------+-----------------+------------------+-----------------+------------------+--------+\n",
            "\n"
          ]
        }
      ]
    },
    {
      "cell_type": "code",
      "source": [
        "# adding colunm to my dataframe\n",
        "\n",
        "df_spark = df_spark.withColumn('modifiing the last name ',df_spark['Last name']+\"2\")"
      ],
      "metadata": {
        "id": "Ej7p725-ycqx"
      },
      "execution_count": 40,
      "outputs": []
    },
    {
      "cell_type": "code",
      "source": [
        "df_spark.show()"
      ],
      "metadata": {
        "colab": {
          "base_uri": "https://localhost:8080/"
        },
        "id": "m2aX2dgdz_nI",
        "outputId": "397b9526-3c66-43d4-8710-64ff43637460"
      },
      "execution_count": 41,
      "outputs": [
        {
          "output_type": "stream",
          "name": "stdout",
          "text": [
            "+---------+----------------+--------------------+---------------+--------+--------+--------+--------+--------+------------------------+\n",
            "|Last name|    \"First name\"|               \"SSN\"|        \"Test1\"| \"Test2\"| \"Test3\"| \"Test4\"| \"Final\"| \"Grade\"|modifiing the last name |\n",
            "+---------+----------------+--------------------+---------------+--------+--------+--------+--------+--------+------------------------+\n",
            "|  Alfalfa|      \"Aloysius\"|       \"123-45-6789\"|           40.0|    90.0|   100.0|    83.0|    49.0|    \"D-\"|                    null|\n",
            "|   Alfred|    \"University\"|       \"123-12-1234\"|           41.0|    97.0|    96.0|    97.0|    48.0|    \"D+\"|                    null|\n",
            "|    Gerty|        \"Gramma\"|       \"567-89-0123\"|           41.0|    80.0|    60.0|    40.0|    44.0|     \"C\"|                    null|\n",
            "|  Android|      \"Electric\"|       \"087-65-4321\"|           42.0|    23.0|    36.0|    45.0|    47.0|    \"B-\"|                    null|\n",
            "|  Bumpkin|          \"Fred\"|       \"456-78-9012\"|           43.0|    78.0|    88.0|    77.0|    45.0|    \"A-\"|                    null|\n",
            "|   Rubble|         \"Betty\"|       \"234-56-7890\"|           44.0|    90.0|    80.0|    90.0|    46.0|    \"C-\"|                    null|\n",
            "|   Noshow|         \"Cecil\"|       \"345-67-8901\"|           45.0|    11.0|    -1.0|     4.0|    43.0|     \"F\"|                    null|\n",
            "|     Buff|           \"Bif\"|        \"632-79-9...|           46.0|    20.0|    30.0|    40.0|    50.0|    \"B+\"|                    null|\n",
            "|  Airpump|        \"Andrew\"|       \"223-45-6789\"|  49.0      1.0|    90.0|   100.0|    83.0|     \"A\"|    null|                    null|\n",
            "|   Backus|           \"Jim\"|        \"143-12-1...|           48.0|     1.0|    97.0|    96.0|    97.0|    \"A+\"|                    null|\n",
            "|Carnivore|           \"Art\"|        \"565-89-0...|           44.0|     1.0|    80.0|    60.0|    40.0|    \"D+\"|                    null|\n",
            "|    Dandy|           \"Jim\"|        \"087-75-4...|           47.0|     1.0|    23.0|    36.0|    45.0|    \"C+\"|                    null|\n",
            "| Elephant|           \"Ima\"|        \"456-71-9...|           45.0|     1.0|    78.0|    88.0|    77.0|    \"B-\"|                    null|\n",
            "| Franklin|         \"Benny\"|       \"234-56-2890\"|           50.0|     1.0|    90.0|    80.0|    90.0|    \"B-\"|                    null|\n",
            "|   George|           \"Boy\"|        \"345-67-3...|           40.0|     1.0|    11.0|    -1.0|     4.0|     \"B\"|                    null|\n",
            "|Heffalump|        \"Harvey\"|       \"632-79-9439\"|           30.0|     1.0|    20.0|    30.0|    40.0|     \"C\"|                    null|\n",
            "+---------+----------------+--------------------+---------------+--------+--------+--------+--------+--------+------------------------+\n",
            "\n"
          ]
        }
      ]
    },
    {
      "cell_type": "code",
      "source": [
        "# drop the Colunms\n",
        "\n",
        "\n",
        "df_spark = df_spark.drop('modifiing the last name ')"
      ],
      "metadata": {
        "id": "1brT1BbU0l8B"
      },
      "execution_count": 42,
      "outputs": []
    },
    {
      "cell_type": "code",
      "source": [
        "df_spark.show()"
      ],
      "metadata": {
        "colab": {
          "base_uri": "https://localhost:8080/"
        },
        "id": "YFHfIWU31eyN",
        "outputId": "36b7b636-ca4e-4091-a2b0-b987e04ce836"
      },
      "execution_count": 43,
      "outputs": [
        {
          "output_type": "stream",
          "name": "stdout",
          "text": [
            "+---------+----------------+--------------------+---------------+--------+--------+--------+--------+--------+\n",
            "|Last name|    \"First name\"|               \"SSN\"|        \"Test1\"| \"Test2\"| \"Test3\"| \"Test4\"| \"Final\"| \"Grade\"|\n",
            "+---------+----------------+--------------------+---------------+--------+--------+--------+--------+--------+\n",
            "|  Alfalfa|      \"Aloysius\"|       \"123-45-6789\"|           40.0|    90.0|   100.0|    83.0|    49.0|    \"D-\"|\n",
            "|   Alfred|    \"University\"|       \"123-12-1234\"|           41.0|    97.0|    96.0|    97.0|    48.0|    \"D+\"|\n",
            "|    Gerty|        \"Gramma\"|       \"567-89-0123\"|           41.0|    80.0|    60.0|    40.0|    44.0|     \"C\"|\n",
            "|  Android|      \"Electric\"|       \"087-65-4321\"|           42.0|    23.0|    36.0|    45.0|    47.0|    \"B-\"|\n",
            "|  Bumpkin|          \"Fred\"|       \"456-78-9012\"|           43.0|    78.0|    88.0|    77.0|    45.0|    \"A-\"|\n",
            "|   Rubble|         \"Betty\"|       \"234-56-7890\"|           44.0|    90.0|    80.0|    90.0|    46.0|    \"C-\"|\n",
            "|   Noshow|         \"Cecil\"|       \"345-67-8901\"|           45.0|    11.0|    -1.0|     4.0|    43.0|     \"F\"|\n",
            "|     Buff|           \"Bif\"|        \"632-79-9...|           46.0|    20.0|    30.0|    40.0|    50.0|    \"B+\"|\n",
            "|  Airpump|        \"Andrew\"|       \"223-45-6789\"|  49.0      1.0|    90.0|   100.0|    83.0|     \"A\"|    null|\n",
            "|   Backus|           \"Jim\"|        \"143-12-1...|           48.0|     1.0|    97.0|    96.0|    97.0|    \"A+\"|\n",
            "|Carnivore|           \"Art\"|        \"565-89-0...|           44.0|     1.0|    80.0|    60.0|    40.0|    \"D+\"|\n",
            "|    Dandy|           \"Jim\"|        \"087-75-4...|           47.0|     1.0|    23.0|    36.0|    45.0|    \"C+\"|\n",
            "| Elephant|           \"Ima\"|        \"456-71-9...|           45.0|     1.0|    78.0|    88.0|    77.0|    \"B-\"|\n",
            "| Franklin|         \"Benny\"|       \"234-56-2890\"|           50.0|     1.0|    90.0|    80.0|    90.0|    \"B-\"|\n",
            "|   George|           \"Boy\"|        \"345-67-3...|           40.0|     1.0|    11.0|    -1.0|     4.0|     \"B\"|\n",
            "|Heffalump|        \"Harvey\"|       \"632-79-9439\"|           30.0|     1.0|    20.0|    30.0|    40.0|     \"C\"|\n",
            "+---------+----------------+--------------------+---------------+--------+--------+--------+--------+--------+\n",
            "\n"
          ]
        }
      ]
    },
    {
      "cell_type": "code",
      "source": [
        "# Renaming the Column\n",
        "\n",
        "df_spark = df_spark.withColumnRenamed('Last name','last')"
      ],
      "metadata": {
        "id": "U_by1Cf71hBz"
      },
      "execution_count": 44,
      "outputs": []
    },
    {
      "cell_type": "code",
      "source": [
        "df_spark.show()"
      ],
      "metadata": {
        "colab": {
          "base_uri": "https://localhost:8080/"
        },
        "id": "CrvirjO714YV",
        "outputId": "24009d7b-32e4-4a34-9e41-7fffb6d35adb"
      },
      "execution_count": 45,
      "outputs": [
        {
          "output_type": "stream",
          "name": "stdout",
          "text": [
            "+---------+----------------+--------------------+---------------+--------+--------+--------+--------+--------+\n",
            "|     last|    \"First name\"|               \"SSN\"|        \"Test1\"| \"Test2\"| \"Test3\"| \"Test4\"| \"Final\"| \"Grade\"|\n",
            "+---------+----------------+--------------------+---------------+--------+--------+--------+--------+--------+\n",
            "|  Alfalfa|      \"Aloysius\"|       \"123-45-6789\"|           40.0|    90.0|   100.0|    83.0|    49.0|    \"D-\"|\n",
            "|   Alfred|    \"University\"|       \"123-12-1234\"|           41.0|    97.0|    96.0|    97.0|    48.0|    \"D+\"|\n",
            "|    Gerty|        \"Gramma\"|       \"567-89-0123\"|           41.0|    80.0|    60.0|    40.0|    44.0|     \"C\"|\n",
            "|  Android|      \"Electric\"|       \"087-65-4321\"|           42.0|    23.0|    36.0|    45.0|    47.0|    \"B-\"|\n",
            "|  Bumpkin|          \"Fred\"|       \"456-78-9012\"|           43.0|    78.0|    88.0|    77.0|    45.0|    \"A-\"|\n",
            "|   Rubble|         \"Betty\"|       \"234-56-7890\"|           44.0|    90.0|    80.0|    90.0|    46.0|    \"C-\"|\n",
            "|   Noshow|         \"Cecil\"|       \"345-67-8901\"|           45.0|    11.0|    -1.0|     4.0|    43.0|     \"F\"|\n",
            "|     Buff|           \"Bif\"|        \"632-79-9...|           46.0|    20.0|    30.0|    40.0|    50.0|    \"B+\"|\n",
            "|  Airpump|        \"Andrew\"|       \"223-45-6789\"|  49.0      1.0|    90.0|   100.0|    83.0|     \"A\"|    null|\n",
            "|   Backus|           \"Jim\"|        \"143-12-1...|           48.0|     1.0|    97.0|    96.0|    97.0|    \"A+\"|\n",
            "|Carnivore|           \"Art\"|        \"565-89-0...|           44.0|     1.0|    80.0|    60.0|    40.0|    \"D+\"|\n",
            "|    Dandy|           \"Jim\"|        \"087-75-4...|           47.0|     1.0|    23.0|    36.0|    45.0|    \"C+\"|\n",
            "| Elephant|           \"Ima\"|        \"456-71-9...|           45.0|     1.0|    78.0|    88.0|    77.0|    \"B-\"|\n",
            "| Franklin|         \"Benny\"|       \"234-56-2890\"|           50.0|     1.0|    90.0|    80.0|    90.0|    \"B-\"|\n",
            "|   George|           \"Boy\"|        \"345-67-3...|           40.0|     1.0|    11.0|    -1.0|     4.0|     \"B\"|\n",
            "|Heffalump|        \"Harvey\"|       \"632-79-9439\"|           30.0|     1.0|    20.0|    30.0|    40.0|     \"C\"|\n",
            "+---------+----------------+--------------------+---------------+--------+--------+--------+--------+--------+\n",
            "\n"
          ]
        }
      ]
    },
    {
      "cell_type": "code",
      "source": [
        "# Handling the null value or missing values\n",
        "\n",
        "\n",
        "df = spark.read.csv('updated_grades.csv',header = True , inferSchema=True)"
      ],
      "metadata": {
        "id": "VanmNZC117jC"
      },
      "execution_count": 96,
      "outputs": []
    },
    {
      "cell_type": "code",
      "source": [
        "df.show()"
      ],
      "metadata": {
        "colab": {
          "base_uri": "https://localhost:8080/"
        },
        "id": "0ntxXg0m7bT9",
        "outputId": "518a796f-7273-4353-af0a-3f1dfe6e2030"
      },
      "execution_count": 97,
      "outputs": [
        {
          "output_type": "stream",
          "name": "stdout",
          "text": [
            "+---------+--------------------+--------------------+--------------+-----+-----+-----+-----+-----+\n",
            "|Last name|          First name|                 SSN|         Test1|Test2|Test3|Test4|Final|Grade|\n",
            "+---------+--------------------+--------------------+--------------+-----+-----+-----+-----+-----+\n",
            "|  Alfalfa|   \"   \"\"Aloysius\"\"\"|\"   \"\"123-45-6789\"\"\"|            40|   90|  100|   83|   49|    D|\n",
            "|   Alfred|\"    \"\"University\"\"\"|  \" \"\"123-12-1234\"\"\"|            41|   97|   96|   97|   48|    D|\n",
            "|    Gerty|   \"     \"\"Gramma\"\"\"|\"     \"\"567-89-01...|            41|   80|   60|   40|   44|    C|\n",
            "|  Android|   \"   \"\"Electric\"\"\"|\"   \"\"087-65-4321\"\"\"|            42|   23|   36|   45|   47|    B|\n",
            "|  Bumpkin|       \"   \"\"Fred\"\"\"|\"       \"\"456-78-...|            43|   78|   88|   77|   45|    A|\n",
            "|   Rubble|     \"    \"\"Betty\"\"\"|\"      \"\"234-56-7...|            44|   90|   80|   90|   46|    C|\n",
            "|   Noshow|     \"    \"\"Cecil\"\"\"|\"      \"\"345-67-8...|            45|   11| null|    4|   43|    F|\n",
            "|     Buff|     \"      \"\"Bif\"\"\"|\"        \"\"632-79...|            46|   20|   30|   40|   50|    B|\n",
            "|  Airpump|     \"   \"\"Andrew\"\"\"|\"     \"\"223-45-67...| 49.0      1.0|   90|  100|   83| null|    A|\n",
            "|   Backus|       \"    \"\"Jim\"\"\"|\"        \"\"143-12...|            48| null|   97|   96|   97|    A|\n",
            "|Carnivore|          \" \"\"Art\"\"\"|\"        \"\"565-89...|            44|    1|   80|   60|   40|    D|\n",
            "|    Dandy|      \"     \"\"Jim\"\"\"|\"        \"\"087-75...|            47|    1|   23|   36|   45|    C|\n",
            "| Elephant|         \"  \"\"Ima\"\"\"|\"        \"\"456-71...|            45|    1|   78|   88|   77|    B|\n",
            "| Franklin|       \"  \"\"Benny\"\"\"|\"      \"\"234-56-2...|            50|    1|   90|   80|   90|    B|\n",
            "|   George|       \"    \"\"Boy\"\"\"|\"        \"\"345-67...|          null|    1|   11| null|    4|    A|\n",
            "|Heffalump|       \" \"\"Harvey\"\"\"|\"     \"\"632-79-94...|            30|    1|   20|   30|   40|    C|\n",
            "+---------+--------------------+--------------------+--------------+-----+-----+-----+-----+-----+\n",
            "\n"
          ]
        }
      ]
    },
    {
      "cell_type": "code",
      "source": [
        "df.printSchema()"
      ],
      "metadata": {
        "colab": {
          "base_uri": "https://localhost:8080/"
        },
        "id": "Qn3GDahc7nO7",
        "outputId": "584b9d26-5293-4a84-fda0-9049855eb7d6"
      },
      "execution_count": 98,
      "outputs": [
        {
          "output_type": "stream",
          "name": "stdout",
          "text": [
            "root\n",
            " |-- Last name: string (nullable = true)\n",
            " |-- First name: string (nullable = true)\n",
            " |-- SSN: string (nullable = true)\n",
            " |-- Test1: string (nullable = true)\n",
            " |-- Test2: integer (nullable = true)\n",
            " |-- Test3: integer (nullable = true)\n",
            " |-- Test4: integer (nullable = true)\n",
            " |-- Final: integer (nullable = true)\n",
            " |-- Grade: string (nullable = true)\n",
            "\n"
          ]
        }
      ]
    },
    {
      "cell_type": "code",
      "source": [
        "df.dtypes"
      ],
      "metadata": {
        "colab": {
          "base_uri": "https://localhost:8080/"
        },
        "id": "jbB8KPjC7ymk",
        "outputId": "d1760cb5-9b70-4fed-b695-0523bdbd3494"
      },
      "execution_count": 99,
      "outputs": [
        {
          "output_type": "execute_result",
          "data": {
            "text/plain": [
              "[('Last name', 'string'),\n",
              " ('First name', 'string'),\n",
              " ('SSN', 'string'),\n",
              " ('Test1', 'string'),\n",
              " ('Test2', 'int'),\n",
              " ('Test3', 'int'),\n",
              " ('Test4', 'int'),\n",
              " ('Final', 'int'),\n",
              " ('Grade', 'string')]"
            ]
          },
          "metadata": {},
          "execution_count": 99
        }
      ]
    },
    {
      "cell_type": "code",
      "source": [
        "df.describe().show()"
      ],
      "metadata": {
        "colab": {
          "base_uri": "https://localhost:8080/"
        },
        "id": "d3q21EeQCmNh",
        "outputId": "5a077c01-7bfe-4bc4-a4ed-572698f529b4"
      },
      "execution_count": 100,
      "outputs": [
        {
          "output_type": "stream",
          "name": "stdout",
          "text": [
            "+-------+---------+---------------+--------------------+------------------+-----------------+-----------------+------------------+------------------+-----+\n",
            "|summary|Last name|     First name|                 SSN|             Test1|            Test2|            Test3|             Test4|             Final|Grade|\n",
            "+-------+---------+---------------+--------------------+------------------+-----------------+-----------------+------------------+------------------+-----+\n",
            "|  count|       16|             16|                  16|                15|               15|               15|                15|                15|   16|\n",
            "|   mean|     null|           null|                null|43.285714285714285|             39.0|65.93333333333334|63.266666666666666|              51.0| null|\n",
            "| stddev|     null|           null|                null| 4.762490806428783|41.77661683628432|32.72278949571617|28.751314669734583|22.367067628227762| null|\n",
            "|    min|  Airpump|\"      \"\"Bif\"\"\"|\"        \"\"087-75...|     49.0      1.0|                1|               11|                 4|                 4|    A|\n",
            "|    max|   Rubble|  \" \"\"Harvey\"\"\"|  \" \"\"123-12-1234\"\"\"|                50|               97|              100|                97|                97|    F|\n",
            "+-------+---------+---------------+--------------------+------------------+-----------------+-----------------+------------------+------------------+-----+\n",
            "\n"
          ]
        }
      ]
    },
    {
      "cell_type": "code",
      "source": [
        "df.show()"
      ],
      "metadata": {
        "colab": {
          "base_uri": "https://localhost:8080/"
        },
        "id": "582-VaQeCqZ3",
        "outputId": "896e3b03-6087-4596-b114-6a8cb26ea8b8"
      },
      "execution_count": 101,
      "outputs": [
        {
          "output_type": "stream",
          "name": "stdout",
          "text": [
            "+---------+--------------------+--------------------+--------------+-----+-----+-----+-----+-----+\n",
            "|Last name|          First name|                 SSN|         Test1|Test2|Test3|Test4|Final|Grade|\n",
            "+---------+--------------------+--------------------+--------------+-----+-----+-----+-----+-----+\n",
            "|  Alfalfa|   \"   \"\"Aloysius\"\"\"|\"   \"\"123-45-6789\"\"\"|            40|   90|  100|   83|   49|    D|\n",
            "|   Alfred|\"    \"\"University\"\"\"|  \" \"\"123-12-1234\"\"\"|            41|   97|   96|   97|   48|    D|\n",
            "|    Gerty|   \"     \"\"Gramma\"\"\"|\"     \"\"567-89-01...|            41|   80|   60|   40|   44|    C|\n",
            "|  Android|   \"   \"\"Electric\"\"\"|\"   \"\"087-65-4321\"\"\"|            42|   23|   36|   45|   47|    B|\n",
            "|  Bumpkin|       \"   \"\"Fred\"\"\"|\"       \"\"456-78-...|            43|   78|   88|   77|   45|    A|\n",
            "|   Rubble|     \"    \"\"Betty\"\"\"|\"      \"\"234-56-7...|            44|   90|   80|   90|   46|    C|\n",
            "|   Noshow|     \"    \"\"Cecil\"\"\"|\"      \"\"345-67-8...|            45|   11| null|    4|   43|    F|\n",
            "|     Buff|     \"      \"\"Bif\"\"\"|\"        \"\"632-79...|            46|   20|   30|   40|   50|    B|\n",
            "|  Airpump|     \"   \"\"Andrew\"\"\"|\"     \"\"223-45-67...| 49.0      1.0|   90|  100|   83| null|    A|\n",
            "|   Backus|       \"    \"\"Jim\"\"\"|\"        \"\"143-12...|            48| null|   97|   96|   97|    A|\n",
            "|Carnivore|          \" \"\"Art\"\"\"|\"        \"\"565-89...|            44|    1|   80|   60|   40|    D|\n",
            "|    Dandy|      \"     \"\"Jim\"\"\"|\"        \"\"087-75...|            47|    1|   23|   36|   45|    C|\n",
            "| Elephant|         \"  \"\"Ima\"\"\"|\"        \"\"456-71...|            45|    1|   78|   88|   77|    B|\n",
            "| Franklin|       \"  \"\"Benny\"\"\"|\"      \"\"234-56-2...|            50|    1|   90|   80|   90|    B|\n",
            "|   George|       \"    \"\"Boy\"\"\"|\"        \"\"345-67...|          null|    1|   11| null|    4|    A|\n",
            "|Heffalump|       \" \"\"Harvey\"\"\"|\"     \"\"632-79-94...|            30|    1|   20|   30|   40|    C|\n",
            "+---------+--------------------+--------------------+--------------+-----+-----+-----+-----+-----+\n",
            "\n"
          ]
        }
      ]
    },
    {
      "cell_type": "code",
      "source": [
        "#droping the ssn colunm from the dataset \n",
        "\n",
        "df = df.drop('SSN')"
      ],
      "metadata": {
        "id": "UpRLv3_ECwci"
      },
      "execution_count": 102,
      "outputs": []
    },
    {
      "cell_type": "code",
      "source": [
        "df.show()"
      ],
      "metadata": {
        "colab": {
          "base_uri": "https://localhost:8080/"
        },
        "id": "2_yIBPdGC9ei",
        "outputId": "3149c624-ad32-43a4-b83e-62d0093b2ff3"
      },
      "execution_count": 103,
      "outputs": [
        {
          "output_type": "stream",
          "name": "stdout",
          "text": [
            "+---------+--------------------+--------------+-----+-----+-----+-----+-----+\n",
            "|Last name|          First name|         Test1|Test2|Test3|Test4|Final|Grade|\n",
            "+---------+--------------------+--------------+-----+-----+-----+-----+-----+\n",
            "|  Alfalfa|   \"   \"\"Aloysius\"\"\"|            40|   90|  100|   83|   49|    D|\n",
            "|   Alfred|\"    \"\"University\"\"\"|            41|   97|   96|   97|   48|    D|\n",
            "|    Gerty|   \"     \"\"Gramma\"\"\"|            41|   80|   60|   40|   44|    C|\n",
            "|  Android|   \"   \"\"Electric\"\"\"|            42|   23|   36|   45|   47|    B|\n",
            "|  Bumpkin|       \"   \"\"Fred\"\"\"|            43|   78|   88|   77|   45|    A|\n",
            "|   Rubble|     \"    \"\"Betty\"\"\"|            44|   90|   80|   90|   46|    C|\n",
            "|   Noshow|     \"    \"\"Cecil\"\"\"|            45|   11| null|    4|   43|    F|\n",
            "|     Buff|     \"      \"\"Bif\"\"\"|            46|   20|   30|   40|   50|    B|\n",
            "|  Airpump|     \"   \"\"Andrew\"\"\"| 49.0      1.0|   90|  100|   83| null|    A|\n",
            "|   Backus|       \"    \"\"Jim\"\"\"|            48| null|   97|   96|   97|    A|\n",
            "|Carnivore|          \" \"\"Art\"\"\"|            44|    1|   80|   60|   40|    D|\n",
            "|    Dandy|      \"     \"\"Jim\"\"\"|            47|    1|   23|   36|   45|    C|\n",
            "| Elephant|         \"  \"\"Ima\"\"\"|            45|    1|   78|   88|   77|    B|\n",
            "| Franklin|       \"  \"\"Benny\"\"\"|            50|    1|   90|   80|   90|    B|\n",
            "|   George|       \"    \"\"Boy\"\"\"|          null|    1|   11| null|    4|    A|\n",
            "|Heffalump|       \" \"\"Harvey\"\"\"|            30|    1|   20|   30|   40|    C|\n",
            "+---------+--------------------+--------------+-----+-----+-----+-----+-----+\n",
            "\n"
          ]
        }
      ]
    },
    {
      "cell_type": "code",
      "source": [
        "# droping the row which is having the single null value or more \n",
        "df.na.drop().show()"
      ],
      "metadata": {
        "colab": {
          "base_uri": "https://localhost:8080/"
        },
        "id": "9-2tAYwRC_O8",
        "outputId": "59f51487-b26d-47d4-edac-44572ae194df"
      },
      "execution_count": 104,
      "outputs": [
        {
          "output_type": "stream",
          "name": "stdout",
          "text": [
            "+---------+--------------------+-----+-----+-----+-----+-----+-----+\n",
            "|Last name|          First name|Test1|Test2|Test3|Test4|Final|Grade|\n",
            "+---------+--------------------+-----+-----+-----+-----+-----+-----+\n",
            "|  Alfalfa|   \"   \"\"Aloysius\"\"\"|   40|   90|  100|   83|   49|    D|\n",
            "|   Alfred|\"    \"\"University\"\"\"|   41|   97|   96|   97|   48|    D|\n",
            "|    Gerty|   \"     \"\"Gramma\"\"\"|   41|   80|   60|   40|   44|    C|\n",
            "|  Android|   \"   \"\"Electric\"\"\"|   42|   23|   36|   45|   47|    B|\n",
            "|  Bumpkin|       \"   \"\"Fred\"\"\"|   43|   78|   88|   77|   45|    A|\n",
            "|   Rubble|     \"    \"\"Betty\"\"\"|   44|   90|   80|   90|   46|    C|\n",
            "|     Buff|     \"      \"\"Bif\"\"\"|   46|   20|   30|   40|   50|    B|\n",
            "|Carnivore|          \" \"\"Art\"\"\"|   44|    1|   80|   60|   40|    D|\n",
            "|    Dandy|      \"     \"\"Jim\"\"\"|   47|    1|   23|   36|   45|    C|\n",
            "| Elephant|         \"  \"\"Ima\"\"\"|   45|    1|   78|   88|   77|    B|\n",
            "| Franklin|       \"  \"\"Benny\"\"\"|   50|    1|   90|   80|   90|    B|\n",
            "|Heffalump|       \" \"\"Harvey\"\"\"|   30|    1|   20|   30|   40|    C|\n",
            "+---------+--------------------+-----+-----+-----+-----+-----+-----+\n",
            "\n"
          ]
        }
      ]
    },
    {
      "cell_type": "code",
      "source": [
        "# another method to dropping the null value \n",
        "\n",
        "df.na.drop(how='any').show()"
      ],
      "metadata": {
        "colab": {
          "base_uri": "https://localhost:8080/"
        },
        "id": "25g31xKsDSaU",
        "outputId": "3ef55d82-7521-4952-8a83-698a6e9ca1e3"
      },
      "execution_count": 105,
      "outputs": [
        {
          "output_type": "stream",
          "name": "stdout",
          "text": [
            "+---------+--------------------+-----+-----+-----+-----+-----+-----+\n",
            "|Last name|          First name|Test1|Test2|Test3|Test4|Final|Grade|\n",
            "+---------+--------------------+-----+-----+-----+-----+-----+-----+\n",
            "|  Alfalfa|   \"   \"\"Aloysius\"\"\"|   40|   90|  100|   83|   49|    D|\n",
            "|   Alfred|\"    \"\"University\"\"\"|   41|   97|   96|   97|   48|    D|\n",
            "|    Gerty|   \"     \"\"Gramma\"\"\"|   41|   80|   60|   40|   44|    C|\n",
            "|  Android|   \"   \"\"Electric\"\"\"|   42|   23|   36|   45|   47|    B|\n",
            "|  Bumpkin|       \"   \"\"Fred\"\"\"|   43|   78|   88|   77|   45|    A|\n",
            "|   Rubble|     \"    \"\"Betty\"\"\"|   44|   90|   80|   90|   46|    C|\n",
            "|     Buff|     \"      \"\"Bif\"\"\"|   46|   20|   30|   40|   50|    B|\n",
            "|Carnivore|          \" \"\"Art\"\"\"|   44|    1|   80|   60|   40|    D|\n",
            "|    Dandy|      \"     \"\"Jim\"\"\"|   47|    1|   23|   36|   45|    C|\n",
            "| Elephant|         \"  \"\"Ima\"\"\"|   45|    1|   78|   88|   77|    B|\n",
            "| Franklin|       \"  \"\"Benny\"\"\"|   50|    1|   90|   80|   90|    B|\n",
            "|Heffalump|       \" \"\"Harvey\"\"\"|   30|    1|   20|   30|   40|    C|\n",
            "+---------+--------------------+-----+-----+-----+-----+-----+-----+\n",
            "\n"
          ]
        }
      ]
    },
    {
      "cell_type": "code",
      "source": [
        "df.show()"
      ],
      "metadata": {
        "colab": {
          "base_uri": "https://localhost:8080/"
        },
        "id": "9mDyDD0aDiom",
        "outputId": "bed64a46-40ec-4a46-d128-95244be6c28a"
      },
      "execution_count": 106,
      "outputs": [
        {
          "output_type": "stream",
          "name": "stdout",
          "text": [
            "+---------+--------------------+--------------+-----+-----+-----+-----+-----+\n",
            "|Last name|          First name|         Test1|Test2|Test3|Test4|Final|Grade|\n",
            "+---------+--------------------+--------------+-----+-----+-----+-----+-----+\n",
            "|  Alfalfa|   \"   \"\"Aloysius\"\"\"|            40|   90|  100|   83|   49|    D|\n",
            "|   Alfred|\"    \"\"University\"\"\"|            41|   97|   96|   97|   48|    D|\n",
            "|    Gerty|   \"     \"\"Gramma\"\"\"|            41|   80|   60|   40|   44|    C|\n",
            "|  Android|   \"   \"\"Electric\"\"\"|            42|   23|   36|   45|   47|    B|\n",
            "|  Bumpkin|       \"   \"\"Fred\"\"\"|            43|   78|   88|   77|   45|    A|\n",
            "|   Rubble|     \"    \"\"Betty\"\"\"|            44|   90|   80|   90|   46|    C|\n",
            "|   Noshow|     \"    \"\"Cecil\"\"\"|            45|   11| null|    4|   43|    F|\n",
            "|     Buff|     \"      \"\"Bif\"\"\"|            46|   20|   30|   40|   50|    B|\n",
            "|  Airpump|     \"   \"\"Andrew\"\"\"| 49.0      1.0|   90|  100|   83| null|    A|\n",
            "|   Backus|       \"    \"\"Jim\"\"\"|            48| null|   97|   96|   97|    A|\n",
            "|Carnivore|          \" \"\"Art\"\"\"|            44|    1|   80|   60|   40|    D|\n",
            "|    Dandy|      \"     \"\"Jim\"\"\"|            47|    1|   23|   36|   45|    C|\n",
            "| Elephant|         \"  \"\"Ima\"\"\"|            45|    1|   78|   88|   77|    B|\n",
            "| Franklin|       \"  \"\"Benny\"\"\"|            50|    1|   90|   80|   90|    B|\n",
            "|   George|       \"    \"\"Boy\"\"\"|          null|    1|   11| null|    4|    A|\n",
            "|Heffalump|       \" \"\"Harvey\"\"\"|            30|    1|   20|   30|   40|    C|\n",
            "+---------+--------------------+--------------+-----+-----+-----+-----+-----+\n",
            "\n"
          ]
        }
      ]
    },
    {
      "cell_type": "code",
      "source": [
        "# using the threshold argument \n",
        "\n",
        "df.na.drop(how='any',thresh=4).show()"
      ],
      "metadata": {
        "colab": {
          "base_uri": "https://localhost:8080/"
        },
        "id": "LgesC-1CDlEC",
        "outputId": "11bdc49b-b10d-4749-dfc3-bff7f48eca18"
      },
      "execution_count": 107,
      "outputs": [
        {
          "output_type": "stream",
          "name": "stdout",
          "text": [
            "+---------+--------------------+--------------+-----+-----+-----+-----+-----+\n",
            "|Last name|          First name|         Test1|Test2|Test3|Test4|Final|Grade|\n",
            "+---------+--------------------+--------------+-----+-----+-----+-----+-----+\n",
            "|  Alfalfa|   \"   \"\"Aloysius\"\"\"|            40|   90|  100|   83|   49|    D|\n",
            "|   Alfred|\"    \"\"University\"\"\"|            41|   97|   96|   97|   48|    D|\n",
            "|    Gerty|   \"     \"\"Gramma\"\"\"|            41|   80|   60|   40|   44|    C|\n",
            "|  Android|   \"   \"\"Electric\"\"\"|            42|   23|   36|   45|   47|    B|\n",
            "|  Bumpkin|       \"   \"\"Fred\"\"\"|            43|   78|   88|   77|   45|    A|\n",
            "|   Rubble|     \"    \"\"Betty\"\"\"|            44|   90|   80|   90|   46|    C|\n",
            "|   Noshow|     \"    \"\"Cecil\"\"\"|            45|   11| null|    4|   43|    F|\n",
            "|     Buff|     \"      \"\"Bif\"\"\"|            46|   20|   30|   40|   50|    B|\n",
            "|  Airpump|     \"   \"\"Andrew\"\"\"| 49.0      1.0|   90|  100|   83| null|    A|\n",
            "|   Backus|       \"    \"\"Jim\"\"\"|            48| null|   97|   96|   97|    A|\n",
            "|Carnivore|          \" \"\"Art\"\"\"|            44|    1|   80|   60|   40|    D|\n",
            "|    Dandy|      \"     \"\"Jim\"\"\"|            47|    1|   23|   36|   45|    C|\n",
            "| Elephant|         \"  \"\"Ima\"\"\"|            45|    1|   78|   88|   77|    B|\n",
            "| Franklin|       \"  \"\"Benny\"\"\"|            50|    1|   90|   80|   90|    B|\n",
            "|   George|       \"    \"\"Boy\"\"\"|          null|    1|   11| null|    4|    A|\n",
            "|Heffalump|       \" \"\"Harvey\"\"\"|            30|    1|   20|   30|   40|    C|\n",
            "+---------+--------------------+--------------+-----+-----+-----+-----+-----+\n",
            "\n"
          ]
        }
      ]
    },
    {
      "cell_type": "code",
      "source": [
        "df.show()"
      ],
      "metadata": {
        "colab": {
          "base_uri": "https://localhost:8080/"
        },
        "id": "2C9oMOx8D9Z_",
        "outputId": "d081b9ad-8839-4d16-b892-1d09aa0a5aaa"
      },
      "execution_count": 108,
      "outputs": [
        {
          "output_type": "stream",
          "name": "stdout",
          "text": [
            "+---------+--------------------+--------------+-----+-----+-----+-----+-----+\n",
            "|Last name|          First name|         Test1|Test2|Test3|Test4|Final|Grade|\n",
            "+---------+--------------------+--------------+-----+-----+-----+-----+-----+\n",
            "|  Alfalfa|   \"   \"\"Aloysius\"\"\"|            40|   90|  100|   83|   49|    D|\n",
            "|   Alfred|\"    \"\"University\"\"\"|            41|   97|   96|   97|   48|    D|\n",
            "|    Gerty|   \"     \"\"Gramma\"\"\"|            41|   80|   60|   40|   44|    C|\n",
            "|  Android|   \"   \"\"Electric\"\"\"|            42|   23|   36|   45|   47|    B|\n",
            "|  Bumpkin|       \"   \"\"Fred\"\"\"|            43|   78|   88|   77|   45|    A|\n",
            "|   Rubble|     \"    \"\"Betty\"\"\"|            44|   90|   80|   90|   46|    C|\n",
            "|   Noshow|     \"    \"\"Cecil\"\"\"|            45|   11| null|    4|   43|    F|\n",
            "|     Buff|     \"      \"\"Bif\"\"\"|            46|   20|   30|   40|   50|    B|\n",
            "|  Airpump|     \"   \"\"Andrew\"\"\"| 49.0      1.0|   90|  100|   83| null|    A|\n",
            "|   Backus|       \"    \"\"Jim\"\"\"|            48| null|   97|   96|   97|    A|\n",
            "|Carnivore|          \" \"\"Art\"\"\"|            44|    1|   80|   60|   40|    D|\n",
            "|    Dandy|      \"     \"\"Jim\"\"\"|            47|    1|   23|   36|   45|    C|\n",
            "| Elephant|         \"  \"\"Ima\"\"\"|            45|    1|   78|   88|   77|    B|\n",
            "| Franklin|       \"  \"\"Benny\"\"\"|            50|    1|   90|   80|   90|    B|\n",
            "|   George|       \"    \"\"Boy\"\"\"|          null|    1|   11| null|    4|    A|\n",
            "|Heffalump|       \" \"\"Harvey\"\"\"|            30|    1|   20|   30|   40|    C|\n",
            "+---------+--------------------+--------------+-----+-----+-----+-----+-----+\n",
            "\n"
          ]
        }
      ]
    },
    {
      "cell_type": "code",
      "source": [
        "# using subset argument \n",
        "\n",
        "df.na.drop(how='any',subset = ['Test2']).show()"
      ],
      "metadata": {
        "colab": {
          "base_uri": "https://localhost:8080/"
        },
        "id": "BMZQkGGXEJEl",
        "outputId": "9dc6af8e-da18-4d9d-a0a1-cff731f88083"
      },
      "execution_count": 109,
      "outputs": [
        {
          "output_type": "stream",
          "name": "stdout",
          "text": [
            "+---------+--------------------+--------------+-----+-----+-----+-----+-----+\n",
            "|Last name|          First name|         Test1|Test2|Test3|Test4|Final|Grade|\n",
            "+---------+--------------------+--------------+-----+-----+-----+-----+-----+\n",
            "|  Alfalfa|   \"   \"\"Aloysius\"\"\"|            40|   90|  100|   83|   49|    D|\n",
            "|   Alfred|\"    \"\"University\"\"\"|            41|   97|   96|   97|   48|    D|\n",
            "|    Gerty|   \"     \"\"Gramma\"\"\"|            41|   80|   60|   40|   44|    C|\n",
            "|  Android|   \"   \"\"Electric\"\"\"|            42|   23|   36|   45|   47|    B|\n",
            "|  Bumpkin|       \"   \"\"Fred\"\"\"|            43|   78|   88|   77|   45|    A|\n",
            "|   Rubble|     \"    \"\"Betty\"\"\"|            44|   90|   80|   90|   46|    C|\n",
            "|   Noshow|     \"    \"\"Cecil\"\"\"|            45|   11| null|    4|   43|    F|\n",
            "|     Buff|     \"      \"\"Bif\"\"\"|            46|   20|   30|   40|   50|    B|\n",
            "|  Airpump|     \"   \"\"Andrew\"\"\"| 49.0      1.0|   90|  100|   83| null|    A|\n",
            "|Carnivore|          \" \"\"Art\"\"\"|            44|    1|   80|   60|   40|    D|\n",
            "|    Dandy|      \"     \"\"Jim\"\"\"|            47|    1|   23|   36|   45|    C|\n",
            "| Elephant|         \"  \"\"Ima\"\"\"|            45|    1|   78|   88|   77|    B|\n",
            "| Franklin|       \"  \"\"Benny\"\"\"|            50|    1|   90|   80|   90|    B|\n",
            "|   George|       \"    \"\"Boy\"\"\"|          null|    1|   11| null|    4|    A|\n",
            "|Heffalump|       \" \"\"Harvey\"\"\"|            30|    1|   20|   30|   40|    C|\n",
            "+---------+--------------------+--------------+-----+-----+-----+-----+-----+\n",
            "\n"
          ]
        }
      ]
    },
    {
      "cell_type": "code",
      "source": [
        "## Filling the missing values\n",
        "\n",
        "x = df.na.fill('Missing Values', ['Test3'])"
      ],
      "metadata": {
        "id": "kf-CDcmfEUOa"
      },
      "execution_count": 110,
      "outputs": []
    },
    {
      "cell_type": "code",
      "source": [
        "x.show()"
      ],
      "metadata": {
        "colab": {
          "base_uri": "https://localhost:8080/"
        },
        "id": "sIDGlVQKExwQ",
        "outputId": "408ec617-b464-4a0e-ef0d-442c0243e35b"
      },
      "execution_count": 111,
      "outputs": [
        {
          "output_type": "stream",
          "name": "stdout",
          "text": [
            "+---------+--------------------+--------------+-----+-----+-----+-----+-----+\n",
            "|Last name|          First name|         Test1|Test2|Test3|Test4|Final|Grade|\n",
            "+---------+--------------------+--------------+-----+-----+-----+-----+-----+\n",
            "|  Alfalfa|   \"   \"\"Aloysius\"\"\"|            40|   90|  100|   83|   49|    D|\n",
            "|   Alfred|\"    \"\"University\"\"\"|            41|   97|   96|   97|   48|    D|\n",
            "|    Gerty|   \"     \"\"Gramma\"\"\"|            41|   80|   60|   40|   44|    C|\n",
            "|  Android|   \"   \"\"Electric\"\"\"|            42|   23|   36|   45|   47|    B|\n",
            "|  Bumpkin|       \"   \"\"Fred\"\"\"|            43|   78|   88|   77|   45|    A|\n",
            "|   Rubble|     \"    \"\"Betty\"\"\"|            44|   90|   80|   90|   46|    C|\n",
            "|   Noshow|     \"    \"\"Cecil\"\"\"|            45|   11| null|    4|   43|    F|\n",
            "|     Buff|     \"      \"\"Bif\"\"\"|            46|   20|   30|   40|   50|    B|\n",
            "|  Airpump|     \"   \"\"Andrew\"\"\"| 49.0      1.0|   90|  100|   83| null|    A|\n",
            "|   Backus|       \"    \"\"Jim\"\"\"|            48| null|   97|   96|   97|    A|\n",
            "|Carnivore|          \" \"\"Art\"\"\"|            44|    1|   80|   60|   40|    D|\n",
            "|    Dandy|      \"     \"\"Jim\"\"\"|            47|    1|   23|   36|   45|    C|\n",
            "| Elephant|         \"  \"\"Ima\"\"\"|            45|    1|   78|   88|   77|    B|\n",
            "| Franklin|       \"  \"\"Benny\"\"\"|            50|    1|   90|   80|   90|    B|\n",
            "|   George|       \"    \"\"Boy\"\"\"|          null|    1|   11| null|    4|    A|\n",
            "|Heffalump|       \" \"\"Harvey\"\"\"|            30|    1|   20|   30|   40|    C|\n",
            "+---------+--------------------+--------------+-----+-----+-----+-----+-----+\n",
            "\n"
          ]
        }
      ]
    },
    {
      "cell_type": "code",
      "source": [
        "from pyspark.ml.feature import Imputer"
      ],
      "metadata": {
        "id": "0vnBP2gwEzen"
      },
      "execution_count": 112,
      "outputs": []
    },
    {
      "cell_type": "code",
      "source": [
        "impute = Imputer(inputCols = ['Test2','Test3','Test4'],\n",
        "                 outputCols = ['{}_imputed'.format(c) for c in ['Test2','Test3','Test4']]).setStrategy('median')"
      ],
      "metadata": {
        "id": "2TGOYYo1FH_4"
      },
      "execution_count": 113,
      "outputs": []
    },
    {
      "cell_type": "code",
      "source": [
        "# adding the imputation cols to df\n",
        "x = impute.fit(df).transform(df)"
      ],
      "metadata": {
        "id": "nGyBPNnVFzQw"
      },
      "execution_count": 114,
      "outputs": []
    },
    {
      "cell_type": "code",
      "source": [
        "x.show()"
      ],
      "metadata": {
        "colab": {
          "base_uri": "https://localhost:8080/"
        },
        "id": "6DEhmXj1F8yt",
        "outputId": "a9398119-7064-46e8-c3c3-575bd7ed3482"
      },
      "execution_count": 115,
      "outputs": [
        {
          "output_type": "stream",
          "name": "stdout",
          "text": [
            "+---------+--------------------+--------------+-----+-----+-----+-----+-----+-------------+-------------+-------------+\n",
            "|Last name|          First name|         Test1|Test2|Test3|Test4|Final|Grade|Test2_imputed|Test3_imputed|Test4_imputed|\n",
            "+---------+--------------------+--------------+-----+-----+-----+-----+-----+-------------+-------------+-------------+\n",
            "|  Alfalfa|   \"   \"\"Aloysius\"\"\"|            40|   90|  100|   83|   49|    D|           90|          100|           83|\n",
            "|   Alfred|\"    \"\"University\"\"\"|            41|   97|   96|   97|   48|    D|           97|           96|           97|\n",
            "|    Gerty|   \"     \"\"Gramma\"\"\"|            41|   80|   60|   40|   44|    C|           80|           60|           40|\n",
            "|  Android|   \"   \"\"Electric\"\"\"|            42|   23|   36|   45|   47|    B|           23|           36|           45|\n",
            "|  Bumpkin|       \"   \"\"Fred\"\"\"|            43|   78|   88|   77|   45|    A|           78|           88|           77|\n",
            "|   Rubble|     \"    \"\"Betty\"\"\"|            44|   90|   80|   90|   46|    C|           90|           80|           90|\n",
            "|   Noshow|     \"    \"\"Cecil\"\"\"|            45|   11| null|    4|   43|    F|           11|           80|            4|\n",
            "|     Buff|     \"      \"\"Bif\"\"\"|            46|   20|   30|   40|   50|    B|           20|           30|           40|\n",
            "|  Airpump|     \"   \"\"Andrew\"\"\"| 49.0      1.0|   90|  100|   83| null|    A|           90|          100|           83|\n",
            "|   Backus|       \"    \"\"Jim\"\"\"|            48| null|   97|   96|   97|    A|           20|           97|           96|\n",
            "|Carnivore|          \" \"\"Art\"\"\"|            44|    1|   80|   60|   40|    D|            1|           80|           60|\n",
            "|    Dandy|      \"     \"\"Jim\"\"\"|            47|    1|   23|   36|   45|    C|            1|           23|           36|\n",
            "| Elephant|         \"  \"\"Ima\"\"\"|            45|    1|   78|   88|   77|    B|            1|           78|           88|\n",
            "| Franklin|       \"  \"\"Benny\"\"\"|            50|    1|   90|   80|   90|    B|            1|           90|           80|\n",
            "|   George|       \"    \"\"Boy\"\"\"|          null|    1|   11| null|    4|    A|            1|           11|           77|\n",
            "|Heffalump|       \" \"\"Harvey\"\"\"|            30|    1|   20|   30|   40|    C|            1|           20|           30|\n",
            "+---------+--------------------+--------------+-----+-----+-----+-----+-----+-------------+-------------+-------------+\n",
            "\n"
          ]
        }
      ]
    },
    {
      "cell_type": "code",
      "source": [
        "df.printSchema()"
      ],
      "metadata": {
        "colab": {
          "base_uri": "https://localhost:8080/"
        },
        "id": "JwVfVmqFGE94",
        "outputId": "6e29989d-7d4f-4180-c00a-a6d96b7492de"
      },
      "execution_count": 116,
      "outputs": [
        {
          "output_type": "stream",
          "name": "stdout",
          "text": [
            "root\n",
            " |-- Last name: string (nullable = true)\n",
            " |-- First name: string (nullable = true)\n",
            " |-- Test1: string (nullable = true)\n",
            " |-- Test2: integer (nullable = true)\n",
            " |-- Test3: integer (nullable = true)\n",
            " |-- Test4: integer (nullable = true)\n",
            " |-- Final: integer (nullable = true)\n",
            " |-- Grade: string (nullable = true)\n",
            "\n"
          ]
        }
      ]
    },
    {
      "cell_type": "code",
      "source": [
        "df.show()"
      ],
      "metadata": {
        "colab": {
          "base_uri": "https://localhost:8080/"
        },
        "id": "pSYBHtTSGKjz",
        "outputId": "1e4d7e3b-d4bd-42b1-af7e-ac85a04ca1bb"
      },
      "execution_count": 117,
      "outputs": [
        {
          "output_type": "stream",
          "name": "stdout",
          "text": [
            "+---------+--------------------+--------------+-----+-----+-----+-----+-----+\n",
            "|Last name|          First name|         Test1|Test2|Test3|Test4|Final|Grade|\n",
            "+---------+--------------------+--------------+-----+-----+-----+-----+-----+\n",
            "|  Alfalfa|   \"   \"\"Aloysius\"\"\"|            40|   90|  100|   83|   49|    D|\n",
            "|   Alfred|\"    \"\"University\"\"\"|            41|   97|   96|   97|   48|    D|\n",
            "|    Gerty|   \"     \"\"Gramma\"\"\"|            41|   80|   60|   40|   44|    C|\n",
            "|  Android|   \"   \"\"Electric\"\"\"|            42|   23|   36|   45|   47|    B|\n",
            "|  Bumpkin|       \"   \"\"Fred\"\"\"|            43|   78|   88|   77|   45|    A|\n",
            "|   Rubble|     \"    \"\"Betty\"\"\"|            44|   90|   80|   90|   46|    C|\n",
            "|   Noshow|     \"    \"\"Cecil\"\"\"|            45|   11| null|    4|   43|    F|\n",
            "|     Buff|     \"      \"\"Bif\"\"\"|            46|   20|   30|   40|   50|    B|\n",
            "|  Airpump|     \"   \"\"Andrew\"\"\"| 49.0      1.0|   90|  100|   83| null|    A|\n",
            "|   Backus|       \"    \"\"Jim\"\"\"|            48| null|   97|   96|   97|    A|\n",
            "|Carnivore|          \" \"\"Art\"\"\"|            44|    1|   80|   60|   40|    D|\n",
            "|    Dandy|      \"     \"\"Jim\"\"\"|            47|    1|   23|   36|   45|    C|\n",
            "| Elephant|         \"  \"\"Ima\"\"\"|            45|    1|   78|   88|   77|    B|\n",
            "| Franklin|       \"  \"\"Benny\"\"\"|            50|    1|   90|   80|   90|    B|\n",
            "|   George|       \"    \"\"Boy\"\"\"|          null|    1|   11| null|    4|    A|\n",
            "|Heffalump|       \" \"\"Harvey\"\"\"|            30|    1|   20|   30|   40|    C|\n",
            "+---------+--------------------+--------------+-----+-----+-----+-----+-----+\n",
            "\n"
          ]
        }
      ]
    },
    {
      "cell_type": "code",
      "source": [
        "df.show()"
      ],
      "metadata": {
        "colab": {
          "base_uri": "https://localhost:8080/"
        },
        "id": "aSCePMxBGNSL",
        "outputId": "7fa6a807-2a59-41db-9846-01789da4e383"
      },
      "execution_count": 118,
      "outputs": [
        {
          "output_type": "stream",
          "name": "stdout",
          "text": [
            "+---------+--------------------+--------------+-----+-----+-----+-----+-----+\n",
            "|Last name|          First name|         Test1|Test2|Test3|Test4|Final|Grade|\n",
            "+---------+--------------------+--------------+-----+-----+-----+-----+-----+\n",
            "|  Alfalfa|   \"   \"\"Aloysius\"\"\"|            40|   90|  100|   83|   49|    D|\n",
            "|   Alfred|\"    \"\"University\"\"\"|            41|   97|   96|   97|   48|    D|\n",
            "|    Gerty|   \"     \"\"Gramma\"\"\"|            41|   80|   60|   40|   44|    C|\n",
            "|  Android|   \"   \"\"Electric\"\"\"|            42|   23|   36|   45|   47|    B|\n",
            "|  Bumpkin|       \"   \"\"Fred\"\"\"|            43|   78|   88|   77|   45|    A|\n",
            "|   Rubble|     \"    \"\"Betty\"\"\"|            44|   90|   80|   90|   46|    C|\n",
            "|   Noshow|     \"    \"\"Cecil\"\"\"|            45|   11| null|    4|   43|    F|\n",
            "|     Buff|     \"      \"\"Bif\"\"\"|            46|   20|   30|   40|   50|    B|\n",
            "|  Airpump|     \"   \"\"Andrew\"\"\"| 49.0      1.0|   90|  100|   83| null|    A|\n",
            "|   Backus|       \"    \"\"Jim\"\"\"|            48| null|   97|   96|   97|    A|\n",
            "|Carnivore|          \" \"\"Art\"\"\"|            44|    1|   80|   60|   40|    D|\n",
            "|    Dandy|      \"     \"\"Jim\"\"\"|            47|    1|   23|   36|   45|    C|\n",
            "| Elephant|         \"  \"\"Ima\"\"\"|            45|    1|   78|   88|   77|    B|\n",
            "| Franklin|       \"  \"\"Benny\"\"\"|            50|    1|   90|   80|   90|    B|\n",
            "|   George|       \"    \"\"Boy\"\"\"|          null|    1|   11| null|    4|    A|\n",
            "|Heffalump|       \" \"\"Harvey\"\"\"|            30|    1|   20|   30|   40|    C|\n",
            "+---------+--------------------+--------------+-----+-----+-----+-----+-----+\n",
            "\n"
          ]
        }
      ]
    },
    {
      "cell_type": "code",
      "source": [
        "df = df.na.drop()"
      ],
      "metadata": {
        "id": "xLBzzU0NeyLX"
      },
      "execution_count": 119,
      "outputs": []
    },
    {
      "cell_type": "code",
      "source": [
        "df.show()"
      ],
      "metadata": {
        "colab": {
          "base_uri": "https://localhost:8080/"
        },
        "id": "4qRg0dpfe3_b",
        "outputId": "8636fc12-6f2e-4773-f43b-8a6b6aa3b910"
      },
      "execution_count": 120,
      "outputs": [
        {
          "output_type": "stream",
          "name": "stdout",
          "text": [
            "+---------+--------------------+-----+-----+-----+-----+-----+-----+\n",
            "|Last name|          First name|Test1|Test2|Test3|Test4|Final|Grade|\n",
            "+---------+--------------------+-----+-----+-----+-----+-----+-----+\n",
            "|  Alfalfa|   \"   \"\"Aloysius\"\"\"|   40|   90|  100|   83|   49|    D|\n",
            "|   Alfred|\"    \"\"University\"\"\"|   41|   97|   96|   97|   48|    D|\n",
            "|    Gerty|   \"     \"\"Gramma\"\"\"|   41|   80|   60|   40|   44|    C|\n",
            "|  Android|   \"   \"\"Electric\"\"\"|   42|   23|   36|   45|   47|    B|\n",
            "|  Bumpkin|       \"   \"\"Fred\"\"\"|   43|   78|   88|   77|   45|    A|\n",
            "|   Rubble|     \"    \"\"Betty\"\"\"|   44|   90|   80|   90|   46|    C|\n",
            "|     Buff|     \"      \"\"Bif\"\"\"|   46|   20|   30|   40|   50|    B|\n",
            "|Carnivore|          \" \"\"Art\"\"\"|   44|    1|   80|   60|   40|    D|\n",
            "|    Dandy|      \"     \"\"Jim\"\"\"|   47|    1|   23|   36|   45|    C|\n",
            "| Elephant|         \"  \"\"Ima\"\"\"|   45|    1|   78|   88|   77|    B|\n",
            "| Franklin|       \"  \"\"Benny\"\"\"|   50|    1|   90|   80|   90|    B|\n",
            "|Heffalump|       \" \"\"Harvey\"\"\"|   30|    1|   20|   30|   40|    C|\n",
            "+---------+--------------------+-----+-----+-----+-----+-----+-----+\n",
            "\n"
          ]
        }
      ]
    },
    {
      "cell_type": "code",
      "source": [
        "# filter operation \n",
        "df.filter('Final>=50').show()"
      ],
      "metadata": {
        "colab": {
          "base_uri": "https://localhost:8080/"
        },
        "id": "bAIsX0Uhe5Vq",
        "outputId": "d8238c8e-fd5a-482e-8005-1987021bf9a6"
      },
      "execution_count": 121,
      "outputs": [
        {
          "output_type": "stream",
          "name": "stdout",
          "text": [
            "+---------+---------------+-----+-----+-----+-----+-----+-----+\n",
            "|Last name|     First name|Test1|Test2|Test3|Test4|Final|Grade|\n",
            "+---------+---------------+-----+-----+-----+-----+-----+-----+\n",
            "|     Buff|\"      \"\"Bif\"\"\"|   46|   20|   30|   40|   50|    B|\n",
            "| Elephant|    \"  \"\"Ima\"\"\"|   45|    1|   78|   88|   77|    B|\n",
            "| Franklin|  \"  \"\"Benny\"\"\"|   50|    1|   90|   80|   90|    B|\n",
            "+---------+---------------+-----+-----+-----+-----+-----+-----+\n",
            "\n"
          ]
        }
      ]
    },
    {
      "cell_type": "code",
      "source": [
        "# only select the specific colunms\n",
        "\n",
        "df.filter(df['Final']>=50).select(['Last name',\"Final\"])\n"
      ],
      "metadata": {
        "colab": {
          "base_uri": "https://localhost:8080/"
        },
        "id": "jpVnoCs-fRqb",
        "outputId": "b7f25297-5b92-4f35-df6d-da8188b35a3f"
      },
      "execution_count": 122,
      "outputs": [
        {
          "output_type": "execute_result",
          "data": {
            "text/plain": [
              "DataFrame[Last name: string, Final: int]"
            ]
          },
          "metadata": {},
          "execution_count": 122
        }
      ]
    },
    {
      "cell_type": "code",
      "source": [
        "# and ,or, not, equal to \n",
        "\n",
        "df.filter((df['Test2']<=50) & (df['Test4']<=50)).show()"
      ],
      "metadata": {
        "colab": {
          "base_uri": "https://localhost:8080/"
        },
        "id": "hWlZgSUjf3dP",
        "outputId": "fc5aaa7b-736d-4744-f9a0-7b4a2f38254c"
      },
      "execution_count": 123,
      "outputs": [
        {
          "output_type": "stream",
          "name": "stdout",
          "text": [
            "+---------+-----------------+-----+-----+-----+-----+-----+-----+\n",
            "|Last name|       First name|Test1|Test2|Test3|Test4|Final|Grade|\n",
            "+---------+-----------------+-----+-----+-----+-----+-----+-----+\n",
            "|  Android|\"   \"\"Electric\"\"\"|   42|   23|   36|   45|   47|    B|\n",
            "|     Buff|  \"      \"\"Bif\"\"\"|   46|   20|   30|   40|   50|    B|\n",
            "|    Dandy|   \"     \"\"Jim\"\"\"|   47|    1|   23|   36|   45|    C|\n",
            "|Heffalump|    \" \"\"Harvey\"\"\"|   30|    1|   20|   30|   40|    C|\n",
            "+---------+-----------------+-----+-----+-----+-----+-----+-----+\n",
            "\n"
          ]
        }
      ]
    },
    {
      "cell_type": "code",
      "source": [
        "df.filter((df['Test2']<=50) | (df['Test4']<=50)).show()"
      ],
      "metadata": {
        "colab": {
          "base_uri": "https://localhost:8080/"
        },
        "id": "vJ9qniSIity7",
        "outputId": "ddfd5d04-b8f0-459f-c390-cf692b650e93"
      },
      "execution_count": 124,
      "outputs": [
        {
          "output_type": "stream",
          "name": "stdout",
          "text": [
            "+---------+-----------------+-----+-----+-----+-----+-----+-----+\n",
            "|Last name|       First name|Test1|Test2|Test3|Test4|Final|Grade|\n",
            "+---------+-----------------+-----+-----+-----+-----+-----+-----+\n",
            "|    Gerty|\"     \"\"Gramma\"\"\"|   41|   80|   60|   40|   44|    C|\n",
            "|  Android|\"   \"\"Electric\"\"\"|   42|   23|   36|   45|   47|    B|\n",
            "|     Buff|  \"      \"\"Bif\"\"\"|   46|   20|   30|   40|   50|    B|\n",
            "|Carnivore|       \" \"\"Art\"\"\"|   44|    1|   80|   60|   40|    D|\n",
            "|    Dandy|   \"     \"\"Jim\"\"\"|   47|    1|   23|   36|   45|    C|\n",
            "| Elephant|      \"  \"\"Ima\"\"\"|   45|    1|   78|   88|   77|    B|\n",
            "| Franklin|    \"  \"\"Benny\"\"\"|   50|    1|   90|   80|   90|    B|\n",
            "|Heffalump|    \" \"\"Harvey\"\"\"|   30|    1|   20|   30|   40|    C|\n",
            "+---------+-----------------+-----+-----+-----+-----+-----+-----+\n",
            "\n"
          ]
        }
      ]
    },
    {
      "cell_type": "code",
      "source": [
        "df.filter(~(df['Test2']<=50)).show()"
      ],
      "metadata": {
        "colab": {
          "base_uri": "https://localhost:8080/"
        },
        "id": "_YevRxWHi-XN",
        "outputId": "b706bd25-7212-4650-fcaa-9c60b5d84c53"
      },
      "execution_count": 125,
      "outputs": [
        {
          "output_type": "stream",
          "name": "stdout",
          "text": [
            "+---------+--------------------+-----+-----+-----+-----+-----+-----+\n",
            "|Last name|          First name|Test1|Test2|Test3|Test4|Final|Grade|\n",
            "+---------+--------------------+-----+-----+-----+-----+-----+-----+\n",
            "|  Alfalfa|   \"   \"\"Aloysius\"\"\"|   40|   90|  100|   83|   49|    D|\n",
            "|   Alfred|\"    \"\"University\"\"\"|   41|   97|   96|   97|   48|    D|\n",
            "|    Gerty|   \"     \"\"Gramma\"\"\"|   41|   80|   60|   40|   44|    C|\n",
            "|  Bumpkin|       \"   \"\"Fred\"\"\"|   43|   78|   88|   77|   45|    A|\n",
            "|   Rubble|     \"    \"\"Betty\"\"\"|   44|   90|   80|   90|   46|    C|\n",
            "+---------+--------------------+-----+-----+-----+-----+-----+-----+\n",
            "\n"
          ]
        }
      ]
    },
    {
      "cell_type": "code",
      "source": [
        "dir(df)"
      ],
      "metadata": {
        "id": "thhf8DqdjFel"
      },
      "execution_count": null,
      "outputs": []
    },
    {
      "cell_type": "code",
      "source": [
        "df.where (df['Final']==50).show()"
      ],
      "metadata": {
        "colab": {
          "base_uri": "https://localhost:8080/"
        },
        "id": "RvXJpjcjjLWW",
        "outputId": "b350f333-83a6-45a2-8f7d-9a482e57be59"
      },
      "execution_count": 127,
      "outputs": [
        {
          "output_type": "stream",
          "name": "stdout",
          "text": [
            "+---------+---------------+-----+-----+-----+-----+-----+-----+\n",
            "|Last name|     First name|Test1|Test2|Test3|Test4|Final|Grade|\n",
            "+---------+---------------+-----+-----+-----+-----+-----+-----+\n",
            "|     Buff|\"      \"\"Bif\"\"\"|   46|   20|   30|   40|   50|    B|\n",
            "+---------+---------------+-----+-----+-----+-----+-----+-----+\n",
            "\n"
          ]
        }
      ]
    },
    {
      "cell_type": "code",
      "source": [
        "# specific number or filter with single list \n",
        "\n",
        "l = [50,60,70,80,90]\n",
        "df.filter(df.Final.isin(l)).show()"
      ],
      "metadata": {
        "colab": {
          "base_uri": "https://localhost:8080/"
        },
        "id": "7o6ZYGwnjZr7",
        "outputId": "28befe55-5d98-438d-b7f7-451e96801b3e"
      },
      "execution_count": 135,
      "outputs": [
        {
          "output_type": "stream",
          "name": "stdout",
          "text": [
            "+---------+---------------+-----+-----+-----+-----+-----+-----+\n",
            "|Last name|     First name|Test1|Test2|Test3|Test4|Final|Grade|\n",
            "+---------+---------------+-----+-----+-----+-----+-----+-----+\n",
            "|     Buff|\"      \"\"Bif\"\"\"|   46|   20|   30|   40|   50|    B|\n",
            "| Franklin|  \"  \"\"Benny\"\"\"|   50|    1|   90|   80|   90|    B|\n",
            "+---------+---------------+-----+-----+-----+-----+-----+-----+\n",
            "\n"
          ]
        }
      ]
    },
    {
      "cell_type": "code",
      "source": [
        "# filter with the multiple number \n",
        "l = [50,60,70,80,90]\n",
        "g = ['A',\"B\"]\n",
        "df.filter(df.Final.isin(l) | df.Grade.isin(g)).show()"
      ],
      "metadata": {
        "colab": {
          "base_uri": "https://localhost:8080/"
        },
        "id": "KZSPiPKZlcIV",
        "outputId": "28d99207-2bf2-466e-8ec8-04c3c9f75eee"
      },
      "execution_count": 136,
      "outputs": [
        {
          "output_type": "stream",
          "name": "stdout",
          "text": [
            "+---------+-----------------+-----+-----+-----+-----+-----+-----+\n",
            "|Last name|       First name|Test1|Test2|Test3|Test4|Final|Grade|\n",
            "+---------+-----------------+-----+-----+-----+-----+-----+-----+\n",
            "|  Android|\"   \"\"Electric\"\"\"|   42|   23|   36|   45|   47|    B|\n",
            "|  Bumpkin|    \"   \"\"Fred\"\"\"|   43|   78|   88|   77|   45|    A|\n",
            "|     Buff|  \"      \"\"Bif\"\"\"|   46|   20|   30|   40|   50|    B|\n",
            "| Elephant|      \"  \"\"Ima\"\"\"|   45|    1|   78|   88|   77|    B|\n",
            "| Franklin|    \"  \"\"Benny\"\"\"|   50|    1|   90|   80|   90|    B|\n",
            "+---------+-----------------+-----+-----+-----+-----+-----+-----+\n",
            "\n"
          ]
        }
      ]
    },
    {
      "cell_type": "code",
      "source": [
        "# Startwith and Endwith\n",
        "\n",
        "df.filter(df['Last name'].startswith('A')).show()\n",
        "\n",
        "\n",
        "df.filter(df['Last name'].endswith('d')).show()\n"
      ],
      "metadata": {
        "colab": {
          "base_uri": "https://localhost:8080/"
        },
        "id": "q5Tnd-CnliWj",
        "outputId": "f3913753-4bf3-4cf8-ad66-8a016ebb151e"
      },
      "execution_count": 142,
      "outputs": [
        {
          "output_type": "stream",
          "name": "stdout",
          "text": [
            "+---------+--------------------+-----+-----+-----+-----+-----+-----+\n",
            "|Last name|          First name|Test1|Test2|Test3|Test4|Final|Grade|\n",
            "+---------+--------------------+-----+-----+-----+-----+-----+-----+\n",
            "|  Alfalfa|   \"   \"\"Aloysius\"\"\"|   40|   90|  100|   83|   49|    D|\n",
            "|   Alfred|\"    \"\"University\"\"\"|   41|   97|   96|   97|   48|    D|\n",
            "|  Android|   \"   \"\"Electric\"\"\"|   42|   23|   36|   45|   47|    B|\n",
            "+---------+--------------------+-----+-----+-----+-----+-----+-----+\n",
            "\n",
            "+---------+--------------------+-----+-----+-----+-----+-----+-----+\n",
            "|Last name|          First name|Test1|Test2|Test3|Test4|Final|Grade|\n",
            "+---------+--------------------+-----+-----+-----+-----+-----+-----+\n",
            "|   Alfred|\"    \"\"University\"\"\"|   41|   97|   96|   97|   48|    D|\n",
            "|  Android|   \"   \"\"Electric\"\"\"|   42|   23|   36|   45|   47|    B|\n",
            "+---------+--------------------+-----+-----+-----+-----+-----+-----+\n",
            "\n"
          ]
        }
      ]
    },
    {
      "cell_type": "markdown",
      "source": [
        "### Pyspark Groupby and Aggregate function "
      ],
      "metadata": {
        "id": "IeThjy7vr4gO"
      }
    },
    {
      "cell_type": "code",
      "source": [
        "spark = SparkSession.builder.appName('Aggregation').getOrCreate()"
      ],
      "metadata": {
        "id": "Hb6TZJciyAXM"
      },
      "execution_count": 143,
      "outputs": []
    },
    {
      "cell_type": "code",
      "source": [
        "df = spark.read.csv('Book.csv',header= True , inferSchema=True)"
      ],
      "metadata": {
        "id": "SWhZ-ESCoGc6"
      },
      "execution_count": 144,
      "outputs": []
    },
    {
      "cell_type": "code",
      "source": [
        "df.show()"
      ],
      "metadata": {
        "colab": {
          "base_uri": "https://localhost:8080/"
        },
        "id": "DyWyQAO3yHFV",
        "outputId": "b3ea5b94-2d13-4191-f3f5-6bbbe3e26a19"
      },
      "execution_count": 145,
      "outputs": [
        {
          "output_type": "stream",
          "name": "stdout",
          "text": [
            "+---------+------------+------+\n",
            "|     name| Departments|salary|\n",
            "+---------+------------+------+\n",
            "|    Krish|Data Science| 10000|\n",
            "|    Krish|         IOT|  5000|\n",
            "|   Mahesh|    Big Data|  4000|\n",
            "|    Krish|    Big Data|  4000|\n",
            "|   Mahesh|Data Science|  3000|\n",
            "|Sudhanshu|Data Science| 20000|\n",
            "|Sudhanshu|         IOT| 10000|\n",
            "|Sudhanshu|    Big Data|  5000|\n",
            "|    Sunny|Data Science| 10000|\n",
            "|    Sunny|    Big Data|  2000|\n",
            "+---------+------------+------+\n",
            "\n"
          ]
        }
      ]
    },
    {
      "cell_type": "code",
      "source": [
        "# Groupby name\n",
        "\n",
        "df.groupby('name').sum().show()"
      ],
      "metadata": {
        "colab": {
          "base_uri": "https://localhost:8080/"
        },
        "id": "6bYNztexyI8y",
        "outputId": "fca6e00b-c454-4257-9482-94b4d7259d43"
      },
      "execution_count": 148,
      "outputs": [
        {
          "output_type": "stream",
          "name": "stdout",
          "text": [
            "+---------+-----------+\n",
            "|     name|sum(salary)|\n",
            "+---------+-----------+\n",
            "|Sudhanshu|      35000|\n",
            "|    Sunny|      12000|\n",
            "|    Krish|      19000|\n",
            "|   Mahesh|       7000|\n",
            "+---------+-----------+\n",
            "\n"
          ]
        }
      ]
    },
    {
      "cell_type": "code",
      "source": [
        "# Groupby Departments\n",
        "df.groupby('Departments').max().show()"
      ],
      "metadata": {
        "colab": {
          "base_uri": "https://localhost:8080/"
        },
        "id": "ECdSuVCRyLVR",
        "outputId": "2c6c3727-2508-4683-fdda-7dab493c609c"
      },
      "execution_count": 149,
      "outputs": [
        {
          "output_type": "stream",
          "name": "stdout",
          "text": [
            "+------------+-----------+\n",
            "| Departments|max(salary)|\n",
            "+------------+-----------+\n",
            "|         IOT|      10000|\n",
            "|    Big Data|       5000|\n",
            "|Data Science|      20000|\n",
            "+------------+-----------+\n",
            "\n"
          ]
        }
      ]
    },
    {
      "cell_type": "code",
      "source": [
        "# groupby average salary of individual (mean and avg are same)\n",
        "\n",
        "df.groupby('name').mean().show()"
      ],
      "metadata": {
        "colab": {
          "base_uri": "https://localhost:8080/"
        },
        "id": "rzt-6TDXytl0",
        "outputId": "05b7bb9a-961a-4751-af67-44a3fb43667f"
      },
      "execution_count": 150,
      "outputs": [
        {
          "output_type": "stream",
          "name": "stdout",
          "text": [
            "+---------+------------------+\n",
            "|     name|       avg(salary)|\n",
            "+---------+------------------+\n",
            "|Sudhanshu|11666.666666666666|\n",
            "|    Sunny|            6000.0|\n",
            "|    Krish| 6333.333333333333|\n",
            "|   Mahesh|            3500.0|\n",
            "+---------+------------------+\n",
            "\n"
          ]
        }
      ]
    },
    {
      "cell_type": "code",
      "source": [
        "df.groupby('Departments').min().show()"
      ],
      "metadata": {
        "colab": {
          "base_uri": "https://localhost:8080/"
        },
        "id": "YOewG4cSy8b7",
        "outputId": "af14e61e-9f90-43a0-a5f0-2eecf6da3d06"
      },
      "execution_count": 151,
      "outputs": [
        {
          "output_type": "stream",
          "name": "stdout",
          "text": [
            "+------------+-----------+\n",
            "| Departments|min(salary)|\n",
            "+------------+-----------+\n",
            "|         IOT|       5000|\n",
            "|    Big Data|       2000|\n",
            "|Data Science|       3000|\n",
            "+------------+-----------+\n",
            "\n"
          ]
        }
      ]
    },
    {
      "cell_type": "code",
      "source": [
        "# another way to use aggregation in pyspark \n",
        "df.agg({'salary':'avg'}).show()"
      ],
      "metadata": {
        "colab": {
          "base_uri": "https://localhost:8080/"
        },
        "id": "YELBGjZRzM2I",
        "outputId": "4fa3ccdc-d06b-443e-f328-9fec63353719"
      },
      "execution_count": 154,
      "outputs": [
        {
          "output_type": "stream",
          "name": "stdout",
          "text": [
            "+-----------+\n",
            "|avg(salary)|\n",
            "+-----------+\n",
            "|     7300.0|\n",
            "+-----------+\n",
            "\n"
          ]
        }
      ]
    },
    {
      "cell_type": "code",
      "source": [
        "# Creating Dataframe \n",
        "\n",
        "#Preparing the data\n",
        "\n",
        "data= [('James',\"Sales\",3000),\\\n",
        "       ('Michael',\"Sales\", 4600),\\\n",
        "       (\"Robert\",\"Sales\", 4100),\\\n",
        "       (\"Maria\",\"Finance\",3000),\\\n",
        "       (\"James\",\"Sales\",3000),\\\n",
        "       (\"Scott\",\"Finance\",3900),\\\n",
        "       (\"Jen\",\"Finance\",3900),\\\n",
        "       (\"Jeff\",\"Marketing\",3000),\\\n",
        "       ('Kumar',\"Marketing\",2000),\\\n",
        "       (\"Saif\",\"Sales\",4100)]\n",
        "\n",
        "columns=['Employee_Name','Department',\"Salary\"]\n",
        "\n",
        "dataframe = spark.createDataFrame(data=data,schema=columns)\n",
        "df  = spark.createDataFrame(data=data,schema=columns)"
      ],
      "metadata": {
        "id": "afRHoIOdza42"
      },
      "execution_count": 163,
      "outputs": []
    },
    {
      "cell_type": "code",
      "source": [
        "dataframe.show()"
      ],
      "metadata": {
        "colab": {
          "base_uri": "https://localhost:8080/"
        },
        "id": "iO3CEkht9uwd",
        "outputId": "65cdb6bd-995d-443f-e4a5-796f2123e69a"
      },
      "execution_count": 156,
      "outputs": [
        {
          "output_type": "stream",
          "name": "stdout",
          "text": [
            "+-------------+----------+------+\n",
            "|Employee_Name|Department|Salary|\n",
            "+-------------+----------+------+\n",
            "|        James|     Sales|  3000|\n",
            "|      Michael|     Sales|  4600|\n",
            "|       Robert|     Sales|  4100|\n",
            "|        Maria|   Finance|  3000|\n",
            "|        James|     Sales|  3000|\n",
            "|        Scott|   Finance|  3900|\n",
            "|          Jen|   Finance|  3900|\n",
            "|         Jeff| Marketing|  3000|\n",
            "|        Kumar| Marketing|  2000|\n",
            "|         Saif|     Sales|  4100|\n",
            "+-------------+----------+------+\n",
            "\n"
          ]
        }
      ]
    },
    {
      "cell_type": "code",
      "source": [
        "dataframe.show(truncate= False) # truncate is used for the not showing if the entries having 20 char"
      ],
      "metadata": {
        "colab": {
          "base_uri": "https://localhost:8080/"
        },
        "id": "iLEUUopO9xKz",
        "outputId": "7f3d47c7-eb35-4318-f792-13d047f00f2b"
      },
      "execution_count": 157,
      "outputs": [
        {
          "output_type": "stream",
          "name": "stdout",
          "text": [
            "+-------------+----------+------+\n",
            "|Employee_Name|Department|Salary|\n",
            "+-------------+----------+------+\n",
            "|James        |Sales     |3000  |\n",
            "|Michael      |Sales     |4600  |\n",
            "|Robert       |Sales     |4100  |\n",
            "|Maria        |Finance   |3000  |\n",
            "|James        |Sales     |3000  |\n",
            "|Scott        |Finance   |3900  |\n",
            "|Jen          |Finance   |3900  |\n",
            "|Jeff         |Marketing |3000  |\n",
            "|Kumar        |Marketing |2000  |\n",
            "|Saif         |Sales     |4100  |\n",
            "+-------------+----------+------+\n",
            "\n"
          ]
        }
      ]
    },
    {
      "cell_type": "code",
      "source": [
        "# only for the name column\n",
        "dataframe.dropDuplicates().show()"
      ],
      "metadata": {
        "colab": {
          "base_uri": "https://localhost:8080/"
        },
        "id": "CBC6UJ_t-srY",
        "outputId": "31625329-16a1-47ae-cfa7-4621d4e74add"
      },
      "execution_count": 158,
      "outputs": [
        {
          "output_type": "stream",
          "name": "stdout",
          "text": [
            "+-------------+----------+------+\n",
            "|Employee_Name|Department|Salary|\n",
            "+-------------+----------+------+\n",
            "|      Michael|     Sales|  4600|\n",
            "|        James|     Sales|  3000|\n",
            "|       Robert|     Sales|  4100|\n",
            "|        Maria|   Finance|  3000|\n",
            "|          Jen|   Finance|  3900|\n",
            "|        Kumar| Marketing|  2000|\n",
            "|         Jeff| Marketing|  3000|\n",
            "|         Saif|     Sales|  4100|\n",
            "|        Scott|   Finance|  3900|\n",
            "+-------------+----------+------+\n",
            "\n"
          ]
        }
      ]
    },
    {
      "cell_type": "code",
      "source": [
        "# only for salary colunm\n",
        "dataframe.dropDuplicates(['salary']).show()"
      ],
      "metadata": {
        "colab": {
          "base_uri": "https://localhost:8080/"
        },
        "id": "X5RkBN_JAbiw",
        "outputId": "aa44e29d-756f-4c93-ac85-cb521dfec614"
      },
      "execution_count": 160,
      "outputs": [
        {
          "output_type": "stream",
          "name": "stdout",
          "text": [
            "+-------------+----------+------+\n",
            "|Employee_Name|Department|Salary|\n",
            "+-------------+----------+------+\n",
            "|        Kumar| Marketing|  2000|\n",
            "|        James|     Sales|  3000|\n",
            "|        Scott|   Finance|  3900|\n",
            "|       Robert|     Sales|  4100|\n",
            "|      Michael|     Sales|  4600|\n",
            "+-------------+----------+------+\n",
            "\n"
          ]
        }
      ]
    },
    {
      "cell_type": "code",
      "source": [
        "#using list \n",
        "dataframe.dropDuplicates(['salary','Department']).show()"
      ],
      "metadata": {
        "colab": {
          "base_uri": "https://localhost:8080/"
        },
        "id": "KG3VyR0dAg59",
        "outputId": "30fdec8b-80dd-49f8-9e2c-5433aca62616"
      },
      "execution_count": 162,
      "outputs": [
        {
          "output_type": "stream",
          "name": "stdout",
          "text": [
            "+-------------+----------+------+\n",
            "|Employee_Name|Department|Salary|\n",
            "+-------------+----------+------+\n",
            "|        Kumar| Marketing|  2000|\n",
            "|        Maria|   Finance|  3000|\n",
            "|         Jeff| Marketing|  3000|\n",
            "|        James|     Sales|  3000|\n",
            "|        Scott|   Finance|  3900|\n",
            "|       Robert|     Sales|  4100|\n",
            "|      Michael|     Sales|  4600|\n",
            "+-------------+----------+------+\n",
            "\n"
          ]
        }
      ]
    },
    {
      "cell_type": "code",
      "source": [],
      "metadata": {
        "id": "wiqt0V2oAtvP"
      },
      "execution_count": null,
      "outputs": []
    },
    {
      "cell_type": "markdown",
      "source": [
        "### Union operation in pyspark"
      ],
      "metadata": {
        "id": "xARnLcn9EzWE"
      }
    },
    {
      "cell_type": "code",
      "source": [
        "# merging two dataframe\n",
        "dataframe.union(df).show()"
      ],
      "metadata": {
        "colab": {
          "base_uri": "https://localhost:8080/"
        },
        "id": "4Dtgb6GWE_BD",
        "outputId": "f4fb3937-9eb1-474a-e81d-bcce1606215e"
      },
      "execution_count": 165,
      "outputs": [
        {
          "output_type": "stream",
          "name": "stdout",
          "text": [
            "+-------------+----------+------+\n",
            "|Employee_Name|Department|Salary|\n",
            "+-------------+----------+------+\n",
            "|        James|     Sales|  3000|\n",
            "|      Michael|     Sales|  4600|\n",
            "|       Robert|     Sales|  4100|\n",
            "|        Maria|   Finance|  3000|\n",
            "|        James|     Sales|  3000|\n",
            "|        Scott|   Finance|  3900|\n",
            "|          Jen|   Finance|  3900|\n",
            "|         Jeff| Marketing|  3000|\n",
            "|        Kumar| Marketing|  2000|\n",
            "|         Saif|     Sales|  4100|\n",
            "|        James|     Sales|  3000|\n",
            "|      Michael|     Sales|  4600|\n",
            "|       Robert|     Sales|  4100|\n",
            "|        Maria|   Finance|  3000|\n",
            "|        James|     Sales|  3000|\n",
            "|        Scott|   Finance|  3900|\n",
            "|          Jen|   Finance|  3900|\n",
            "|         Jeff| Marketing|  3000|\n",
            "|        Kumar| Marketing|  2000|\n",
            "|         Saif|     Sales|  4100|\n",
            "+-------------+----------+------+\n",
            "\n"
          ]
        }
      ]
    },
    {
      "cell_type": "code",
      "source": [
        "# merging two dataframe with disticnt rows\n",
        "\n",
        "dataframe.union(df).distinct().show()"
      ],
      "metadata": {
        "colab": {
          "base_uri": "https://localhost:8080/"
        },
        "id": "jN8z9RBFFGwx",
        "outputId": "bedb92c4-56f2-494d-c22f-49c19474603c"
      },
      "execution_count": 167,
      "outputs": [
        {
          "output_type": "stream",
          "name": "stdout",
          "text": [
            "+-------------+----------+------+\n",
            "|Employee_Name|Department|Salary|\n",
            "+-------------+----------+------+\n",
            "|      Michael|     Sales|  4600|\n",
            "|        James|     Sales|  3000|\n",
            "|       Robert|     Sales|  4100|\n",
            "|        Maria|   Finance|  3000|\n",
            "|          Jen|   Finance|  3900|\n",
            "|        Kumar| Marketing|  2000|\n",
            "|         Jeff| Marketing|  3000|\n",
            "|         Saif|     Sales|  4100|\n",
            "|        Scott|   Finance|  3900|\n",
            "+-------------+----------+------+\n",
            "\n"
          ]
        }
      ]
    },
    {
      "cell_type": "code",
      "source": [
        "# mering two dataframe with distinct \n",
        "dataframe.union(df).distinct().count()"
      ],
      "metadata": {
        "colab": {
          "base_uri": "https://localhost:8080/"
        },
        "id": "rRp6djgQFlIX",
        "outputId": "6c47c227-28e8-4240-afe7-aff72e05d2bc"
      },
      "execution_count": 169,
      "outputs": [
        {
          "output_type": "execute_result",
          "data": {
            "text/plain": [
              "9"
            ]
          },
          "metadata": {},
          "execution_count": 169
        }
      ]
    },
    {
      "cell_type": "code",
      "source": [],
      "metadata": {
        "id": "zjtLJwypF8Sj"
      },
      "execution_count": null,
      "outputs": []
    },
    {
      "cell_type": "markdown",
      "source": [
        "### changing pandas dataframe to pyspark dataframe"
      ],
      "metadata": {
        "id": "bglxHqenGBWu"
      }
    },
    {
      "cell_type": "code",
      "source": [
        "pandasDF = dataframe.toPandas()"
      ],
      "metadata": {
        "id": "5MQFrH2oGKaN"
      },
      "execution_count": 171,
      "outputs": []
    },
    {
      "cell_type": "code",
      "source": [
        "print(type(dataframe),type(pandasDF))"
      ],
      "metadata": {
        "colab": {
          "base_uri": "https://localhost:8080/"
        },
        "id": "mDfr4FsJGPav",
        "outputId": "21691fe3-018b-45a8-97e5-72d076bbf363"
      },
      "execution_count": 172,
      "outputs": [
        {
          "output_type": "stream",
          "name": "stdout",
          "text": [
            "<class 'pyspark.sql.dataframe.DataFrame'> <class 'pandas.core.frame.DataFrame'>\n"
          ]
        }
      ]
    },
    {
      "cell_type": "code",
      "source": [],
      "metadata": {
        "id": "ESvIq0mYGbNs"
      },
      "execution_count": null,
      "outputs": []
    }
  ]
}