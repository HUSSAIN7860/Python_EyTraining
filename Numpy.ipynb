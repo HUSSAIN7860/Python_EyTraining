{
  "nbformat": 4,
  "nbformat_minor": 0,
  "metadata": {
    "colab": {
      "provenance": [],
      "authorship_tag": "ABX9TyMdVksVQtiY9k5DN/fPAoYl",
      "include_colab_link": true
    },
    "kernelspec": {
      "name": "python3",
      "display_name": "Python 3"
    },
    "language_info": {
      "name": "python"
    }
  },
  "cells": [
    {
      "cell_type": "markdown",
      "metadata": {
        "id": "view-in-github",
        "colab_type": "text"
      },
      "source": [
        "<a href=\"https://colab.research.google.com/github/HUSSAIN7860/Python_EyTraining/blob/main/Numpy.ipynb\" target=\"_parent\"><img src=\"https://colab.research.google.com/assets/colab-badge.svg\" alt=\"Open In Colab\"/></a>"
      ]
    },
    {
      "cell_type": "markdown",
      "source": [
        "### import necessary library"
      ],
      "metadata": {
        "id": "z85GRFBXUmeN"
      }
    },
    {
      "cell_type": "code",
      "source": [
        "import numpy as np\n",
        "\n",
        "import random"
      ],
      "metadata": {
        "id": "D0EBdkrRUtvQ"
      },
      "execution_count": null,
      "outputs": []
    },
    {
      "cell_type": "code",
      "source": [
        "# taking at random 6 people age\n",
        "ages = random.sample(range(10, 30), 6)\n",
        "\n",
        "print(ages)"
      ],
      "metadata": {
        "colab": {
          "base_uri": "https://localhost:8080/"
        },
        "id": "QrQs7HDlUx5H",
        "outputId": "f3fbc9c5-4c60-4dcb-c51e-4f4c153530d4"
      },
      "execution_count": null,
      "outputs": [
        {
          "output_type": "stream",
          "name": "stdout",
          "text": [
            "[26, 24, 10, 28, 20, 27]\n"
          ]
        }
      ]
    },
    {
      "cell_type": "markdown",
      "source": [
        "### There are three ways to initiate the ndarray like np.array(<collection>)"
      ],
      "metadata": {
        "id": "2ATmOmO-VxbR"
      }
    },
    {
      "cell_type": "code",
      "source": [
        "ages = np.array(ages)\n",
        "print(type(ages),ages)"
      ],
      "metadata": {
        "colab": {
          "base_uri": "https://localhost:8080/"
        },
        "id": "ottgWC7lVXYI",
        "outputId": "ad45a2a8-37db-44d4-ee31-8818b2381409"
      },
      "execution_count": null,
      "outputs": [
        {
          "output_type": "stream",
          "name": "stdout",
          "text": [
            "<class 'numpy.ndarray'> [26 24 10 28 20 27]\n"
          ]
        }
      ]
    },
    {
      "cell_type": "code",
      "source": [
        "print(ages.shape , ages.size)"
      ],
      "metadata": {
        "colab": {
          "base_uri": "https://localhost:8080/"
        },
        "id": "9gAW_GSmWWRs",
        "outputId": "dd109716-112c-4071-91ed-6e1d33fceaa8"
      },
      "execution_count": null,
      "outputs": [
        {
          "output_type": "stream",
          "name": "stdout",
          "text": [
            "(6,) 6\n"
          ]
        }
      ]
    },
    {
      "cell_type": "code",
      "source": [
        "a = np.array([[26, 24 ,10 ,28 ,20, 27 ,1],[2,4,5,9,7,8,1]])\n",
        "print(a.shape , a.size)"
      ],
      "metadata": {
        "colab": {
          "base_uri": "https://localhost:8080/"
        },
        "id": "VLIecqd7WiKq",
        "outputId": "d5c4c58a-638a-4226-f815-17c46480cb86"
      },
      "execution_count": null,
      "outputs": [
        {
          "output_type": "stream",
          "name": "stdout",
          "text": [
            "(2, 7) 14\n"
          ]
        }
      ]
    },
    {
      "cell_type": "code",
      "source": [
        "# creating array having all element is 0\n",
        "zeroArr = np.zeros(5)\n",
        "zeroArrnd = np.zeros([5,2])\n",
        "print(zeroArrnd ,'->', zeroArr)"
      ],
      "metadata": {
        "colab": {
          "base_uri": "https://localhost:8080/"
        },
        "id": "-LPsYGuTW65n",
        "outputId": "28ff8892-812b-47ac-9859-1501690c1329"
      },
      "execution_count": null,
      "outputs": [
        {
          "output_type": "stream",
          "name": "stdout",
          "text": [
            "[[0. 0.]\n",
            " [0. 0.]\n",
            " [0. 0.]\n",
            " [0. 0.]\n",
            " [0. 0.]] -> [0. 0. 0. 0. 0.]\n"
          ]
        }
      ]
    },
    {
      "cell_type": "markdown",
      "source": [
        "### Multi-Dimentions"
      ],
      "metadata": {
        "id": "iDfhRBULYWzs"
      }
    },
    {
      "cell_type": "code",
      "source": [
        "weight = random.sample(range(40,70),6)\n",
        "print(weight)"
      ],
      "metadata": {
        "colab": {
          "base_uri": "https://localhost:8080/"
        },
        "id": "ZPthzb6TXyJE",
        "outputId": "e0ab3a56-769b-4f9a-91be-59b44c49ba08"
      },
      "execution_count": null,
      "outputs": [
        {
          "output_type": "stream",
          "name": "stdout",
          "text": [
            "[57, 60, 59, 48, 54, 47]\n"
          ]
        }
      ]
    },
    {
      "cell_type": "code",
      "source": [
        "# assign the weight to the ages and print the shape and size of it \n",
        "people= np.array([ages,weight])\n",
        "\n",
        "print('The array is ',people ,'the shape of the people ', people.shape , 'and the  size of the array',people.size)"
      ],
      "metadata": {
        "colab": {
          "base_uri": "https://localhost:8080/"
        },
        "id": "QpudZfHvYtxN",
        "outputId": "3737db9e-6df4-4bce-a818-8b68c47b262a"
      },
      "execution_count": null,
      "outputs": [
        {
          "output_type": "stream",
          "name": "stdout",
          "text": [
            "The array is  [[26 24 10 28 20 27]\n",
            " [57 60 59 48 54 47]] the shape of the people  (2, 6) and the  size of the array 12\n"
          ]
        }
      ]
    },
    {
      "cell_type": "code",
      "source": [
        "# you can take any possible product rows and colounm and whose product is always equal to shape of the ARRAY  \n",
        "\n",
        "people = people.reshape(3,4)\n",
        "print(f'the array is {people} shape {people.shape} and the size is {people.size}')"
      ],
      "metadata": {
        "colab": {
          "base_uri": "https://localhost:8080/"
        },
        "id": "nA2CasmYZxpy",
        "outputId": "d80c262f-1305-48af-f5fa-d98024add8ab"
      },
      "execution_count": null,
      "outputs": [
        {
          "output_type": "stream",
          "name": "stdout",
          "text": [
            "the array is [[26 24 10 28]\n",
            " [20 27 57 60]\n",
            " [59 48 54 47]] shape (3, 4) and the size is 12\n"
          ]
        }
      ]
    },
    {
      "cell_type": "markdown",
      "source": [
        "### Exercise\n",
        "Generate a 1D numpy array with the values [7, 9, 65, 33, 85, 99]\n",
        "\n",
        "Generate a matrix (2D numpy array) of the values:\n",
        "\n",
        " \n",
        " \n",
        "Change the dimensions of this array to another permitted shape\n"
      ],
      "metadata": {
        "id": "5L74NhZ-a8QR"
      }
    },
    {
      "cell_type": "code",
      "source": [
        "# 1. \n",
        "a = [7, 9, 65, 33, 85, 99]\n",
        "array = np.array(a)\n",
        "print(array)\n",
        "print(array.shape , array.size)"
      ],
      "metadata": {
        "colab": {
          "base_uri": "https://localhost:8080/"
        },
        "id": "z9M2hdgXasxL",
        "outputId": "604e7685-1a64-406a-a369-ffda480d55a5"
      },
      "execution_count": null,
      "outputs": [
        {
          "output_type": "stream",
          "name": "stdout",
          "text": [
            "[ 7  9 65 33 85 99]\n",
            "(6,) 6\n"
          ]
        }
      ]
    },
    {
      "cell_type": "code",
      "source": [
        "# 2.\n",
        "first_row = [1,2,4]\n",
        "second_row =[2,3,0]\n",
        "third_row = [0,5,1]\n",
        "\n",
        "matrix = np.array([first_row,second_row,third_row])\n",
        "print(matrix)\n",
        "print(matrix.shape , matrix.size , type(matrix))"
      ],
      "metadata": {
        "colab": {
          "base_uri": "https://localhost:8080/"
        },
        "id": "0skzuCHUbYZJ",
        "outputId": "68f0e760-1ee4-48ef-d568-c22e435e6e88"
      },
      "execution_count": null,
      "outputs": [
        {
          "output_type": "stream",
          "name": "stdout",
          "text": [
            "[[1 2 4]\n",
            " [2 3 0]\n",
            " [0 5 1]]\n",
            "(3, 3) 9 <class 'numpy.ndarray'>\n"
          ]
        }
      ]
    },
    {
      "cell_type": "code",
      "source": [
        "# 3.\n",
        "matrix = matrix.reshape(1,9)\n",
        "print(matrix)\n"
      ],
      "metadata": {
        "colab": {
          "base_uri": "https://localhost:8080/"
        },
        "id": "cHEeMUDxcENR",
        "outputId": "7cd31dc0-fa3a-412f-c867-8e189f6ff36f"
      },
      "execution_count": null,
      "outputs": [
        {
          "output_type": "stream",
          "name": "stdout",
          "text": [
            "[[1 2 4 2 3 0 0 5 1]]\n"
          ]
        }
      ]
    },
    {
      "cell_type": "markdown",
      "source": [
        "### Array Generation "
      ],
      "metadata": {
        "id": "7ZavwA6Ocynb"
      }
    },
    {
      "cell_type": "code",
      "source": [
        "# with the help of numpy we can generate the array\n",
        "\n",
        "six_times_space = np.arange(0,60,6)\n",
        "# first argument takes the initial values and second takes the last value but exclusively \n",
        "# third step is step which it takes.\n",
        "six_times_space"
      ],
      "metadata": {
        "colab": {
          "base_uri": "https://localhost:8080/"
        },
        "id": "KlyI1DMpcqkQ",
        "outputId": "35f735df-c00e-44f8-c4e7-f8b686485891"
      },
      "execution_count": null,
      "outputs": [
        {
          "output_type": "execute_result",
          "data": {
            "text/plain": [
              "array([ 0,  6, 12, 18, 24, 30, 36, 42, 48, 54])"
            ]
          },
          "metadata": {},
          "execution_count": 32
        }
      ]
    },
    {
      "cell_type": "markdown",
      "source": [
        "* The np.linspace() method will produce a range of evenly spaced values, starting, ending, and taking as many steps as you specify."
      ],
      "metadata": {
        "id": "9mFoNflLgbnc"
      }
    },
    {
      "cell_type": "code",
      "source": [
        "table = np.linspace(1,20,12)\n",
        "# gives you the 20 number and having difference between two number is equal here \n",
        "print(table)"
      ],
      "metadata": {
        "colab": {
          "base_uri": "https://localhost:8080/"
        },
        "id": "idI_EMg9f37j",
        "outputId": "e72e8494-e4fd-47da-9890-a3968646cb36"
      },
      "execution_count": null,
      "outputs": [
        {
          "output_type": "stream",
          "name": "stdout",
          "text": [
            "[ 1.          2.72727273  4.45454545  6.18181818  7.90909091  9.63636364\n",
            " 11.36363636 13.09090909 14.81818182 16.54545455 18.27272727 20.        ]\n"
          ]
        }
      ]
    },
    {
      "cell_type": "markdown",
      "source": [
        "* The .repeat() method will repeat an object you pas a specified number of times."
      ],
      "metadata": {
        "id": "gj_VV3rUg-5A"
      }
    },
    {
      "cell_type": "code",
      "source": [
        "arr = np.repeat(2,10)\n",
        "# first argument assign to second argument times\n",
        "print(arr)"
      ],
      "metadata": {
        "colab": {
          "base_uri": "https://localhost:8080/"
        },
        "id": "RQL5Wi9egpNN",
        "outputId": "8500baed-2a1f-4797-ba00-081b031107cf"
      },
      "execution_count": null,
      "outputs": [
        {
          "output_type": "stream",
          "name": "stdout",
          "text": [
            "[2 2 2 2 2 2 2 2 2 2]\n"
          ]
        }
      ]
    },
    {
      "cell_type": "markdown",
      "source": [
        "* The np.eye() functions will create an identity matrix/array for us."
      ],
      "metadata": {
        "id": "P44DNKq7he6T"
      }
    },
    {
      "cell_type": "code",
      "source": [
        "identity_mat = np.eye(5)\n",
        "print(identity_mat)"
      ],
      "metadata": {
        "colab": {
          "base_uri": "https://localhost:8080/"
        },
        "id": "IVuHZCPYhMba",
        "outputId": "924cfefb-df63-42ad-9073-6ca9bfae38b9"
      },
      "execution_count": null,
      "outputs": [
        {
          "output_type": "stream",
          "name": "stdout",
          "text": [
            "[[1. 0. 0. 0. 0.]\n",
            " [0. 1. 0. 0. 0.]\n",
            " [0. 0. 1. 0. 0.]\n",
            " [0. 0. 0. 1. 0.]\n",
            " [0. 0. 0. 0. 1.]]\n"
          ]
        }
      ]
    },
    {
      "cell_type": "markdown",
      "source": [
        "### Operations\n",
        " * We can perform many operation on the array . few  are below "
      ],
      "metadata": {
        "id": "f7jGqkcjh0uF"
      }
    },
    {
      "cell_type": "code",
      "source": [
        "# performing BODMAS \n",
        "print(six_times_space)\n",
        "\n",
        "print('exponent operation performing ', six_times_space**2)\n",
        "print('addition operation performing ', six_times_space+10)\n",
        "print('substraction operation performing ', six_times_space-5)\n",
        "print('divion operation performing ', six_times_space/3)\n",
        "print('multiplication operation performing ', six_times_space*8)"
      ],
      "metadata": {
        "colab": {
          "base_uri": "https://localhost:8080/"
        },
        "id": "L6VSvvsfhnyp",
        "outputId": "9b4e91f0-d020-423a-dc45-b72ec5a367b4"
      },
      "execution_count": null,
      "outputs": [
        {
          "output_type": "stream",
          "name": "stdout",
          "text": [
            "[ 0  6 12 18 24 30 36 42 48 54]\n",
            "exponent operation performing  [   0   36  144  324  576  900 1296 1764 2304 2916]\n",
            "addition operation performing  [10 16 22 28 34 40 46 52 58 64]\n",
            "substraction operation performing  [-5  1  7 13 19 25 31 37 43 49]\n",
            "divion operation performing  [ 0.  2.  4.  6.  8. 10. 12. 14. 16. 18.]\n",
            "multiplication operation performing  [  0  48  96 144 192 240 288 336 384 432]\n"
          ]
        }
      ]
    },
    {
      "cell_type": "markdown",
      "source": [
        "### Speed test\n",
        "* numpy perform faster operation than a traditional core python"
      ],
      "metadata": {
        "id": "y_mznu1bjZv_"
      }
    },
    {
      "cell_type": "code",
      "source": [
        "l = list(range(1 ,10000,5))\n",
        "l"
      ],
      "metadata": {
        "id": "gFmR3TgRidZK"
      },
      "execution_count": null,
      "outputs": []
    },
    {
      "cell_type": "code",
      "source": [
        "l_np = np.arange(1,10000,5)\n",
        "l_np"
      ],
      "metadata": {
        "colab": {
          "base_uri": "https://localhost:8080/"
        },
        "id": "eNxOKMOjj65p",
        "outputId": "711c7f23-1790-44af-a03a-2426a5ed547a"
      },
      "execution_count": null,
      "outputs": [
        {
          "output_type": "execute_result",
          "data": {
            "text/plain": [
              "array([   1,    6,   11, ..., 9986, 9991, 9996])"
            ]
          },
          "metadata": {},
          "execution_count": 44
        }
      ]
    },
    {
      "cell_type": "code",
      "source": [
        "%timeit l_np*5"
      ],
      "metadata": {
        "colab": {
          "base_uri": "https://localhost:8080/"
        },
        "id": "k0GovVHDkP2_",
        "outputId": "c19270bb-b686-4019-9f53-0d6f4df42d53"
      },
      "execution_count": null,
      "outputs": [
        {
          "output_type": "stream",
          "name": "stdout",
          "text": [
            "2.25 µs ± 40.2 ns per loop (mean ± std. dev. of 7 runs, 100000 loops each)\n"
          ]
        }
      ]
    },
    {
      "cell_type": "code",
      "source": [
        "%timeit [e*5  for e in l]"
      ],
      "metadata": {
        "colab": {
          "base_uri": "https://localhost:8080/"
        },
        "id": "WTlckYGbk2cH",
        "outputId": "ce170aa3-3351-47a4-a049-9aabcf028810"
      },
      "execution_count": null,
      "outputs": [
        {
          "output_type": "stream",
          "name": "stdout",
          "text": [
            "133 µs ± 780 ns per loop (mean ± std. dev. of 7 runs, 10000 loops each)\n"
          ]
        }
      ]
    },
    {
      "cell_type": "markdown",
      "source": [
        "* Boolean string operations can also be performed on ndarrays."
      ],
      "metadata": {
        "id": "plIsQiR9lwEr"
      }
    },
    {
      "cell_type": "code",
      "source": [
        "animal = np.array(['elephant','lion','tiger','monkey'])\n",
        "print(np.isin(animal,'i'))\n",
        "\n",
        "print('i' in animal)\n",
        "['i' in animal for animal in animal]\n"
      ],
      "metadata": {
        "colab": {
          "base_uri": "https://localhost:8080/"
        },
        "id": "xlCAq88IlSE1",
        "outputId": "05a68498-53a3-4da4-c042-03409c629aab"
      },
      "execution_count": null,
      "outputs": [
        {
          "output_type": "stream",
          "name": "stdout",
          "text": [
            "[False False False False]\n",
            "False\n"
          ]
        },
        {
          "output_type": "execute_result",
          "data": {
            "text/plain": [
              "[False, True, True, False]"
            ]
          },
          "metadata": {},
          "execution_count": 54
        }
      ]
    },
    {
      "cell_type": "markdown",
      "source": [
        "### Transpose"
      ],
      "metadata": {
        "id": "9KwW4haens9L"
      }
    },
    {
      "cell_type": "code",
      "source": [
        "#\n",
        "print(people , '\\n')\n",
        "people.shape = (2,6)\n",
        "\n",
        "print(people , '\\n')\n",
        "print(people.T)\n"
      ],
      "metadata": {
        "colab": {
          "base_uri": "https://localhost:8080/"
        },
        "id": "C4_usn5mmWJO",
        "outputId": "137d2e95-0af6-4213-eef9-17a118f4adbe"
      },
      "execution_count": null,
      "outputs": [
        {
          "output_type": "stream",
          "name": "stdout",
          "text": [
            "[[26 24 10 28]\n",
            " [20 27 57 60]\n",
            " [59 48 54 47]] \n",
            "\n",
            "[[26 24 10 28 20 27]\n",
            " [57 60 59 48 54 47]] \n",
            "\n",
            "[[26 57]\n",
            " [24 60]\n",
            " [10 59]\n",
            " [28 48]\n",
            " [20 54]\n",
            " [27 47]]\n"
          ]
        }
      ]
    },
    {
      "cell_type": "markdown",
      "source": [
        "### Data Types\n",
        "As previously mentioned, ndarrays can only have one data type. If we want to obtain or change this, we use the .dtype attribute"
      ],
      "metadata": {
        "id": "ZtrUK44rojES"
      }
    },
    {
      "cell_type": "code",
      "source": [
        "people.dtype"
      ],
      "metadata": {
        "colab": {
          "base_uri": "https://localhost:8080/"
        },
        "id": "2GeE1cHsnNjL",
        "outputId": "806b49f9-0df0-450b-e4b9-1a92635208ab"
      },
      "execution_count": null,
      "outputs": [
        {
          "output_type": "execute_result",
          "data": {
            "text/plain": [
              "dtype('int64')"
            ]
          },
          "metadata": {},
          "execution_count": 58
        }
      ]
    },
    {
      "cell_type": "markdown",
      "source": [
        "What is the data type of the below ndarray?"
      ],
      "metadata": {
        "id": "H1E7kP68p_ls"
      }
    },
    {
      "cell_type": "code",
      "source": [
        "ages_with_string = [1,3,4,'23','20','19']\n",
        "ages_with_string\n",
        "type(ages_with_string)"
      ],
      "metadata": {
        "colab": {
          "base_uri": "https://localhost:8080/"
        },
        "id": "xh-UnHoHpFa2",
        "outputId": "a218b4e9-94fa-4bed-9df4-0653267d84a0"
      },
      "execution_count": null,
      "outputs": [
        {
          "output_type": "execute_result",
          "data": {
            "text/plain": [
              "list"
            ]
          },
          "metadata": {},
          "execution_count": 63
        }
      ]
    },
    {
      "cell_type": "markdown",
      "source": [
        "What is the dtype of this array?"
      ],
      "metadata": {
        "id": "0jC7SGe8qUN5"
      }
    },
    {
      "cell_type": "code",
      "source": [
        "ages_with_string = np.array([1,2,3,'23',20,'19'],dtype = 'int64')\n",
        "ages_with_string.dtype"
      ],
      "metadata": {
        "colab": {
          "base_uri": "https://localhost:8080/"
        },
        "id": "nokCuPI4p5yZ",
        "outputId": "b98981fc-2afb-49d5-aeda-a28a0645cd1b"
      },
      "execution_count": null,
      "outputs": [
        {
          "output_type": "execute_result",
          "data": {
            "text/plain": [
              "dtype('int64')"
            ]
          },
          "metadata": {},
          "execution_count": 66
        }
      ]
    },
    {
      "cell_type": "markdown",
      "source": [
        "What do you think has happened here?"
      ],
      "metadata": {
        "id": "MzBt0_Abq-n6"
      }
    },
    {
      "cell_type": "code",
      "source": [
        "ages_with_string = np.array([1,2,3,'23',20,'19'],dtype = 'int64') # every value of the array change into int64 types here \n",
        "print(ages_with_string)"
      ],
      "metadata": {
        "colab": {
          "base_uri": "https://localhost:8080/"
        },
        "id": "Y-w_ALVBqryf",
        "outputId": "1b8f55f1-8c2a-4689-c124-f796ec5524d6"
      },
      "execution_count": null,
      "outputs": [
        {
          "output_type": "stream",
          "name": "stdout",
          "text": [
            "[ 1  2  3 23 20 19]\n"
          ]
        }
      ]
    },
    {
      "cell_type": "code",
      "source": [
        "ages_with_string.dtype = 'int32' # if i change to int32 dtype then 0 comes at alternate position\n",
        "print(ages_with_string)"
      ],
      "metadata": {
        "colab": {
          "base_uri": "https://localhost:8080/"
        },
        "id": "4DGrGBV0rFfX",
        "outputId": "5c90cbf8-e3b7-4ce2-f01f-81bac0bd43f9"
      },
      "execution_count": null,
      "outputs": [
        {
          "output_type": "stream",
          "name": "stdout",
          "text": [
            "[ 1  0  2  0  3  0 23  0 20  0 19  0]\n"
          ]
        }
      ]
    },
    {
      "cell_type": "code",
      "source": [
        "ages_with_string.size"
      ],
      "metadata": {
        "colab": {
          "base_uri": "https://localhost:8080/"
        },
        "id": "Ozif2mu0rpzH",
        "outputId": "db22b105-2644-4f24-a5a8-0bc9114d5298"
      },
      "execution_count": null,
      "outputs": [
        {
          "output_type": "execute_result",
          "data": {
            "text/plain": [
              "12"
            ]
          },
          "metadata": {},
          "execution_count": 77
        }
      ]
    },
    {
      "cell_type": "code",
      "source": [
        "ages_with_string.size/12"
      ],
      "metadata": {
        "colab": {
          "base_uri": "https://localhost:8080/"
        },
        "id": "577O0w1Trwx7",
        "outputId": "9653aac0-3f7e-4041-8309-05ff73810daf"
      },
      "execution_count": null,
      "outputs": [
        {
          "output_type": "execute_result",
          "data": {
            "text/plain": [
              "1.0"
            ]
          },
          "metadata": {},
          "execution_count": 79
        }
      ]
    },
    {
      "cell_type": "code",
      "source": [
        "np.array([10, 5, 8, '32', '65', '43']).size"
      ],
      "metadata": {
        "colab": {
          "base_uri": "https://localhost:8080/"
        },
        "id": "1Lt1sV72r0IM",
        "outputId": "49decb7e-3cf7-49aa-a64f-711d1c728bf1"
      },
      "execution_count": null,
      "outputs": [
        {
          "output_type": "execute_result",
          "data": {
            "text/plain": [
              "6"
            ]
          },
          "metadata": {},
          "execution_count": 80
        }
      ]
    },
    {
      "cell_type": "markdown",
      "source": [
        "The correct way to have changed the data type of the ndarray would have been to use the .astype() method, demonstrated below"
      ],
      "metadata": {
        "id": "035QTaUzvLuN"
      }
    },
    {
      "cell_type": "code",
      "source": [
        "# astype() change the data type \n",
        "ages_with_string = np.array([1,3,4,'23','20','19'])\n",
        "print(ages_with_string)\n",
        "print(ages_with_string.astype('int32'))"
      ],
      "metadata": {
        "colab": {
          "base_uri": "https://localhost:8080/"
        },
        "id": "HcgVFRo3vG5D",
        "outputId": "6bd0ba3d-cd86-4c55-e030-d1105627c31a"
      },
      "execution_count": null,
      "outputs": [
        {
          "output_type": "stream",
          "name": "stdout",
          "text": [
            "['1' '3' '4' '23' '20' '19']\n",
            "[ 1  3  4 23 20 19]\n"
          ]
        }
      ]
    },
    {
      "cell_type": "markdown",
      "source": [
        "### Exercise\n",
        "#### Create an array of string numbers, but use dtype to make it an array of floats.\n",
        "#### Transpose the matrix, printing the new size and shape.\n",
        "#### Use the .astype() method to convert the array to boolean."
      ],
      "metadata": {
        "id": "obew2tbjzE_S"
      }
    },
    {
      "cell_type": "code",
      "source": [
        "# 1.\n",
        "arr = ['22','2','19','15']\n",
        "arr_float = np.array(arr,dtype='float')\n",
        "arr_float.dtype"
      ],
      "metadata": {
        "colab": {
          "base_uri": "https://localhost:8080/"
        },
        "id": "Rhcx2kELv1Vu",
        "outputId": "2e54caa0-84d2-4624-9943-fba234583e4d"
      },
      "execution_count": null,
      "outputs": [
        {
          "output_type": "execute_result",
          "data": {
            "text/plain": [
              "dtype('float64')"
            ]
          },
          "metadata": {},
          "execution_count": 85
        }
      ]
    },
    {
      "cell_type": "code",
      "source": [
        "# 2.\n",
        "arr_float.shape = (2,2)\n",
        "print(arr_float, '\\n')\n",
        "print(arr_float.T)"
      ],
      "metadata": {
        "colab": {
          "base_uri": "https://localhost:8080/"
        },
        "id": "pWHAM-E7zi4q",
        "outputId": "2d816968-a4c7-4f6e-91e3-65aee9677a5f"
      },
      "execution_count": null,
      "outputs": [
        {
          "output_type": "stream",
          "name": "stdout",
          "text": [
            "[[22.  2.]\n",
            " [19. 15.]] \n",
            "\n",
            "[[22. 19.]\n",
            " [ 2. 15.]]\n"
          ]
        }
      ]
    },
    {
      "cell_type": "code",
      "source": [
        "# 3.\n",
        "print(arr_float.astype('bool'))"
      ],
      "metadata": {
        "colab": {
          "base_uri": "https://localhost:8080/"
        },
        "id": "OYNb1FWI0WXZ",
        "outputId": "894ea94a-1d72-481f-ee96-735ad574b498"
      },
      "execution_count": null,
      "outputs": [
        {
          "output_type": "stream",
          "name": "stdout",
          "text": [
            "[[ True  True]\n",
            " [ True  True]]\n"
          ]
        }
      ]
    },
    {
      "cell_type": "markdown",
      "source": [
        "### Array slicing Operations\n",
        "\n",
        "> As before, we can use square brackets and indices to access individual values, and the colon operator to slice the array\n",
        "\n"
      ],
      "metadata": {
        "id": "EctMVWSq0vRg"
      }
    },
    {
      "cell_type": "code",
      "source": [
        "six_times_space[:]"
      ],
      "metadata": {
        "colab": {
          "base_uri": "https://localhost:8080/"
        },
        "id": "CbEbMoek0laO",
        "outputId": "da94b049-07df-49a8-d544-7f644846a1e4"
      },
      "execution_count": null,
      "outputs": [
        {
          "output_type": "execute_result",
          "data": {
            "text/plain": [
              "array([ 0,  6, 12, 18, 24, 30, 36, 42, 48, 54])"
            ]
          },
          "metadata": {},
          "execution_count": 89
        }
      ]
    },
    {
      "cell_type": "code",
      "source": [
        "# printing first element \n",
        "print(six_times_space[0])\n",
        "# printing first five number \n",
        "print(six_times_space[0:5])\n",
        "# with step\n",
        "print(six_times_space[::-1])"
      ],
      "metadata": {
        "colab": {
          "base_uri": "https://localhost:8080/"
        },
        "id": "KLOKCab51FaR",
        "outputId": "e50cc7de-64f8-4474-ebcd-20d4af2c9d06"
      },
      "execution_count": null,
      "outputs": [
        {
          "output_type": "stream",
          "name": "stdout",
          "text": [
            "0\n",
            "[ 0  6 12 18 24]\n",
            "[54 48 42 36 30 24 18 12  6  0]\n"
          ]
        }
      ]
    },
    {
      "cell_type": "markdown",
      "source": [
        "\n",
        "\n",
        "> we can also slice ndimention array\n",
        "\n"
      ],
      "metadata": {
        "id": "CsRGNmqq1w6_"
      }
    },
    {
      "cell_type": "code",
      "source": [
        "print(people)\n",
        "print(people[:2,:3])"
      ],
      "metadata": {
        "colab": {
          "base_uri": "https://localhost:8080/"
        },
        "id": "rqFSv4561iZ_",
        "outputId": "f239111c-e450-4641-e973-1d7a8c0b5c74"
      },
      "execution_count": null,
      "outputs": [
        {
          "output_type": "stream",
          "name": "stdout",
          "text": [
            "[[26 24 10 28 20 27]\n",
            " [57 60 59 48 54 47]]\n",
            "[[26 24 10]\n",
            " [57 60 59]]\n"
          ]
        }
      ]
    },
    {
      "cell_type": "markdown",
      "source": [
        "### Exercise\n",
        "Exercise\n",
        "Create a numpy array with 50 zeros\n",
        "\n",
        "Create a np array of 2 repeated 20 times\n",
        "\n",
        "Create a numpy array from 0 to 2  in steps of 0.1\n",
        "\n",
        "For one of the arrays generated:\n",
        "\n",
        "Get the first five values\n",
        "\n",
        "Get the last 3 values\n",
        "\n",
        "Get the 4th value to the 7th value"
      ],
      "metadata": {
        "id": "_KzJ-GOB2Tml"
      }
    },
    {
      "cell_type": "code",
      "source": [
        "# 1 .\n",
        "fifty_zeros = np.zeros(50)\n",
        "print(fifty_zeros)"
      ],
      "metadata": {
        "colab": {
          "base_uri": "https://localhost:8080/"
        },
        "id": "KmNapuns2BZ_",
        "outputId": "41e37ac4-1e7b-47aa-ff5a-c83bc86b0dec"
      },
      "execution_count": null,
      "outputs": [
        {
          "output_type": "stream",
          "name": "stdout",
          "text": [
            "[0. 0. 0. 0. 0. 0. 0. 0. 0. 0. 0. 0. 0. 0. 0. 0. 0. 0. 0. 0. 0. 0. 0. 0.\n",
            " 0. 0. 0. 0. 0. 0. 0. 0. 0. 0. 0. 0. 0. 0. 0. 0. 0. 0. 0. 0. 0. 0. 0. 0.\n",
            " 0. 0.]\n"
          ]
        }
      ]
    },
    {
      "cell_type": "code",
      "source": [
        "# 2.\n",
        "two_repeat = np.repeat(2,20)\n",
        "print(two_repeat)\n",
        "print(len(two_repeat))"
      ],
      "metadata": {
        "colab": {
          "base_uri": "https://localhost:8080/"
        },
        "id": "K-U7FCby3AjS",
        "outputId": "2cb08f89-ccb0-4478-b195-d9eb82c927b2"
      },
      "execution_count": null,
      "outputs": [
        {
          "output_type": "stream",
          "name": "stdout",
          "text": [
            "[2 2 2 2 2 2 2 2 2 2 2 2 2 2 2 2 2 2 2 2]\n",
            "20\n"
          ]
        }
      ]
    },
    {
      "cell_type": "code",
      "source": [
        "# 3.\n",
        "import math\n",
        "step_arr = np.arange(0,2*math.pi,0.1)\n",
        "step_arr"
      ],
      "metadata": {
        "colab": {
          "base_uri": "https://localhost:8080/"
        },
        "id": "aJVA6oyc3RyV",
        "outputId": "eb58aa8c-c8c8-4a30-88a3-002e67c75557"
      },
      "execution_count": null,
      "outputs": [
        {
          "output_type": "execute_result",
          "data": {
            "text/plain": [
              "array([0. , 0.1, 0.2, 0.3, 0.4, 0.5, 0.6, 0.7, 0.8, 0.9, 1. , 1.1, 1.2,\n",
              "       1.3, 1.4, 1.5, 1.6, 1.7, 1.8, 1.9, 2. , 2.1, 2.2, 2.3, 2.4, 2.5,\n",
              "       2.6, 2.7, 2.8, 2.9, 3. , 3.1, 3.2, 3.3, 3.4, 3.5, 3.6, 3.7, 3.8,\n",
              "       3.9, 4. , 4.1, 4.2, 4.3, 4.4, 4.5, 4.6, 4.7, 4.8, 4.9, 5. , 5.1,\n",
              "       5.2, 5.3, 5.4, 5.5, 5.6, 5.7, 5.8, 5.9, 6. , 6.1, 6.2])"
            ]
          },
          "metadata": {},
          "execution_count": 100
        }
      ]
    },
    {
      "cell_type": "code",
      "source": [
        "# 4.\n",
        "step_arr[:5]"
      ],
      "metadata": {
        "colab": {
          "base_uri": "https://localhost:8080/"
        },
        "id": "guYBTwLu3qtT",
        "outputId": "c0d87e55-b3b3-4aa3-8822-a1ef8ef69850"
      },
      "execution_count": null,
      "outputs": [
        {
          "output_type": "execute_result",
          "data": {
            "text/plain": [
              "array([0. , 0.1, 0.2, 0.3, 0.4])"
            ]
          },
          "metadata": {},
          "execution_count": 102
        }
      ]
    },
    {
      "cell_type": "code",
      "source": [
        "# 5.\n",
        "step_arr[-3:]"
      ],
      "metadata": {
        "colab": {
          "base_uri": "https://localhost:8080/"
        },
        "id": "Ryu0n95D44P9",
        "outputId": "39be5cfb-c9c4-4923-9e28-4cc5dee55a86"
      },
      "execution_count": null,
      "outputs": [
        {
          "output_type": "execute_result",
          "data": {
            "text/plain": [
              "array([6. , 6.1, 6.2])"
            ]
          },
          "metadata": {},
          "execution_count": 104
        }
      ]
    },
    {
      "cell_type": "code",
      "source": [
        "# 6.\n",
        "step_arr[3:8]"
      ],
      "metadata": {
        "colab": {
          "base_uri": "https://localhost:8080/"
        },
        "id": "Zhj7nRPh44TI",
        "outputId": "c18bb66a-ab74-4cf1-dce6-4807f0e00aee"
      },
      "execution_count": null,
      "outputs": [
        {
          "output_type": "execute_result",
          "data": {
            "text/plain": [
              "array([0.3, 0.4, 0.5, 0.6, 0.7])"
            ]
          },
          "metadata": {},
          "execution_count": 105
        }
      ]
    },
    {
      "cell_type": "markdown",
      "source": [
        "### We can reverse an array by using .flip() or by using the :: operator."
      ],
      "metadata": {
        "id": "E5nVAINB4bLO"
      }
    },
    {
      "cell_type": "code",
      "source": [
        "reverse_table = np.flip(six_times_space)\n",
        "print(reverse_table)"
      ],
      "metadata": {
        "colab": {
          "base_uri": "https://localhost:8080/"
        },
        "id": "JCQz6hmg5TlU",
        "outputId": "26836997-2a2f-4692-9e20-8042387a8135"
      },
      "execution_count": null,
      "outputs": [
        {
          "output_type": "stream",
          "name": "stdout",
          "text": [
            "[54 48 42 36 30 24 18 12  6  0]\n"
          ]
        }
      ]
    },
    {
      "cell_type": "code",
      "source": [
        "reverse_table = reverse_table[::-1]\n",
        "print(reverse_table)"
      ],
      "metadata": {
        "colab": {
          "base_uri": "https://localhost:8080/"
        },
        "id": "4O6oXyy65h_W",
        "outputId": "2561577a-fc81-4a3a-b0b0-4ef13db59e9d"
      },
      "execution_count": null,
      "outputs": [
        {
          "output_type": "stream",
          "name": "stdout",
          "text": [
            "[ 0  6 12 18 24 30 36 42 48 54]\n"
          ]
        }
      ]
    },
    {
      "cell_type": "markdown",
      "source": [
        "\n",
        "\n",
        "> We can also use the :: operator to select steps of the original array\n",
        "\n"
      ],
      "metadata": {
        "id": "KOfVerav59CW"
      }
    },
    {
      "cell_type": "code",
      "source": [
        "print(reverse_table[::2])"
      ],
      "metadata": {
        "colab": {
          "base_uri": "https://localhost:8080/"
        },
        "id": "ttAwjIfy5teO",
        "outputId": "b42b8fa4-da75-42bf-ca86-d03d210d4e8c"
      },
      "execution_count": null,
      "outputs": [
        {
          "output_type": "stream",
          "name": "stdout",
          "text": [
            "[ 0 12 24 36 48]\n"
          ]
        }
      ]
    },
    {
      "cell_type": "markdown",
      "source": [
        "### Exercise\n",
        "Take one of the arrays you defined and\n",
        "\n",
        "#### Reverse it\n",
        "#### Only keep every 4th element.\n",
        "#### Get every 2nd element, starting from the last and moving backwards."
      ],
      "metadata": {
        "id": "uNwb_WmA6JLG"
      }
    },
    {
      "cell_type": "code",
      "source": [
        "# 1.\n",
        "print(reverse_table[::-1])"
      ],
      "metadata": {
        "colab": {
          "base_uri": "https://localhost:8080/"
        },
        "id": "u-hpAYGS6EeH",
        "outputId": "df5c2e72-b33d-4048-d88d-0c83303cdf18"
      },
      "execution_count": null,
      "outputs": [
        {
          "output_type": "stream",
          "name": "stdout",
          "text": [
            "[54 48 42 36 30 24 18 12  6  0]\n"
          ]
        }
      ]
    },
    {
      "cell_type": "code",
      "source": [
        "# 2.\n",
        "print(reverse_table[::4])"
      ],
      "metadata": {
        "colab": {
          "base_uri": "https://localhost:8080/"
        },
        "id": "lD8LCytY6Xv_",
        "outputId": "0acfcb30-5fd9-49bf-8dc1-1dbd6c05ea74"
      },
      "execution_count": null,
      "outputs": [
        {
          "output_type": "stream",
          "name": "stdout",
          "text": [
            "[ 0 24 48]\n"
          ]
        }
      ]
    },
    {
      "cell_type": "code",
      "source": [
        "# 3.\n",
        "print(reverse_table[::-2])"
      ],
      "metadata": {
        "colab": {
          "base_uri": "https://localhost:8080/"
        },
        "id": "R-84WbN56eQm",
        "outputId": "0daaace8-f701-418b-8fd8-db13084f835e"
      },
      "execution_count": null,
      "outputs": [
        {
          "output_type": "stream",
          "name": "stdout",
          "text": [
            "[54 42 30 18  6]\n"
          ]
        }
      ]
    },
    {
      "cell_type": "markdown",
      "source": [
        "### Stats"
      ],
      "metadata": {
        "id": "jnZC4vAF7FF_"
      }
    },
    {
      "cell_type": "code",
      "source": [
        "# using round funtion \n",
        "np.array([1.65432, 5.98765]).round(2)"
      ],
      "metadata": {
        "colab": {
          "base_uri": "https://localhost:8080/"
        },
        "id": "VtIWChz-618w",
        "outputId": "9520ac62-67a4-4773-8326-9743b5e9076c"
      },
      "execution_count": null,
      "outputs": [
        {
          "output_type": "execute_result",
          "data": {
            "text/plain": [
              "array([1.65, 5.99])"
            ]
          },
          "metadata": {},
          "execution_count": 117
        }
      ]
    },
    {
      "cell_type": "code",
      "source": [
        "num = np.arange(1,10,0.353)\n",
        "num"
      ],
      "metadata": {
        "colab": {
          "base_uri": "https://localhost:8080/"
        },
        "id": "Dsj0Hhwa7nQa",
        "outputId": "ebf4c186-e845-4b6a-fe9d-8429bb31f7fd"
      },
      "execution_count": null,
      "outputs": [
        {
          "output_type": "execute_result",
          "data": {
            "text/plain": [
              "array([1.   , 1.353, 1.706, 2.059, 2.412, 2.765, 3.118, 3.471, 3.824,\n",
              "       4.177, 4.53 , 4.883, 5.236, 5.589, 5.942, 6.295, 6.648, 7.001,\n",
              "       7.354, 7.707, 8.06 , 8.413, 8.766, 9.119, 9.472, 9.825])"
            ]
          },
          "metadata": {},
          "execution_count": 119
        }
      ]
    },
    {
      "cell_type": "markdown",
      "source": [
        "### Exercise\n",
        "Compute min, max, sum, mean, median, variance, and standard deviation of the above array, all to to 2 decimal places."
      ],
      "metadata": {
        "id": "ugd05A_L8QeL"
      }
    },
    {
      "cell_type": "code",
      "source": [
        "print(\"min = \", np.min(num).round(2))\n",
        "print(\"max = \", np.max(num).round(2))\n",
        "print(\"sum = \", np.sum(num).round(2))\n",
        "print(\"mean = \", np.mean(num).round(2))\n",
        "print(\"median = \", np.median(num).round(2))\n",
        "print(\"var = \", np.var(num).round(2))\n",
        "print(\"std = \", np.std(num).round(2))"
      ],
      "metadata": {
        "colab": {
          "base_uri": "https://localhost:8080/"
        },
        "id": "NKwJcMxN8CHH",
        "outputId": "5e1581f6-e7d4-4610-ec5f-b26a875dbd4d"
      },
      "execution_count": null,
      "outputs": [
        {
          "output_type": "stream",
          "name": "stdout",
          "text": [
            "min =  1.0\n",
            "max =  9.82\n",
            "sum =  140.72\n",
            "mean =  5.41\n",
            "median =  5.41\n",
            "var =  7.01\n",
            "std =  2.65\n"
          ]
        }
      ]
    },
    {
      "cell_type": "markdown",
      "source": [
        "### Random\n",
        "With np.random, we can generate a number of types of dataset, and create training data.\n",
        "\n",
        "The below code simulates a fair coin toss."
      ],
      "metadata": {
        "id": "DPb3gGWY8lJr"
      }
    },
    {
      "cell_type": "code",
      "source": [
        "toss = np.random.choice([0,1],10)\n",
        "toss"
      ],
      "metadata": {
        "colab": {
          "base_uri": "https://localhost:8080/"
        },
        "id": "Ciw4G_8z8gPx",
        "outputId": "2514b3ab-fa20-4d0f-adb3-a9b5c8ee6c32"
      },
      "execution_count": null,
      "outputs": [
        {
          "output_type": "execute_result",
          "data": {
            "text/plain": [
              "array([1, 0, 0, 1, 0, 0, 1, 0, 1, 1])"
            ]
          },
          "metadata": {},
          "execution_count": 121
        }
      ]
    },
    {
      "cell_type": "code",
      "source": [
        "#Random With np.random, we can generate a number of types of dataset, and create training data.\n",
        "\n",
        "\n",
        "np.random.rand(2,5,3)"
      ],
      "metadata": {
        "colab": {
          "base_uri": "https://localhost:8080/"
        },
        "id": "cQgyjdLw89dY",
        "outputId": "f6f9b333-83b9-44e1-8390-f56340bd6ecc"
      },
      "execution_count": null,
      "outputs": [
        {
          "output_type": "execute_result",
          "data": {
            "text/plain": [
              "array([[[0.36942379, 0.48116474, 0.88967326],\n",
              "        [0.06563901, 0.90052295, 0.18953549],\n",
              "        [0.94258741, 0.45224683, 0.12233642],\n",
              "        [0.69518442, 0.57500214, 0.86124759],\n",
              "        [0.32731683, 0.26218071, 0.2894768 ]],\n",
              "\n",
              "       [[0.60719407, 0.48141691, 0.8205382 ],\n",
              "        [0.85901616, 0.47086724, 0.14782527],\n",
              "        [0.79300468, 0.86324179, 0.62092897],\n",
              "        [0.39027145, 0.07556635, 0.36720905],\n",
              "        [0.84689016, 0.36236792, 0.56275124]]])"
            ]
          },
          "metadata": {},
          "execution_count": 124
        }
      ]
    },
    {
      "cell_type": "markdown",
      "source": [
        "\n",
        "\n",
        "> We can produce 1000 datapoints of a normally distributed data set by using np.random.normal()\n",
        "\n"
      ],
      "metadata": {
        "id": "kgX4NbS3-E71"
      }
    },
    {
      "cell_type": "code",
      "source": [
        "mu , sigma = 0 , 0.1 # mu is mean and sigma is standard deviation here \n",
        "np.random.normal(mu,sigma,20) # 20 data points which normal distribution"
      ],
      "metadata": {
        "colab": {
          "base_uri": "https://localhost:8080/"
        },
        "id": "EjYJLdH79I0b",
        "outputId": "5aaee328-db02-4ee3-8190-70d847f1f180"
      },
      "execution_count": null,
      "outputs": [
        {
          "output_type": "execute_result",
          "data": {
            "text/plain": [
              "array([ 0.01719333,  0.06350111,  0.04972689, -0.10228559, -0.02342303,\n",
              "        0.04590006, -0.02223842, -0.02721601,  0.02188397, -0.18729414,\n",
              "        0.00753161, -0.08895092,  0.0405058 ,  0.15304926,  0.11338763,\n",
              "       -0.06232181,  0.05762666, -0.11265081, -0.03502566,  0.14712911])"
            ]
          },
          "metadata": {},
          "execution_count": 128
        }
      ]
    },
    {
      "cell_type": "markdown",
      "source": [
        "### Exercise\n",
        "Simulate a six-sided dice using numpy.random.choice(), generate a list of values you would obtain from 10 throws.\n",
        "\n",
        "Simulate a two-sided coin toss that is NOT fair: it is twice as likely to have head than tails."
      ],
      "metadata": {
        "id": "rdPj_lLy-5FD"
      }
    },
    {
      "cell_type": "code",
      "source": [
        "# 1.\n",
        "np.random.choice([x for x in range(0,7)],10)"
      ],
      "metadata": {
        "colab": {
          "base_uri": "https://localhost:8080/"
        },
        "id": "_2gd_k4g-fiy",
        "outputId": "9c091e08-f29c-4858-e16f-368de213c509"
      },
      "execution_count": null,
      "outputs": [
        {
          "output_type": "execute_result",
          "data": {
            "text/plain": [
              "array([4, 3, 1, 5, 6, 2, 6, 4, 6, 3])"
            ]
          },
          "metadata": {},
          "execution_count": 131
        }
      ]
    },
    {
      "cell_type": "code",
      "source": [
        "# 2. for Head = 1 , for tails = 0\n",
        "toss = np.random.choice([0,1,1],10)\n",
        "print(toss)\n"
      ],
      "metadata": {
        "colab": {
          "base_uri": "https://localhost:8080/"
        },
        "id": "vskMUOUq_HEL",
        "outputId": "911c9252-a9e0-417f-c785-e913b0f9b05b"
      },
      "execution_count": null,
      "outputs": [
        {
          "output_type": "stream",
          "name": "stdout",
          "text": [
            "[0 0 0 1 1 1 1 1 0 1]\n"
          ]
        }
      ]
    },
    {
      "cell_type": "code",
      "source": [],
      "metadata": {
        "id": "ZbG5XGuhATo1"
      },
      "execution_count": null,
      "outputs": []
    }
  ]
}