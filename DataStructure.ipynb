{
  "nbformat": 4,
  "nbformat_minor": 0,
  "metadata": {
    "colab": {
      "provenance": [],
      "authorship_tag": "ABX9TyOiuX8igNoo7F9rSY5EspLA",
      "include_colab_link": true
    },
    "kernelspec": {
      "name": "python3",
      "display_name": "Python 3"
    },
    "language_info": {
      "name": "python"
    }
  },
  "cells": [
    {
      "cell_type": "markdown",
      "metadata": {
        "id": "view-in-github",
        "colab_type": "text"
      },
      "source": [
        "<a href=\"https://colab.research.google.com/github/HUSSAIN7860/Python_EyTraining/blob/main/DataStructure.ipynb\" target=\"_parent\"><img src=\"https://colab.research.google.com/assets/colab-badge.svg\" alt=\"Open In Colab\"/></a>"
      ]
    },
    {
      "cell_type": "markdown",
      "source": [
        "### Python DataStructure : LIST , TUPLE , DICTIONARY , SET"
      ],
      "metadata": {
        "id": "5nhdFGBTpQGz"
      }
    },
    {
      "cell_type": "markdown",
      "source": [
        "### LIST\n",
        "  * Lists are used to store multiple items in a single variable\n",
        "\n",
        "  * List items are ordered, changeable, and allow duplicate values.\n",
        "\n",
        "  * List items are indexed, the first item has index [0], the second item has    index [1] etc."
      ],
      "metadata": {
        "id": "cw9kJQlLprii"
      }
    },
    {
      "cell_type": "code",
      "execution_count": 22,
      "metadata": {
        "colab": {
          "base_uri": "https://localhost:8080/"
        },
        "id": "AFNaIL-DpHHL",
        "outputId": "16839789-bc48-4d97-959b-69a37556b7f4"
      },
      "outputs": [
        {
          "output_type": "execute_result",
          "data": {
            "text/plain": [
              "['apple', 1, 3, 'orange', 4.0, True]"
            ]
          },
          "metadata": {},
          "execution_count": 22
        }
      ],
      "source": [
        "# list\n",
        "l = ['apple',1,3,'orange',4.0,True ]\n",
        "l"
      ]
    },
    {
      "cell_type": "code",
      "source": [
        "dir(l)"
      ],
      "metadata": {
        "colab": {
          "base_uri": "https://localhost:8080/"
        },
        "id": "hfMxfvbhpPuw",
        "outputId": "3888e1d8-2332-4eb3-cddf-75b3ae6594e9"
      },
      "execution_count": 23,
      "outputs": [
        {
          "output_type": "execute_result",
          "data": {
            "text/plain": [
              "['__add__',\n",
              " '__class__',\n",
              " '__contains__',\n",
              " '__delattr__',\n",
              " '__delitem__',\n",
              " '__dir__',\n",
              " '__doc__',\n",
              " '__eq__',\n",
              " '__format__',\n",
              " '__ge__',\n",
              " '__getattribute__',\n",
              " '__getitem__',\n",
              " '__gt__',\n",
              " '__hash__',\n",
              " '__iadd__',\n",
              " '__imul__',\n",
              " '__init__',\n",
              " '__init_subclass__',\n",
              " '__iter__',\n",
              " '__le__',\n",
              " '__len__',\n",
              " '__lt__',\n",
              " '__mul__',\n",
              " '__ne__',\n",
              " '__new__',\n",
              " '__reduce__',\n",
              " '__reduce_ex__',\n",
              " '__repr__',\n",
              " '__reversed__',\n",
              " '__rmul__',\n",
              " '__setattr__',\n",
              " '__setitem__',\n",
              " '__sizeof__',\n",
              " '__str__',\n",
              " '__subclasshook__',\n",
              " 'append',\n",
              " 'clear',\n",
              " 'copy',\n",
              " 'count',\n",
              " 'extend',\n",
              " 'index',\n",
              " 'insert',\n",
              " 'pop',\n",
              " 'remove',\n",
              " 'reverse',\n",
              " 'sort']"
            ]
          },
          "metadata": {},
          "execution_count": 23
        }
      ]
    },
    {
      "cell_type": "code",
      "source": [
        "# Adding element at the last\n",
        "l.append('mango') \n"
      ],
      "metadata": {
        "id": "0LKRoOvkq235"
      },
      "execution_count": 24,
      "outputs": []
    },
    {
      "cell_type": "code",
      "source": [
        "#The clear() method empties the list.\n",
        "#The list still remains, but it has no content.\n",
        "#l.clear()\n",
        "#l"
      ],
      "metadata": {
        "colab": {
          "base_uri": "https://localhost:8080/"
        },
        "id": "lVlAPmm7q9Dc",
        "outputId": "80854881-95f4-4a42-e301-d1e68592e819"
      },
      "execution_count": 21,
      "outputs": [
        {
          "output_type": "execute_result",
          "data": {
            "text/plain": [
              "[]"
            ]
          },
          "metadata": {},
          "execution_count": 21
        }
      ]
    },
    {
      "cell_type": "markdown",
      "source": [
        "You cannot copy a list simply by typing list2 = list1, because: list2 will only be a reference to list1, and changes made in list1 will automatically also be made in list2.\n",
        "\n",
        "There are ways to make a copy, one way is to use the built-in List method copy()."
      ],
      "metadata": {
        "id": "Xf4c2rinseFn"
      }
    },
    {
      "cell_type": "code",
      "source": [
        "# copy \n",
        "l1 = l.copy()\n",
        "l1"
      ],
      "metadata": {
        "colab": {
          "base_uri": "https://localhost:8080/"
        },
        "id": "8PJzjuHorGor",
        "outputId": "d454446c-e2ef-4c4a-846a-cdf586cbeb0b"
      },
      "execution_count": 25,
      "outputs": [
        {
          "output_type": "execute_result",
          "data": {
            "text/plain": [
              "['apple', 1, 3, 'orange', 4.0, True, 'mango']"
            ]
          },
          "metadata": {},
          "execution_count": 25
        }
      ]
    },
    {
      "cell_type": "markdown",
      "source": [
        "count() is used to count the element in the list"
      ],
      "metadata": {
        "id": "kxppuAANssSd"
      }
    },
    {
      "cell_type": "code",
      "source": [
        "l1.count(3)"
      ],
      "metadata": {
        "colab": {
          "base_uri": "https://localhost:8080/"
        },
        "id": "4CIv4wIcsQBz",
        "outputId": "34009b69-0321-4e78-a1d1-5ced5bb51746"
      },
      "execution_count": 27,
      "outputs": [
        {
          "output_type": "execute_result",
          "data": {
            "text/plain": [
              "1"
            ]
          },
          "metadata": {},
          "execution_count": 27
        }
      ]
    },
    {
      "cell_type": "markdown",
      "source": [
        "To append elements from another list to the current list, use the extend() method."
      ],
      "metadata": {
        "id": "HDXAMNZ0s_2o"
      }
    },
    {
      "cell_type": "code",
      "source": [
        "l.extend(l1)\n",
        "l"
      ],
      "metadata": {
        "id": "RnK8CgKKs0Qc"
      },
      "execution_count": 28,
      "outputs": []
    },
    {
      "cell_type": "markdown",
      "source": [
        "List items are indexed and you can access them by referring to the index number:"
      ],
      "metadata": {
        "id": "pyqtWcnNtOPm"
      }
    },
    {
      "cell_type": "code",
      "source": [
        "l[2:4]"
      ],
      "metadata": {
        "colab": {
          "base_uri": "https://localhost:8080/"
        },
        "id": "NZ9Bg5h8tHNX",
        "outputId": "7dc54186-ab4c-4249-a0a7-338dbd514eab"
      },
      "execution_count": 30,
      "outputs": [
        {
          "output_type": "execute_result",
          "data": {
            "text/plain": [
              "[3, 'orange']"
            ]
          },
          "metadata": {},
          "execution_count": 30
        }
      ]
    },
    {
      "cell_type": "code",
      "source": [
        "# this returs the index of the element\n",
        "l.index(3)"
      ],
      "metadata": {
        "colab": {
          "base_uri": "https://localhost:8080/"
        },
        "id": "5PWyUGpbtJaC",
        "outputId": "d2e0d016-b694-4e80-e577-3f227b81ab9a"
      },
      "execution_count": 33,
      "outputs": [
        {
          "output_type": "execute_result",
          "data": {
            "text/plain": [
              "2"
            ]
          },
          "metadata": {},
          "execution_count": 33
        }
      ]
    },
    {
      "cell_type": "markdown",
      "source": [
        "To insert a list item at a specified index, use the insert() method.\n",
        "\n",
        "The insert() method inserts an item at the specified index:"
      ],
      "metadata": {
        "id": "dm2t7qMOuJjs"
      }
    },
    {
      "cell_type": "code",
      "source": [
        "# insert is used for inserting the element in the list\n",
        "l.insert(1,25)\n",
        "l"
      ],
      "metadata": {
        "colab": {
          "base_uri": "https://localhost:8080/"
        },
        "id": "LZ9LwjiIt1tB",
        "outputId": "218f316d-ee99-4a2c-ac91-573b8ade92c9"
      },
      "execution_count": 35,
      "outputs": [
        {
          "output_type": "execute_result",
          "data": {
            "text/plain": [
              "['apple',\n",
              " 25,\n",
              " 1,\n",
              " 3,\n",
              " 'orange',\n",
              " 4.0,\n",
              " True,\n",
              " 'mango',\n",
              " 'apple',\n",
              " 1,\n",
              " 3,\n",
              " 'orange',\n",
              " 4.0,\n",
              " True,\n",
              " 'mango']"
            ]
          },
          "metadata": {},
          "execution_count": 35
        }
      ]
    },
    {
      "cell_type": "code",
      "source": [
        "# pop() method is used for removing the last element in the list \n",
        "l2=l.pop()\n",
        "l2"
      ],
      "metadata": {
        "colab": {
          "base_uri": "https://localhost:8080/",
          "height": 36
        },
        "id": "zkiqACPBt9bG",
        "outputId": "36f4ef43-c9ef-4ae9-e6fa-8961dcaa95e2"
      },
      "execution_count": 36,
      "outputs": [
        {
          "output_type": "execute_result",
          "data": {
            "text/plain": [
              "'mango'"
            ],
            "application/vnd.google.colaboratory.intrinsic+json": {
              "type": "string"
            }
          },
          "metadata": {},
          "execution_count": 36
        }
      ]
    },
    {
      "cell_type": "code",
      "source": [
        "# remove() method is used for removing the specific element in the list\n",
        "l1.remove('apple')\n",
        "l1"
      ],
      "metadata": {
        "colab": {
          "base_uri": "https://localhost:8080/"
        },
        "id": "i-HlsqlRua3Z",
        "outputId": "7a3b67d0-92be-45ca-dd03-56ee5c4ed5f8"
      },
      "execution_count": 37,
      "outputs": [
        {
          "output_type": "execute_result",
          "data": {
            "text/plain": [
              "[1, 3, 'orange', 4.0, True, 'mango']"
            ]
          },
          "metadata": {},
          "execution_count": 37
        }
      ]
    },
    {
      "cell_type": "code",
      "source": [
        "# reversing the element in the list \n",
        "l1.reverse()\n",
        "l1"
      ],
      "metadata": {
        "colab": {
          "base_uri": "https://localhost:8080/"
        },
        "id": "IDvNxmqPuq9U",
        "outputId": "887e2445-8315-4ec9-ae59-e19739f317b9"
      },
      "execution_count": 38,
      "outputs": [
        {
          "output_type": "execute_result",
          "data": {
            "text/plain": [
              "['mango', True, 4.0, 'orange', 3, 1]"
            ]
          },
          "metadata": {},
          "execution_count": 38
        }
      ]
    },
    {
      "cell_type": "code",
      "source": [
        "# used for sorting \n",
        "l1 = [3,4,2,4,6,2,1]\n",
        "l1.sort()\n"
      ],
      "metadata": {
        "id": "jeyrFGrLu4lJ"
      },
      "execution_count": 42,
      "outputs": []
    },
    {
      "cell_type": "code",
      "source": [
        "l1"
      ],
      "metadata": {
        "colab": {
          "base_uri": "https://localhost:8080/"
        },
        "id": "7uhjA-RgvCDq",
        "outputId": "b46d2488-09d2-4597-e312-49f9d1093879"
      },
      "execution_count": 43,
      "outputs": [
        {
          "output_type": "execute_result",
          "data": {
            "text/plain": [
              "[1, 2, 2, 3, 4, 4, 6]"
            ]
          },
          "metadata": {},
          "execution_count": 43
        }
      ]
    },
    {
      "cell_type": "markdown",
      "source": [
        "### Tuple\n",
        "Tuples are used to store multiple items in a single variable.\n",
        "\n",
        "Tuple is one of 4 built-in data types in Python used to store collections of data, the other 3 are List, Set, and Dictionary, all with different qualities and usage.\n",
        "\n",
        "A tuple is a collection which is ordered and unchangeable.\n",
        "\n",
        "Tuples are written with round brackets."
      ],
      "metadata": {
        "id": "Dr2oL9N6vVju"
      }
    },
    {
      "cell_type": "code",
      "source": [
        "t = ()\n",
        "type(t)"
      ],
      "metadata": {
        "colab": {
          "base_uri": "https://localhost:8080/"
        },
        "id": "g0OdWaRbvKF1",
        "outputId": "405ed615-f9fb-47ba-adfe-c8ba2080f2ba"
      },
      "execution_count": 45,
      "outputs": [
        {
          "output_type": "execute_result",
          "data": {
            "text/plain": [
              "tuple"
            ]
          },
          "metadata": {},
          "execution_count": 45
        }
      ]
    },
    {
      "cell_type": "code",
      "source": [
        "dir(t)"
      ],
      "metadata": {
        "colab": {
          "base_uri": "https://localhost:8080/"
        },
        "id": "KEoy8U6Qvsw5",
        "outputId": "4b029d5f-ac40-4705-8966-6643b8d3db2e"
      },
      "execution_count": 46,
      "outputs": [
        {
          "output_type": "execute_result",
          "data": {
            "text/plain": [
              "['__add__',\n",
              " '__class__',\n",
              " '__contains__',\n",
              " '__delattr__',\n",
              " '__dir__',\n",
              " '__doc__',\n",
              " '__eq__',\n",
              " '__format__',\n",
              " '__ge__',\n",
              " '__getattribute__',\n",
              " '__getitem__',\n",
              " '__getnewargs__',\n",
              " '__gt__',\n",
              " '__hash__',\n",
              " '__init__',\n",
              " '__init_subclass__',\n",
              " '__iter__',\n",
              " '__le__',\n",
              " '__len__',\n",
              " '__lt__',\n",
              " '__mul__',\n",
              " '__ne__',\n",
              " '__new__',\n",
              " '__reduce__',\n",
              " '__reduce_ex__',\n",
              " '__repr__',\n",
              " '__rmul__',\n",
              " '__setattr__',\n",
              " '__sizeof__',\n",
              " '__str__',\n",
              " '__subclasshook__',\n",
              " 'count',\n",
              " 'index']"
            ]
          },
          "metadata": {},
          "execution_count": 46
        }
      ]
    },
    {
      "cell_type": "code",
      "source": [
        "t = (\"apple\", \"banana\", \"cherry\", \"apple\", \"cherry\")"
      ],
      "metadata": {
        "id": "kBcTwLQPvxI7"
      },
      "execution_count": 47,
      "outputs": []
    },
    {
      "cell_type": "code",
      "source": [
        "# Count() is used for counting the element of the tuple\n",
        "t.count('apple')"
      ],
      "metadata": {
        "colab": {
          "base_uri": "https://localhost:8080/"
        },
        "id": "vd_tN-FYv9cj",
        "outputId": "9efa3ce0-4adb-49d6-ed39-a579409fc7ab"
      },
      "execution_count": 48,
      "outputs": [
        {
          "output_type": "execute_result",
          "data": {
            "text/plain": [
              "2"
            ]
          },
          "metadata": {},
          "execution_count": 48
        }
      ]
    },
    {
      "cell_type": "code",
      "source": [
        "# index() is used for accessing the element\n",
        "t[2] "
      ],
      "metadata": {
        "colab": {
          "base_uri": "https://localhost:8080/",
          "height": 36
        },
        "id": "VcKwEDw_wMSq",
        "outputId": "f81d61ce-a6bf-412f-9eb4-b9e764b2a681"
      },
      "execution_count": 49,
      "outputs": [
        {
          "output_type": "execute_result",
          "data": {
            "text/plain": [
              "'cherry'"
            ],
            "application/vnd.google.colaboratory.intrinsic+json": {
              "type": "string"
            }
          },
          "metadata": {},
          "execution_count": 49
        }
      ]
    },
    {
      "cell_type": "markdown",
      "source": [
        "### Dictionary\n",
        "Dictionaries are used to store data values in key:value pairs.\n",
        "\n",
        "A dictionary is a collection which is ordered*, changeable and do not allow duplicates.\n",
        "\n",
        "As of Python version 3.7, dictionaries are ordered. In Python 3.6 and earlier, dictionaries are unordered.\n",
        "\n",
        "Dictionaries are written with curly brackets, and have keys and values:"
      ],
      "metadata": {
        "id": "Hyqg8DciwiYW"
      }
    },
    {
      "cell_type": "code",
      "source": [
        "d = {}\n",
        "type(d)"
      ],
      "metadata": {
        "colab": {
          "base_uri": "https://localhost:8080/"
        },
        "id": "Q6xQIBsIwahz",
        "outputId": "e201f6a3-9a02-44fb-9335-fc2ec006ba2a"
      },
      "execution_count": 50,
      "outputs": [
        {
          "output_type": "execute_result",
          "data": {
            "text/plain": [
              "dict"
            ]
          },
          "metadata": {},
          "execution_count": 50
        }
      ]
    },
    {
      "cell_type": "code",
      "source": [
        "dir(d)"
      ],
      "metadata": {
        "colab": {
          "base_uri": "https://localhost:8080/"
        },
        "id": "REtkNrVvwuH2",
        "outputId": "7961e572-6b51-4c43-89cc-219d81256b8f"
      },
      "execution_count": 51,
      "outputs": [
        {
          "output_type": "execute_result",
          "data": {
            "text/plain": [
              "['__class__',\n",
              " '__contains__',\n",
              " '__delattr__',\n",
              " '__delitem__',\n",
              " '__dir__',\n",
              " '__doc__',\n",
              " '__eq__',\n",
              " '__format__',\n",
              " '__ge__',\n",
              " '__getattribute__',\n",
              " '__getitem__',\n",
              " '__gt__',\n",
              " '__hash__',\n",
              " '__init__',\n",
              " '__init_subclass__',\n",
              " '__iter__',\n",
              " '__le__',\n",
              " '__len__',\n",
              " '__lt__',\n",
              " '__ne__',\n",
              " '__new__',\n",
              " '__reduce__',\n",
              " '__reduce_ex__',\n",
              " '__repr__',\n",
              " '__setattr__',\n",
              " '__setitem__',\n",
              " '__sizeof__',\n",
              " '__str__',\n",
              " '__subclasshook__',\n",
              " 'clear',\n",
              " 'copy',\n",
              " 'fromkeys',\n",
              " 'get',\n",
              " 'items',\n",
              " 'keys',\n",
              " 'pop',\n",
              " 'popitem',\n",
              " 'setdefault',\n",
              " 'update',\n",
              " 'values']"
            ]
          },
          "metadata": {},
          "execution_count": 51
        }
      ]
    },
    {
      "cell_type": "code",
      "source": [
        "d = {\n",
        "  \"brand\": \"Kia\",\n",
        "  \"model\": \"Seltos\",\n",
        "  \"year\": 2021\n",
        "}"
      ],
      "metadata": {
        "id": "fpM0tWyqwwGb"
      },
      "execution_count": 76,
      "outputs": []
    },
    {
      "cell_type": "code",
      "source": [
        "# used for copy the dictionary\n",
        "d1 = d.copy()\n",
        "d1 "
      ],
      "metadata": {
        "colab": {
          "base_uri": "https://localhost:8080/"
        },
        "id": "ztAdTBXcxcLQ",
        "outputId": "5e1c8122-754c-4213-a0ef-46086070e61a"
      },
      "execution_count": 55,
      "outputs": [
        {
          "output_type": "execute_result",
          "data": {
            "text/plain": [
              "{'brand': 'Kia', 'model': 'Seltos', 'year': 2021}"
            ]
          },
          "metadata": {},
          "execution_count": 55
        }
      ]
    },
    {
      "cell_type": "code",
      "source": [
        "# The clear() method empties the Dictionary.\n",
        "#The Dictionary still remains, but it has no content.\n",
        "d1.clear()\n",
        "d1"
      ],
      "metadata": {
        "colab": {
          "base_uri": "https://localhost:8080/"
        },
        "id": "eyDO8dYjw_IK",
        "outputId": "041f7840-a3b3-4e2c-922e-d36b5a0d52e7"
      },
      "execution_count": 56,
      "outputs": [
        {
          "output_type": "execute_result",
          "data": {
            "text/plain": [
              "{}"
            ]
          },
          "metadata": {},
          "execution_count": 56
        }
      ]
    },
    {
      "cell_type": "markdown",
      "source": [
        "The fromkeys() method returns a dictionary with the specified keys and the specified value."
      ],
      "metadata": {
        "id": "uhAP5c6KybMl"
      }
    },
    {
      "cell_type": "code",
      "source": [
        "x = ('key1', 'key2', 'key3')\n",
        "y = 0\n",
        "\n",
        "thisdict = dict.fromkeys(x, y)\n",
        "thisdict"
      ],
      "metadata": {
        "colab": {
          "base_uri": "https://localhost:8080/"
        },
        "id": "RD82vQeLxbdD",
        "outputId": "12c3198d-0bf5-4ec0-f1b6-b2fd32a0d4e9"
      },
      "execution_count": 60,
      "outputs": [
        {
          "output_type": "execute_result",
          "data": {
            "text/plain": [
              "{'key1': 0, 'key2': 0, 'key3': 0}"
            ]
          },
          "metadata": {},
          "execution_count": 60
        }
      ]
    },
    {
      "cell_type": "code",
      "source": [
        "# get() is used for gives you the output take key as input\n",
        "d.get('model')"
      ],
      "metadata": {
        "colab": {
          "base_uri": "https://localhost:8080/",
          "height": 36
        },
        "id": "RMy3P8h4x5SL",
        "outputId": "455becab-6712-4ae4-d9d0-7ffff9f06923"
      },
      "execution_count": 61,
      "outputs": [
        {
          "output_type": "execute_result",
          "data": {
            "text/plain": [
              "'Seltos'"
            ],
            "application/vnd.google.colaboratory.intrinsic+json": {
              "type": "string"
            }
          },
          "metadata": {},
          "execution_count": 61
        }
      ]
    },
    {
      "cell_type": "markdown",
      "source": [
        "* A view object that displays a list of a given dictionary’s (key, value) tuple pair."
      ],
      "metadata": {
        "id": "fEvvHZ5zzj2u"
      }
    },
    {
      "cell_type": "code",
      "source": [
        "# items()\n",
        "d.items()"
      ],
      "metadata": {
        "colab": {
          "base_uri": "https://localhost:8080/"
        },
        "id": "mCNZbETQy-Yd",
        "outputId": "67698952-c655-4443-dae5-74c63e676627"
      },
      "execution_count": 69,
      "outputs": [
        {
          "output_type": "execute_result",
          "data": {
            "text/plain": [
              "dict_items([('brand', 'Kia'), ('model', 'Seltos'), ('year', 2021)])"
            ]
          },
          "metadata": {},
          "execution_count": 69
        }
      ]
    },
    {
      "cell_type": "code",
      "source": [
        "# return the keys of the dictionary\n",
        "d.keys()"
      ],
      "metadata": {
        "colab": {
          "base_uri": "https://localhost:8080/"
        },
        "id": "t0L8_J4LzKp3",
        "outputId": "1ba1b6b8-857d-4f4f-fe93-b8081aee2c0f"
      },
      "execution_count": 71,
      "outputs": [
        {
          "output_type": "execute_result",
          "data": {
            "text/plain": [
              "dict_keys(['brand', 'model', 'year'])"
            ]
          },
          "metadata": {},
          "execution_count": 71
        }
      ]
    },
    {
      "cell_type": "code",
      "source": [
        "# used for pop the values of the key which is passed \n",
        "\n",
        "d5 = d.pop('year')\n",
        "d5\n",
        "d"
      ],
      "metadata": {
        "colab": {
          "base_uri": "https://localhost:8080/"
        },
        "id": "21nXUnO80KYn",
        "outputId": "81c79fa4-9e44-4036-b149-dd45d921c67d"
      },
      "execution_count": 77,
      "outputs": [
        {
          "output_type": "execute_result",
          "data": {
            "text/plain": [
              "{'brand': 'Kia', 'model': 'Seltos'}"
            ]
          },
          "metadata": {},
          "execution_count": 77
        }
      ]
    },
    {
      "cell_type": "code",
      "source": [
        "d5"
      ],
      "metadata": {
        "colab": {
          "base_uri": "https://localhost:8080/"
        },
        "id": "h5bgnvYJ0Pz4",
        "outputId": "854e8cfd-8ba4-4988-c592-f4178df88954"
      },
      "execution_count": 78,
      "outputs": [
        {
          "output_type": "execute_result",
          "data": {
            "text/plain": [
              "2021"
            ]
          },
          "metadata": {},
          "execution_count": 78
        }
      ]
    },
    {
      "cell_type": "code",
      "source": [
        "# The popitem() method removes the item that was last inserted into the dictionary\n",
        "d.popitem()"
      ],
      "metadata": {
        "colab": {
          "base_uri": "https://localhost:8080/"
        },
        "id": "selo2CJM0ccm",
        "outputId": "aec08771-b7e7-4ee7-b1ea-749727ca584a"
      },
      "execution_count": 79,
      "outputs": [
        {
          "output_type": "execute_result",
          "data": {
            "text/plain": [
              "('model', 'Seltos')"
            ]
          },
          "metadata": {},
          "execution_count": 79
        }
      ]
    },
    {
      "cell_type": "code",
      "source": [
        "d"
      ],
      "metadata": {
        "colab": {
          "base_uri": "https://localhost:8080/"
        },
        "id": "g7RWT5-50vBR",
        "outputId": "d7bdb851-834d-4289-9f2c-1e8359371448"
      },
      "execution_count": 80,
      "outputs": [
        {
          "output_type": "execute_result",
          "data": {
            "text/plain": [
              "{'brand': 'Kia'}"
            ]
          },
          "metadata": {},
          "execution_count": 80
        }
      ]
    },
    {
      "cell_type": "markdown",
      "source": [
        "* setdefault() returns the value of a key (if the key is in dictionary). Else, it inserts a key with the default value to the dictionary."
      ],
      "metadata": {
        "id": "DnUPZlc31NoD"
      }
    },
    {
      "cell_type": "code",
      "source": [
        "\n",
        "d0 = {'a': 97, 'b': 98, 'c': 99, 'd': 100}\n",
        "# space key added using setdefault() method\n",
        "d0.setdefault(' ', 32)\n",
        "print(d0)"
      ],
      "metadata": {
        "colab": {
          "base_uri": "https://localhost:8080/"
        },
        "id": "2kBFyn2Z0xVj",
        "outputId": "7d29054e-83b2-4ea4-8714-db0d97097b84"
      },
      "execution_count": 82,
      "outputs": [
        {
          "output_type": "stream",
          "name": "stdout",
          "text": [
            "{'a': 97, 'b': 98, 'c': 99, 'd': 100, ' ': 32}\n"
          ]
        }
      ]
    },
    {
      "cell_type": "markdown",
      "source": [
        "* The update() method inserts the specified items to the dictionary.\n",
        "\n",
        "* The specified items can be a dictionary, or an iterable object with key value pairs."
      ],
      "metadata": {
        "id": "vsk2xtKs2ePm"
      }
    },
    {
      "cell_type": "code",
      "source": [
        "d0.update({'a':22})\n",
        "d0"
      ],
      "metadata": {
        "colab": {
          "base_uri": "https://localhost:8080/"
        },
        "id": "sDIaKR851zt6",
        "outputId": "d68a0286-8c33-4b5d-e0e6-25ab8979ab4f"
      },
      "execution_count": 85,
      "outputs": [
        {
          "output_type": "execute_result",
          "data": {
            "text/plain": [
              "{'a': 22, 'b': 98, 'c': 99, 'd': 100, ' ': 32}"
            ]
          },
          "metadata": {},
          "execution_count": 85
        }
      ]
    },
    {
      "cell_type": "code",
      "source": [
        "# returns the value of the dictionary\n",
        "d0.values()"
      ],
      "metadata": {
        "colab": {
          "base_uri": "https://localhost:8080/"
        },
        "id": "U4XhhbLM2Iau",
        "outputId": "31f5a7ca-56ab-4d49-841e-7086d0fd85c7"
      },
      "execution_count": 87,
      "outputs": [
        {
          "output_type": "execute_result",
          "data": {
            "text/plain": [
              "dict_values([22, 98, 99, 100, 32])"
            ]
          },
          "metadata": {},
          "execution_count": 87
        }
      ]
    },
    {
      "cell_type": "markdown",
      "source": [
        "### Set\n",
        "Sets are used to store multiple items in a single variable.\n",
        "\n",
        "Set is one of 4 built-in data types in Python used to store collections of data, the other 3 are List, Tuple, and Dictionary, all with different qualities and usage.\n",
        "\n",
        "A set is a collection which is unordered, unchangeable*, and unindexed.\n",
        "\n",
        "* Note: Set items are unchangeable, but you can remove items and add new items.\n",
        "\n",
        "Sets are written with curly brackets."
      ],
      "metadata": {
        "id": "7-Ubc7LN54KP"
      }
    },
    {
      "cell_type": "code",
      "source": [
        "s = {1,2,3}\n",
        "type(s)"
      ],
      "metadata": {
        "colab": {
          "base_uri": "https://localhost:8080/"
        },
        "id": "o86NkNlX2uJA",
        "outputId": "40dde984-a9f1-4ade-aea7-e5599e168743"
      },
      "execution_count": 88,
      "outputs": [
        {
          "output_type": "execute_result",
          "data": {
            "text/plain": [
              "set"
            ]
          },
          "metadata": {},
          "execution_count": 88
        }
      ]
    },
    {
      "cell_type": "code",
      "source": [
        "dir(s)"
      ],
      "metadata": {
        "colab": {
          "base_uri": "https://localhost:8080/"
        },
        "id": "MOiU5NdM6ocb",
        "outputId": "b97fc1bf-5c4f-405e-e285-32875c9bdac5"
      },
      "execution_count": 90,
      "outputs": [
        {
          "output_type": "execute_result",
          "data": {
            "text/plain": [
              "['__and__',\n",
              " '__class__',\n",
              " '__contains__',\n",
              " '__delattr__',\n",
              " '__dir__',\n",
              " '__doc__',\n",
              " '__eq__',\n",
              " '__format__',\n",
              " '__ge__',\n",
              " '__getattribute__',\n",
              " '__gt__',\n",
              " '__hash__',\n",
              " '__iand__',\n",
              " '__init__',\n",
              " '__init_subclass__',\n",
              " '__ior__',\n",
              " '__isub__',\n",
              " '__iter__',\n",
              " '__ixor__',\n",
              " '__le__',\n",
              " '__len__',\n",
              " '__lt__',\n",
              " '__ne__',\n",
              " '__new__',\n",
              " '__or__',\n",
              " '__rand__',\n",
              " '__reduce__',\n",
              " '__reduce_ex__',\n",
              " '__repr__',\n",
              " '__ror__',\n",
              " '__rsub__',\n",
              " '__rxor__',\n",
              " '__setattr__',\n",
              " '__sizeof__',\n",
              " '__str__',\n",
              " '__sub__',\n",
              " '__subclasshook__',\n",
              " '__xor__',\n",
              " 'add',\n",
              " 'clear',\n",
              " 'copy',\n",
              " 'difference',\n",
              " 'difference_update',\n",
              " 'discard',\n",
              " 'intersection',\n",
              " 'intersection_update',\n",
              " 'isdisjoint',\n",
              " 'issubset',\n",
              " 'issuperset',\n",
              " 'pop',\n",
              " 'remove',\n",
              " 'symmetric_difference',\n",
              " 'symmetric_difference_update',\n",
              " 'union',\n",
              " 'update']"
            ]
          },
          "metadata": {},
          "execution_count": 90
        }
      ]
    },
    {
      "cell_type": "code",
      "source": [
        "# Used for  adding the element in the set\n",
        "s1 = {2,3,4,4}\n",
        "s.add(100)\n",
        "s"
      ],
      "metadata": {
        "colab": {
          "base_uri": "https://localhost:8080/"
        },
        "id": "iuq3Ubuf6rQF",
        "outputId": "cad5d670-5eaf-47d4-974c-8af409d1e16c"
      },
      "execution_count": 93,
      "outputs": [
        {
          "output_type": "execute_result",
          "data": {
            "text/plain": [
              "{1, 2, 3, 100}"
            ]
          },
          "metadata": {},
          "execution_count": 93
        }
      ]
    },
    {
      "cell_type": "code",
      "source": [
        "# used for copy\n",
        "s1 =s.copy()\n",
        "s1"
      ],
      "metadata": {
        "colab": {
          "base_uri": "https://localhost:8080/"
        },
        "id": "cn6UEd51649G",
        "outputId": "7d083e64-f73f-49be-fecf-68be378d02d7"
      },
      "execution_count": 94,
      "outputs": [
        {
          "output_type": "execute_result",
          "data": {
            "text/plain": [
              "{1, 2, 3, 100}"
            ]
          },
          "metadata": {},
          "execution_count": 94
        }
      ]
    },
    {
      "cell_type": "code",
      "source": [
        "# used for clear all the element \n",
        "s1.clear()\n",
        "s1"
      ],
      "metadata": {
        "colab": {
          "base_uri": "https://localhost:8080/"
        },
        "id": "7Qn7yrw87Omp",
        "outputId": "ecca0416-9b60-4d91-a055-a68f0fb84d8d"
      },
      "execution_count": 95,
      "outputs": [
        {
          "output_type": "execute_result",
          "data": {
            "text/plain": [
              "set()"
            ]
          },
          "metadata": {},
          "execution_count": 95
        }
      ]
    },
    {
      "cell_type": "markdown",
      "source": [
        "* The difference between the two sets in Python is equal to the difference between the number of elements in two sets."
      ],
      "metadata": {
        "id": "NhrnFf_i8LuD"
      }
    },
    {
      "cell_type": "code",
      "source": [
        "s1 = {2,3,4,11}\n",
        "s.difference(s1)\n"
      ],
      "metadata": {
        "colab": {
          "base_uri": "https://localhost:8080/"
        },
        "id": "wEZgIFNt7eod",
        "outputId": "caacbc29-0164-4554-9785-f89ce83ae540"
      },
      "execution_count": 98,
      "outputs": [
        {
          "output_type": "execute_result",
          "data": {
            "text/plain": [
              "{1, 100}"
            ]
          },
          "metadata": {},
          "execution_count": 98
        }
      ]
    },
    {
      "cell_type": "markdown",
      "source": [
        "* The difference_update() method removes the items that exist in both sets.\n",
        "\n",
        "* The difference_update() method is different from the difference() method, because the difference() method returns a new set, without the unwanted items, and the difference_update() method removes the unwanted items from the original set."
      ],
      "metadata": {
        "id": "Uk6IzH9V8btK"
      }
    },
    {
      "cell_type": "code",
      "source": [
        "s.difference_update(s1)\n",
        "s"
      ],
      "metadata": {
        "colab": {
          "base_uri": "https://localhost:8080/"
        },
        "id": "PY72x8kO74oF",
        "outputId": "2debda1d-6b0a-4ba1-b46a-0d8ad25813b1"
      },
      "execution_count": 99,
      "outputs": [
        {
          "output_type": "execute_result",
          "data": {
            "text/plain": [
              "{1, 100}"
            ]
          },
          "metadata": {},
          "execution_count": 99
        }
      ]
    },
    {
      "cell_type": "markdown",
      "source": [
        "* The discard() method removes the specified item from the set.\n",
        "\n",
        "* This method is different from the remove() method, because the remove() method will raise an error if the specified item does not exist, and the discard() method will not."
      ],
      "metadata": {
        "id": "ZXJjZnfD8-G3"
      }
    },
    {
      "cell_type": "code",
      "source": [
        "s = {1,3,4,12,34,4,2,1,3,100}\n",
        "s.discard(101)\n",
        "s"
      ],
      "metadata": {
        "colab": {
          "base_uri": "https://localhost:8080/"
        },
        "id": "Om4QsxS58ujS",
        "outputId": "4583876b-62c3-48b1-d8e0-83e61ea1725b"
      },
      "execution_count": 101,
      "outputs": [
        {
          "output_type": "execute_result",
          "data": {
            "text/plain": [
              "{1, 2, 3, 4, 12, 34, 100}"
            ]
          },
          "metadata": {},
          "execution_count": 101
        }
      ]
    },
    {
      "cell_type": "code",
      "source": [
        "# return the intersection between the sets\n",
        "s.intersection(s1)"
      ],
      "metadata": {
        "colab": {
          "base_uri": "https://localhost:8080/"
        },
        "id": "tyQivRI09aYg",
        "outputId": "c5c7de70-89c9-4763-f89d-4716444cd37f"
      },
      "execution_count": 102,
      "outputs": [
        {
          "output_type": "execute_result",
          "data": {
            "text/plain": [
              "{2, 3, 4}"
            ]
          },
          "metadata": {},
          "execution_count": 102
        }
      ]
    },
    {
      "cell_type": "code",
      "source": [
        "# this takes intersection and update the set\n",
        "s.intersection_update(s1)"
      ],
      "metadata": {
        "id": "PEpTW2R89feP"
      },
      "execution_count": 103,
      "outputs": []
    },
    {
      "cell_type": "code",
      "source": [
        "# check whether the set is disjoint or not \n",
        "s.isdisjoint(s1)"
      ],
      "metadata": {
        "colab": {
          "base_uri": "https://localhost:8080/"
        },
        "id": "klRtbgiK9qng",
        "outputId": "13e9bd90-332c-4251-9536-5759afc1baf1"
      },
      "execution_count": 106,
      "outputs": [
        {
          "output_type": "execute_result",
          "data": {
            "text/plain": [
              "False"
            ]
          },
          "metadata": {},
          "execution_count": 106
        }
      ]
    },
    {
      "cell_type": "code",
      "source": [
        "# check the set : subset or not \n",
        "s.issubset(s1)"
      ],
      "metadata": {
        "colab": {
          "base_uri": "https://localhost:8080/"
        },
        "id": "JubNga1e9rkL",
        "outputId": "6b6920f8-188d-48c9-ddea-3d1f5c61787a"
      },
      "execution_count": 107,
      "outputs": [
        {
          "output_type": "execute_result",
          "data": {
            "text/plain": [
              "True"
            ]
          },
          "metadata": {},
          "execution_count": 107
        }
      ]
    },
    {
      "cell_type": "code",
      "source": [
        "# check the superset of the set\n",
        "s.issuperset(s1)"
      ],
      "metadata": {
        "colab": {
          "base_uri": "https://localhost:8080/"
        },
        "id": "Hms-JGj6-IkI",
        "outputId": "36486faf-8711-42ec-a29a-39e1ef426a2c"
      },
      "execution_count": 108,
      "outputs": [
        {
          "output_type": "execute_result",
          "data": {
            "text/plain": [
              "False"
            ]
          },
          "metadata": {},
          "execution_count": 108
        }
      ]
    },
    {
      "cell_type": "code",
      "source": [
        "# used for remove the element in the set\n",
        "s.pop()"
      ],
      "metadata": {
        "colab": {
          "base_uri": "https://localhost:8080/"
        },
        "id": "GMZw9LmK-e8-",
        "outputId": "ebb77390-81af-4045-c9b5-f56e174767a7"
      },
      "execution_count": 110,
      "outputs": [
        {
          "output_type": "execute_result",
          "data": {
            "text/plain": [
              "2"
            ]
          },
          "metadata": {},
          "execution_count": 110
        }
      ]
    },
    {
      "cell_type": "code",
      "source": [
        "# remove can remove the particular element form the set\n",
        "s.remove(4)\n",
        "s"
      ],
      "metadata": {
        "colab": {
          "base_uri": "https://localhost:8080/"
        },
        "id": "fBvjoJPK-hYF",
        "outputId": "fbb76a74-6b1e-4819-80c2-0aa3e1a1ff5e"
      },
      "execution_count": 112,
      "outputs": [
        {
          "output_type": "execute_result",
          "data": {
            "text/plain": [
              "{3}"
            ]
          },
          "metadata": {},
          "execution_count": 112
        }
      ]
    },
    {
      "cell_type": "code",
      "source": [
        "'intersection',\n",
        " 'intersection_update',\n",
        " 'isdisjoint',\n",
        " 'issubset',\n",
        " 'issuperset',\n",
        " 'pop',\n",
        " 'remove',\n",
        " 'symmetric_difference',\n",
        " 'symmetric_difference_update',\n",
        " 'union',\n",
        " 'update']"
      ],
      "metadata": {
        "id": "NHcM7QCg_JQf"
      },
      "execution_count": null,
      "outputs": []
    },
    {
      "cell_type": "markdown",
      "source": [
        "*  symmetric_difference() Method is used to get the elements present in either of the two sets, but not common to both the sets."
      ],
      "metadata": {
        "id": "3Jcp1DI-_jHY"
      }
    },
    {
      "cell_type": "code",
      "source": [
        "s1 = {2,3,4,11}\n",
        "s = {1,3,4,12,34,4,2,1,3,100}\n",
        "s.symmetric_difference(s1)\n",
        "s"
      ],
      "metadata": {
        "colab": {
          "base_uri": "https://localhost:8080/"
        },
        "id": "FY4O_jbF-nDZ",
        "outputId": "96c935b6-7046-4a67-ecf0-5c155c2d9cb4"
      },
      "execution_count": 114,
      "outputs": [
        {
          "output_type": "execute_result",
          "data": {
            "text/plain": [
              "{1, 2, 3, 4, 12, 34, 100}"
            ]
          },
          "metadata": {},
          "execution_count": 114
        }
      ]
    },
    {
      "cell_type": "markdown",
      "source": [
        "* It only updates the set calling symmetric_difference_update() with the symmetric difference of sets."
      ],
      "metadata": {
        "id": "E8cLy39T_99q"
      }
    },
    {
      "cell_type": "code",
      "source": [
        "s.symmetric_difference_update(s1)\n",
        "s"
      ],
      "metadata": {
        "colab": {
          "base_uri": "https://localhost:8080/"
        },
        "id": "wDA1Lo7F_SsK",
        "outputId": "7241f862-571f-4003-fc30-ef61a63bccf3"
      },
      "execution_count": 117,
      "outputs": [
        {
          "output_type": "execute_result",
          "data": {
            "text/plain": [
              "{1, 11, 12, 34, 100}"
            ]
          },
          "metadata": {},
          "execution_count": 117
        }
      ]
    },
    {
      "cell_type": "code",
      "source": [
        "# union between the sets \n",
        "s.union(s1)\n",
        "s"
      ],
      "metadata": {
        "colab": {
          "base_uri": "https://localhost:8080/"
        },
        "id": "WSvLFPaa_s2m",
        "outputId": "0f38097b-8bda-4746-b2a4-8454db6dd91f"
      },
      "execution_count": 118,
      "outputs": [
        {
          "output_type": "execute_result",
          "data": {
            "text/plain": [
              "{1, 11, 12, 34, 100}"
            ]
          },
          "metadata": {},
          "execution_count": 118
        }
      ]
    },
    {
      "cell_type": "markdown",
      "source": [
        "* Update() method takes only a single argument. The single argument can be a set, list, tuples or a dictionary. It automatically converts into a set and adds to the set. "
      ],
      "metadata": {
        "id": "I6DLf7HyA0M8"
      }
    },
    {
      "cell_type": "code",
      "source": [
        "# update\n",
        "s.update(s1)\n",
        "s"
      ],
      "metadata": {
        "colab": {
          "base_uri": "https://localhost:8080/"
        },
        "id": "9ALmug3NAH7-",
        "outputId": "49d45c03-7d6d-40cf-88c4-d586a1f23b66"
      },
      "execution_count": 121,
      "outputs": [
        {
          "output_type": "execute_result",
          "data": {
            "text/plain": [
              "{1, 2, 3, 4, 11, 12, 34, 100}"
            ]
          },
          "metadata": {},
          "execution_count": 121
        }
      ]
    }
  ]
}