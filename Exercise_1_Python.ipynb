{
  "nbformat": 4,
  "nbformat_minor": 0,
  "metadata": {
    "colab": {
      "provenance": []
    },
    "kernelspec": {
      "name": "python3",
      "display_name": "Python 3"
    },
    "language_info": {
      "name": "python"
    }
  },
  "cells": [
    {
      "cell_type": "markdown",
      "source": [
        "### 1. Write a program to iterate the first 10 numbers and in each iteration, print the sum of the current and previous number."
      ],
      "metadata": {
        "id": "iqPtqWG2-nNW"
      }
    },
    {
      "cell_type": "code",
      "execution_count": 46,
      "metadata": {
        "colab": {
          "base_uri": "https://localhost:8080/"
        },
        "id": "fMRf0AKR-R3i",
        "outputId": "763c1c18-ca81-49f9-de83-1d021b12734d"
      },
      "outputs": [
        {
          "output_type": "stream",
          "name": "stdout",
          "text": [
            "Sum of the Current and the Previous Number is 1\n",
            "Sum of the Current and the Previous Number is 3\n",
            "Sum of the Current and the Previous Number is 5\n",
            "Sum of the Current and the Previous Number is 7\n",
            "Sum of the Current and the Previous Number is 9\n",
            "Sum of the Current and the Previous Number is 11\n",
            "Sum of the Current and the Previous Number is 13\n",
            "Sum of the Current and the Previous Number is 15\n",
            "Sum of the Current and the Previous Number is 17\n",
            "Sum of the Current and the Previous Number is 19\n"
          ]
        }
      ],
      "source": [
        "# %%writefile 1.py\n",
        "for i in range(1 , 11):\n",
        "  print(f'Sum of the Current and the Previous Number is { i + i-1}')"
      ]
    },
    {
      "cell_type": "markdown",
      "source": [
        "### 2. Write a program to accept a string from the user and display characters that are present at an even index number.\n"
      ],
      "metadata": {
        "id": "hzxnmYvb_d5c"
      }
    },
    {
      "cell_type": "code",
      "source": [
        "# %%writefile 2.py\n",
        "string =input('Enter the string here :')\n",
        "s = ''\n",
        "for i in range(len(string)):\n",
        "  if i%2==0:\n",
        "    pass\n",
        "  else:\n",
        "    s += string[i]\n",
        "print(s) \n"
      ],
      "metadata": {
        "colab": {
          "base_uri": "https://localhost:8080/"
        },
        "id": "yRSQMiqL-qZ4",
        "outputId": "71a379af-850d-4db3-a2fb-a1a9188aa070"
      },
      "execution_count": 47,
      "outputs": [
        {
          "output_type": "stream",
          "name": "stdout",
          "text": [
            "Enter the string here :ishtiyaque\n",
            "styqe\n"
          ]
        }
      ]
    },
    {
      "cell_type": "markdown",
      "source": [
        "### 3. Iterate the given list of numbers and print only those numbers which are divisible by 5"
      ],
      "metadata": {
        "id": "tPL0mjbnAfW7"
      }
    },
    {
      "cell_type": "code",
      "source": [
        "# %%writefile 3.py\n",
        "l = [2,3,5,2,10,4,56,100]\n",
        "for i in range(len(l)):\n",
        "  if l[i]% 5 == 0:\n",
        "    print(f'the Number {l[i]} is divisible by 5')"
      ],
      "metadata": {
        "colab": {
          "base_uri": "https://localhost:8080/"
        },
        "id": "jFNdQXLmACgM",
        "outputId": "3ac6a2a9-574e-4d1f-fb07-97be8838b8e1"
      },
      "execution_count": 48,
      "outputs": [
        {
          "output_type": "stream",
          "name": "stdout",
          "text": [
            "the Number 5 is divisible by 5\n",
            "the Number 10 is divisible by 5\n",
            "the Number 100 is divisible by 5\n"
          ]
        }
      ]
    },
    {
      "cell_type": "markdown",
      "source": [
        "### 4. Write a program to check if the given number is a palindrome number."
      ],
      "metadata": {
        "id": "vbIpU4tvBLHx"
      }
    },
    {
      "cell_type": "code",
      "source": [
        "# %%writefile 4.py\n",
        "# An integer is a palindrome when it reads the same backward as forward.\n",
        "n = input('enter the number here :')\n",
        "if n == n[::-1]:\n",
        "  print('Numbers is Palindrome')\n",
        "else:\n",
        "  print('Not a Palindrome Number')"
      ],
      "metadata": {
        "colab": {
          "base_uri": "https://localhost:8080/"
        },
        "id": "lp2kdKtcA8AX",
        "outputId": "11d31179-e790-47e3-f1f5-df199f65512e"
      },
      "execution_count": 49,
      "outputs": [
        {
          "output_type": "stream",
          "name": "stdout",
          "text": [
            "enter the number here :12321\n",
            "Numbers is Palindrome\n"
          ]
        }
      ]
    },
    {
      "cell_type": "markdown",
      "source": [
        "### 5. Given a two list of numbers, write a program to create a new list such that the new list should contain odd numbers from the first list and even numbers from the second list."
      ],
      "metadata": {
        "id": "7aMeXpAGCCzX"
      }
    },
    {
      "cell_type": "code",
      "source": [
        "# %%writefile 5.py\n",
        "l =[1,2,3,4,5]\n",
        "l1 = [4,5,7,8,9]\n",
        "new_l = []\n",
        "for i in l:\n",
        "  if i%2 != 0:\n",
        "    new_l.append(i)\n",
        "for j in l1 :\n",
        "  if j%2 == 0:\n",
        "    new_l.append(j)\n",
        "\n",
        "\n",
        "print(new_l)\n"
      ],
      "metadata": {
        "colab": {
          "base_uri": "https://localhost:8080/"
        },
        "id": "b9xHKhfAB3Do",
        "outputId": "2927c40e-64fc-48cb-a9ff-b0c12a451736"
      },
      "execution_count": 50,
      "outputs": [
        {
          "output_type": "stream",
          "name": "stdout",
          "text": [
            "[1, 3, 5, 4, 8]\n"
          ]
        }
      ]
    },
    {
      "cell_type": "markdown",
      "source": [
        "### 6. Write a Program to extract each digit from an integer in the reverse order."
      ],
      "metadata": {
        "id": "1kL5PriQHGjp"
      }
    },
    {
      "cell_type": "code",
      "source": [
        "# %%writefile 6.py\n",
        "n = int(input('enter the number here :'))\n",
        "while(n != 0):\n",
        "  p = n%10\n",
        "  n = n//10\n",
        "  print(p , end = '')"
      ],
      "metadata": {
        "colab": {
          "base_uri": "https://localhost:8080/"
        },
        "id": "_RdiAudfHN_S",
        "outputId": "f44ca335-e484-4c28-a67e-37114d5ffbe4"
      },
      "execution_count": 51,
      "outputs": [
        {
          "output_type": "stream",
          "name": "stdout",
          "text": [
            "enter the number here :123\n",
            "321"
          ]
        }
      ]
    },
    {
      "cell_type": "markdown",
      "source": [
        "### 7. Print multiplication table form 1 to 10"
      ],
      "metadata": {
        "id": "KsRxPw7vIueW"
      }
    },
    {
      "cell_type": "code",
      "source": [
        "# %%writefile 7.py\n",
        "for i in range(1 , 11):\n",
        "  for j in range(1 , 11):\n",
        "    print(f' {i} * {j} = {i*j}')\n",
        "  print(sep = '\\t')"
      ],
      "metadata": {
        "colab": {
          "base_uri": "https://localhost:8080/"
        },
        "id": "kgNZ9dTjHiCk",
        "outputId": "70e2b40b-fbad-417a-ac0b-8b1c0069a9c0"
      },
      "execution_count": 52,
      "outputs": [
        {
          "output_type": "stream",
          "name": "stdout",
          "text": [
            " 1 * 1 = 1\n",
            " 1 * 2 = 2\n",
            " 1 * 3 = 3\n",
            " 1 * 4 = 4\n",
            " 1 * 5 = 5\n",
            " 1 * 6 = 6\n",
            " 1 * 7 = 7\n",
            " 1 * 8 = 8\n",
            " 1 * 9 = 9\n",
            " 1 * 10 = 10\n",
            "\n",
            " 2 * 1 = 2\n",
            " 2 * 2 = 4\n",
            " 2 * 3 = 6\n",
            " 2 * 4 = 8\n",
            " 2 * 5 = 10\n",
            " 2 * 6 = 12\n",
            " 2 * 7 = 14\n",
            " 2 * 8 = 16\n",
            " 2 * 9 = 18\n",
            " 2 * 10 = 20\n",
            "\n",
            " 3 * 1 = 3\n",
            " 3 * 2 = 6\n",
            " 3 * 3 = 9\n",
            " 3 * 4 = 12\n",
            " 3 * 5 = 15\n",
            " 3 * 6 = 18\n",
            " 3 * 7 = 21\n",
            " 3 * 8 = 24\n",
            " 3 * 9 = 27\n",
            " 3 * 10 = 30\n",
            "\n",
            " 4 * 1 = 4\n",
            " 4 * 2 = 8\n",
            " 4 * 3 = 12\n",
            " 4 * 4 = 16\n",
            " 4 * 5 = 20\n",
            " 4 * 6 = 24\n",
            " 4 * 7 = 28\n",
            " 4 * 8 = 32\n",
            " 4 * 9 = 36\n",
            " 4 * 10 = 40\n",
            "\n",
            " 5 * 1 = 5\n",
            " 5 * 2 = 10\n",
            " 5 * 3 = 15\n",
            " 5 * 4 = 20\n",
            " 5 * 5 = 25\n",
            " 5 * 6 = 30\n",
            " 5 * 7 = 35\n",
            " 5 * 8 = 40\n",
            " 5 * 9 = 45\n",
            " 5 * 10 = 50\n",
            "\n",
            " 6 * 1 = 6\n",
            " 6 * 2 = 12\n",
            " 6 * 3 = 18\n",
            " 6 * 4 = 24\n",
            " 6 * 5 = 30\n",
            " 6 * 6 = 36\n",
            " 6 * 7 = 42\n",
            " 6 * 8 = 48\n",
            " 6 * 9 = 54\n",
            " 6 * 10 = 60\n",
            "\n",
            " 7 * 1 = 7\n",
            " 7 * 2 = 14\n",
            " 7 * 3 = 21\n",
            " 7 * 4 = 28\n",
            " 7 * 5 = 35\n",
            " 7 * 6 = 42\n",
            " 7 * 7 = 49\n",
            " 7 * 8 = 56\n",
            " 7 * 9 = 63\n",
            " 7 * 10 = 70\n",
            "\n",
            " 8 * 1 = 8\n",
            " 8 * 2 = 16\n",
            " 8 * 3 = 24\n",
            " 8 * 4 = 32\n",
            " 8 * 5 = 40\n",
            " 8 * 6 = 48\n",
            " 8 * 7 = 56\n",
            " 8 * 8 = 64\n",
            " 8 * 9 = 72\n",
            " 8 * 10 = 80\n",
            "\n",
            " 9 * 1 = 9\n",
            " 9 * 2 = 18\n",
            " 9 * 3 = 27\n",
            " 9 * 4 = 36\n",
            " 9 * 5 = 45\n",
            " 9 * 6 = 54\n",
            " 9 * 7 = 63\n",
            " 9 * 8 = 72\n",
            " 9 * 9 = 81\n",
            " 9 * 10 = 90\n",
            "\n",
            " 10 * 1 = 10\n",
            " 10 * 2 = 20\n",
            " 10 * 3 = 30\n",
            " 10 * 4 = 40\n",
            " 10 * 5 = 50\n",
            " 10 * 6 = 60\n",
            " 10 * 7 = 70\n",
            " 10 * 8 = 80\n",
            " 10 * 9 = 90\n",
            " 10 * 10 = 100\n",
            "\n"
          ]
        }
      ]
    },
    {
      "cell_type": "markdown",
      "source": [
        "### 8. Write a program to print downward Half-Pyramid Pattern with Star (asterisk)\n"
      ],
      "metadata": {
        "id": "7404xfoYJlzk"
      }
    },
    {
      "cell_type": "code",
      "source": [
        "# %%writefile 8.py\n",
        "for i in range(5):\n",
        "  for j in range(5):\n",
        "    if j >= i :\n",
        "      print(\"*\" ,end = '')\n",
        "    else:\n",
        "      pass\n",
        "  print(\"\\r\") # end line after each row"
      ],
      "metadata": {
        "colab": {
          "base_uri": "https://localhost:8080/"
        },
        "id": "7v7ayImNJq__",
        "outputId": "55b68c92-b5ca-44b6-f8e0-afc3a1642357"
      },
      "execution_count": 53,
      "outputs": [
        {
          "output_type": "stream",
          "name": "stdout",
          "text": [
            "*****\r\n",
            "****\r\n",
            "***\r\n",
            "**\r\n",
            "*\r\n"
          ]
        }
      ]
    },
    {
      "cell_type": "code",
      "source": [],
      "metadata": {
        "id": "bUeNN_RPKGE1"
      },
      "execution_count": null,
      "outputs": []
    }
  ]
}