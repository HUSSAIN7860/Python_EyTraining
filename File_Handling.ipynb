{
  "nbformat": 4,
  "nbformat_minor": 0,
  "metadata": {
    "colab": {
      "provenance": [],
      "authorship_tag": "ABX9TyN61D2YE10WpId6moUDQG/S",
      "include_colab_link": true
    },
    "kernelspec": {
      "name": "python3",
      "display_name": "Python 3"
    },
    "language_info": {
      "name": "python"
    }
  },
  "cells": [
    {
      "cell_type": "markdown",
      "metadata": {
        "id": "view-in-github",
        "colab_type": "text"
      },
      "source": [
        "<a href=\"https://colab.research.google.com/github/HUSSAIN7860/Python_EyTraining/blob/main/File_Handling.ipynb\" target=\"_parent\"><img src=\"https://colab.research.google.com/assets/colab-badge.svg\" alt=\"Open In Colab\"/></a>"
      ]
    },
    {
      "cell_type": "code",
      "execution_count": null,
      "metadata": {
        "colab": {
          "base_uri": "https://localhost:8080/"
        },
        "id": "zDCU4k1FdLJi",
        "outputId": "ece78055-acea-4a03-ee91-5366cced2bc3"
      },
      "outputs": [
        {
          "output_type": "stream",
          "name": "stdout",
          "text": [
            "Writing demo.txt\n"
          ]
        }
      ],
      "source": [
        "# creating a file \n",
        "%%writefile demo.txt\n",
        "print('this is demo')"
      ]
    },
    {
      "cell_type": "code",
      "source": [
        "# appending into the file \n",
        "%%writefile -a demo.txt\n",
        "print('here appending in to the file ')"
      ],
      "metadata": {
        "colab": {
          "base_uri": "https://localhost:8080/"
        },
        "id": "WlMPsvDidkbA",
        "outputId": "4a7ecc8e-892c-4dc9-8b71-a8751df3263a"
      },
      "execution_count": null,
      "outputs": [
        {
          "output_type": "stream",
          "name": "stdout",
          "text": [
            "Appending to demo.txt\n"
          ]
        }
      ]
    },
    {
      "cell_type": "code",
      "source": [
        "# in file handling some of the basic mode \n",
        "\"\"\"\n",
        "'w'-> write\n",
        "'r'-> read\n",
        "'a'-> append\n",
        "'r+'-> read first then write\n",
        "'w+'-> write then read\n",
        "'a+'-> append first then read\n",
        "\"\"\" "
      ],
      "metadata": {
        "colab": {
          "base_uri": "https://localhost:8080/",
          "height": 36
        },
        "id": "cA8QaxVAd--y",
        "outputId": "47e94f8b-d2fe-46f6-bcf0-4d91eb014815"
      },
      "execution_count": null,
      "outputs": [
        {
          "output_type": "execute_result",
          "data": {
            "text/plain": [
              "\"\\n'w'-> write\\n'r'-> read\\n'a'-> append\\n'r+'-> read first then write\\n'w+'-> write then read\\n'a+'-> append first then read\\n\""
            ],
            "application/vnd.google.colaboratory.intrinsic+json": {
              "type": "string"
            }
          },
          "metadata": {},
          "execution_count": 3
        }
      ]
    },
    {
      "cell_type": "code",
      "source": [
        "# open file in the notebook\n",
        "\n",
        "f = open('demo.txt','r')\n"
      ],
      "metadata": {
        "id": "OxkUPoxAexij"
      },
      "execution_count": null,
      "outputs": []
    },
    {
      "cell_type": "code",
      "source": [
        "# printing every element in the file \n",
        "\n",
        "for i in f:\n",
        "  print(i)"
      ],
      "metadata": {
        "colab": {
          "base_uri": "https://localhost:8080/"
        },
        "id": "44XNw7kQfM-a",
        "outputId": "9506724f-28ac-405c-c3b3-ca8168a2faba"
      },
      "execution_count": null,
      "outputs": [
        {
          "output_type": "stream",
          "name": "stdout",
          "text": [
            "print('this is demo')\n",
            "\n",
            "print('here appending in to the file ')\n",
            "\n"
          ]
        }
      ]
    },
    {
      "cell_type": "code",
      "source": [
        "# creating another file \n",
        "f1 = open('work.txt')\n"
      ],
      "metadata": {
        "colab": {
          "base_uri": "https://localhost:8080/",
          "height": 182
        },
        "id": "UJbp3X0KfXOe",
        "outputId": "35d1a92d-ff9a-4c1b-aa52-1e89993681ff"
      },
      "execution_count": null,
      "outputs": [
        {
          "output_type": "error",
          "ename": "FileNotFoundError",
          "evalue": "ignored",
          "traceback": [
            "\u001b[0;31m---------------------------------------------------------------------------\u001b[0m",
            "\u001b[0;31mFileNotFoundError\u001b[0m                         Traceback (most recent call last)",
            "\u001b[0;32m<ipython-input-7-5a072bcfaed7>\u001b[0m in \u001b[0;36m<module>\u001b[0;34m\u001b[0m\n\u001b[1;32m      1\u001b[0m \u001b[0;31m# creating another file\u001b[0m\u001b[0;34m\u001b[0m\u001b[0;34m\u001b[0m\u001b[0;34m\u001b[0m\u001b[0m\n\u001b[0;32m----> 2\u001b[0;31m \u001b[0mf1\u001b[0m \u001b[0;34m=\u001b[0m \u001b[0mopen\u001b[0m\u001b[0;34m(\u001b[0m\u001b[0;34m'work.txt'\u001b[0m\u001b[0;34m)\u001b[0m\u001b[0;34m\u001b[0m\u001b[0;34m\u001b[0m\u001b[0m\n\u001b[0m",
            "\u001b[0;31mFileNotFoundError\u001b[0m: [Errno 2] No such file or directory: 'work.txt'"
          ]
        }
      ]
    },
    {
      "cell_type": "code",
      "source": [
        "# reading file \n",
        "f = open('demo.txt','r')\n",
        "print(f.read()) # reading whole file at once "
      ],
      "metadata": {
        "colab": {
          "base_uri": "https://localhost:8080/"
        },
        "id": "Nt0Y3-npfrzG",
        "outputId": "b62a650d-fae8-4777-cca2-97bbdbee5fd2"
      },
      "execution_count": null,
      "outputs": [
        {
          "output_type": "stream",
          "name": "stdout",
          "text": [
            "print('this is demo')\n",
            "print('here appending in to the file ')\n",
            "\n"
          ]
        }
      ]
    },
    {
      "cell_type": "code",
      "source": [
        "# reading file \n",
        "f = open('demo.txt','r')\n",
        "print(f.read(3)) # if you pass the argument in the read funtion then it print upto that charecter"
      ],
      "metadata": {
        "colab": {
          "base_uri": "https://localhost:8080/"
        },
        "id": "V7gHMXzTf6c_",
        "outputId": "ed2f1b7a-5267-4500-97d5-661d167be6fb"
      },
      "execution_count": null,
      "outputs": [
        {
          "output_type": "stream",
          "name": "stdout",
          "text": [
            "pri\n"
          ]
        }
      ]
    },
    {
      "cell_type": "code",
      "source": [
        "# reading lines of the file \n",
        "f = open('demo.txt','r')\n",
        "print(f.readline())\n",
        "f.seek(0) # change the position of cursor \n",
        "print(f.readline())\n",
        "print(f.readline())\n",
        "f.seek(1)\n",
        "print(f.readline(1)) # positon of that charecter printing \n"
      ],
      "metadata": {
        "colab": {
          "base_uri": "https://localhost:8080/"
        },
        "id": "snOi1gH7gFhw",
        "outputId": "771d9934-7ac6-4513-e831-23ca78f2343e"
      },
      "execution_count": null,
      "outputs": [
        {
          "output_type": "stream",
          "name": "stdout",
          "text": [
            "print('this is demo')\n",
            "\n",
            "print('this is demo')\n",
            "\n",
            "print('here appending in to the file ')\n",
            "\n",
            "r\n"
          ]
        }
      ]
    },
    {
      "cell_type": "code",
      "source": [
        "# reading all lines in a list \n",
        "f = open('demo.txt','r')\n",
        "print(f.readlines())"
      ],
      "metadata": {
        "colab": {
          "base_uri": "https://localhost:8080/"
        },
        "id": "CVxJBhkOghZM",
        "outputId": "deb49265-c961-4450-8780-857d62997aba"
      },
      "execution_count": null,
      "outputs": [
        {
          "output_type": "stream",
          "name": "stdout",
          "text": [
            "[\"print('this is demo')\\n\", \"print('here appending in to the file ')\\n\"]\n"
          ]
        }
      ]
    },
    {
      "cell_type": "code",
      "source": [
        "f.seek(0)\n",
        "print(f.readlines(30))"
      ],
      "metadata": {
        "colab": {
          "base_uri": "https://localhost:8080/"
        },
        "id": "fueGQ2VnhX7J",
        "outputId": "750a1d3d-28ec-4dec-a0c4-0882abb64263"
      },
      "execution_count": null,
      "outputs": [
        {
          "output_type": "stream",
          "name": "stdout",
          "text": [
            "[\"print('this is demo')\\n\", \"print('here appending in to the file ')\\n\"]\n"
          ]
        }
      ]
    },
    {
      "cell_type": "markdown",
      "source": [
        "###with statement in Python is used in exception handling to make the code cleaner and much more readable. It simplifies the management of common resources like file streams."
      ],
      "metadata": {
        "id": "YAzQNCMAihWk"
      }
    },
    {
      "cell_type": "code",
      "source": [
        "with open('demo.txt') as file :\n",
        "  data = file.read()"
      ],
      "metadata": {
        "id": "9tzXFa9HhcWN"
      },
      "execution_count": null,
      "outputs": []
    },
    {
      "cell_type": "code",
      "source": [
        "print(data)"
      ],
      "metadata": {
        "colab": {
          "base_uri": "https://localhost:8080/"
        },
        "id": "OUDH_wACi9lw",
        "outputId": "3a4adc82-3896-4a2f-f876-e4550f034383"
      },
      "execution_count": null,
      "outputs": [
        {
          "output_type": "stream",
          "name": "stdout",
          "text": [
            "print('this is demo')\n",
            "print('here appending in to the file ')\n",
            "\n"
          ]
        }
      ]
    },
    {
      "cell_type": "code",
      "source": [
        "with open('demo.txt','w') as file :\n",
        "  data = file.write('this is testing with the with statement ') # this over wirte the previous text in the file"
      ],
      "metadata": {
        "id": "dXI0Q1ssi_GE"
      },
      "execution_count": null,
      "outputs": []
    },
    {
      "cell_type": "code",
      "source": [
        "print(data)"
      ],
      "metadata": {
        "colab": {
          "base_uri": "https://localhost:8080/"
        },
        "id": "kmujv_2sjRAS",
        "outputId": "a5b42d74-82b8-4138-93c4-8a176c91ae38"
      },
      "execution_count": null,
      "outputs": [
        {
          "output_type": "stream",
          "name": "stdout",
          "text": [
            "40\n"
          ]
        }
      ]
    },
    {
      "cell_type": "code",
      "source": [
        "with open('demo.txt') as file :\n",
        "  data = file.read()"
      ],
      "metadata": {
        "id": "n5Iq5teVjSWI"
      },
      "execution_count": null,
      "outputs": []
    },
    {
      "cell_type": "code",
      "source": [
        "print(data)"
      ],
      "metadata": {
        "colab": {
          "base_uri": "https://localhost:8080/"
        },
        "id": "uRCibpq0jfDm",
        "outputId": "f192effa-32a1-414f-d34f-b93b50086627"
      },
      "execution_count": null,
      "outputs": [
        {
          "output_type": "stream",
          "name": "stdout",
          "text": [
            "this is testing with the with statement \n"
          ]
        }
      ]
    },
    {
      "cell_type": "code",
      "source": [
        "with open('demo.txt','a') as file :\n",
        "  data = file.write('this is testing with the with statement and mode a(append) ')"
      ],
      "metadata": {
        "id": "50yoIAqZjgZq"
      },
      "execution_count": null,
      "outputs": []
    },
    {
      "cell_type": "code",
      "source": [
        "with open('demo.txt') as file :\n",
        "  data = file.read()\n",
        "\n",
        "print(data)"
      ],
      "metadata": {
        "colab": {
          "base_uri": "https://localhost:8080/"
        },
        "id": "h9PcjV4Uj2gb",
        "outputId": "7853c0d6-e243-47bd-bb53-82b33764ca3a"
      },
      "execution_count": null,
      "outputs": [
        {
          "output_type": "stream",
          "name": "stdout",
          "text": [
            "this is testing with the with statement this is testing with the with statement and mode a(append) \n"
          ]
        }
      ]
    },
    {
      "cell_type": "code",
      "source": [
        "with open('demo.txt','r+') as file :\n",
        "  data = file.write('this is testing with the with statement and mode r+ ')"
      ],
      "metadata": {
        "id": "OUtmI_HPj3tS"
      },
      "execution_count": null,
      "outputs": []
    },
    {
      "cell_type": "code",
      "source": [
        "with open('demo.txt') as file :\n",
        "  data = file.read()\n",
        "\n",
        "print(data)"
      ],
      "metadata": {
        "colab": {
          "base_uri": "https://localhost:8080/"
        },
        "id": "QrTuUxN9kVSe",
        "outputId": "5d2a192c-3bf5-4c01-b5c6-1da3a7c9c199"
      },
      "execution_count": null,
      "outputs": [
        {
          "output_type": "stream",
          "name": "stdout",
          "text": [
            "this is testing with the with statement and mode r+ ing with the with statement and mode a(append) \n"
          ]
        }
      ]
    },
    {
      "cell_type": "code",
      "source": [
        "with open('demo.txt','r') as file :\n",
        "  data = file.read()\n",
        "  for word in data:\n",
        "    line = data.split()\n",
        "    print(line)"
      ],
      "metadata": {
        "id": "6pyGUABNkW4b"
      },
      "execution_count": null,
      "outputs": []
    },
    {
      "cell_type": "code",
      "source": [
        "file2 = open(\"DEMO.txt\",'x')"
      ],
      "metadata": {
        "id": "63MGFaB5r4Ox"
      },
      "execution_count": 34,
      "outputs": []
    },
    {
      "cell_type": "code",
      "source": [
        "files = open(\"training.txt\",'x')"
      ],
      "metadata": {
        "id": "DXz9-KBPsBlF"
      },
      "execution_count": 35,
      "outputs": []
    },
    {
      "cell_type": "code",
      "source": [
        "files = open(\"training.txt\",'w')\n",
        "files.write(\"We will start BigData Tomorrow\")\n",
        "files.close()"
      ],
      "metadata": {
        "id": "JhcxO__ysFKC"
      },
      "execution_count": 36,
      "outputs": []
    },
    {
      "cell_type": "code",
      "source": [
        "files = open(\"training.txt\",'r')\n",
        "files.read()"
      ],
      "metadata": {
        "colab": {
          "base_uri": "https://localhost:8080/",
          "height": 36
        },
        "id": "xHhyWt68sJGa",
        "outputId": "28ade3f6-148c-4467-8ac3-33ec53c76be5"
      },
      "execution_count": 37,
      "outputs": [
        {
          "output_type": "execute_result",
          "data": {
            "text/plain": [
              "'We will start BigData Tomorrow'"
            ],
            "application/vnd.google.colaboratory.intrinsic+json": {
              "type": "string"
            }
          },
          "metadata": {},
          "execution_count": 37
        }
      ]
    },
    {
      "cell_type": "code",
      "source": [
        "import os\n",
        "os.remove(\"training.txt\")"
      ],
      "metadata": {
        "id": "IjFE7cL6sL-b"
      },
      "execution_count": 38,
      "outputs": []
    },
    {
      "cell_type": "code",
      "source": [
        "#for removing the directory \n",
        "import os\n",
        "os.rmdir()"
      ],
      "metadata": {
        "colab": {
          "base_uri": "https://localhost:8080/",
          "height": 200
        },
        "id": "r4IFOhSTsRID",
        "outputId": "f7674c19-63b7-44b3-8f8d-9e7cf939e405"
      },
      "execution_count": 39,
      "outputs": [
        {
          "output_type": "error",
          "ename": "TypeError",
          "evalue": "ignored",
          "traceback": [
            "\u001b[0;31m---------------------------------------------------------------------------\u001b[0m",
            "\u001b[0;31mTypeError\u001b[0m                                 Traceback (most recent call last)",
            "\u001b[0;32m<ipython-input-39-fc7efe6537f9>\u001b[0m in \u001b[0;36m<module>\u001b[0;34m\u001b[0m\n\u001b[1;32m      1\u001b[0m \u001b[0;31m#for removing the directory\u001b[0m\u001b[0;34m\u001b[0m\u001b[0;34m\u001b[0m\u001b[0;34m\u001b[0m\u001b[0m\n\u001b[1;32m      2\u001b[0m \u001b[0;32mimport\u001b[0m \u001b[0mos\u001b[0m\u001b[0;34m\u001b[0m\u001b[0;34m\u001b[0m\u001b[0m\n\u001b[0;32m----> 3\u001b[0;31m \u001b[0mos\u001b[0m\u001b[0;34m.\u001b[0m\u001b[0mrmdir\u001b[0m\u001b[0;34m(\u001b[0m\u001b[0;34m)\u001b[0m\u001b[0;34m\u001b[0m\u001b[0;34m\u001b[0m\u001b[0m\n\u001b[0m",
            "\u001b[0;31mTypeError\u001b[0m: rmdir() missing required argument 'path' (pos 1)"
          ]
        }
      ]
    },
    {
      "cell_type": "code",
      "source": [
        "dir(files)"
      ],
      "metadata": {
        "colab": {
          "base_uri": "https://localhost:8080/"
        },
        "id": "zygHft0Xsnan",
        "outputId": "83937d39-6333-4a10-a9f2-53631265dc43"
      },
      "execution_count": 40,
      "outputs": [
        {
          "output_type": "execute_result",
          "data": {
            "text/plain": [
              "['_CHUNK_SIZE',\n",
              " '__class__',\n",
              " '__del__',\n",
              " '__delattr__',\n",
              " '__dict__',\n",
              " '__dir__',\n",
              " '__doc__',\n",
              " '__enter__',\n",
              " '__eq__',\n",
              " '__exit__',\n",
              " '__format__',\n",
              " '__ge__',\n",
              " '__getattribute__',\n",
              " '__getstate__',\n",
              " '__gt__',\n",
              " '__hash__',\n",
              " '__init__',\n",
              " '__init_subclass__',\n",
              " '__iter__',\n",
              " '__le__',\n",
              " '__lt__',\n",
              " '__ne__',\n",
              " '__new__',\n",
              " '__next__',\n",
              " '__reduce__',\n",
              " '__reduce_ex__',\n",
              " '__repr__',\n",
              " '__setattr__',\n",
              " '__sizeof__',\n",
              " '__str__',\n",
              " '__subclasshook__',\n",
              " '_checkClosed',\n",
              " '_checkReadable',\n",
              " '_checkSeekable',\n",
              " '_checkWritable',\n",
              " '_finalizing',\n",
              " 'buffer',\n",
              " 'close',\n",
              " 'closed',\n",
              " 'detach',\n",
              " 'encoding',\n",
              " 'errors',\n",
              " 'fileno',\n",
              " 'flush',\n",
              " 'isatty',\n",
              " 'line_buffering',\n",
              " 'mode',\n",
              " 'name',\n",
              " 'newlines',\n",
              " 'read',\n",
              " 'readable',\n",
              " 'readline',\n",
              " 'readlines',\n",
              " 'reconfigure',\n",
              " 'seek',\n",
              " 'seekable',\n",
              " 'tell',\n",
              " 'truncate',\n",
              " 'writable',\n",
              " 'write',\n",
              " 'write_through',\n",
              " 'writelines']"
            ]
          },
          "metadata": {},
          "execution_count": 40
        }
      ]
    },
    {
      "cell_type": "code",
      "source": [
        "files = open(\"training.txt\",'w')\n",
        "files.write(\"We will start BigData Tomorrow\")"
      ],
      "metadata": {
        "colab": {
          "base_uri": "https://localhost:8080/"
        },
        "id": "WLhKJqHZssfR",
        "outputId": "65f6379a-120d-49a0-cd46-6c7b449f8779"
      },
      "execution_count": 41,
      "outputs": [
        {
          "output_type": "execute_result",
          "data": {
            "text/plain": [
              "30"
            ]
          },
          "metadata": {},
          "execution_count": 41
        }
      ]
    },
    {
      "cell_type": "code",
      "source": [
        "print(files.closed)"
      ],
      "metadata": {
        "colab": {
          "base_uri": "https://localhost:8080/"
        },
        "id": "pHCq2rlr2JGw",
        "outputId": "f0c8beea-cab3-4a4a-99b3-1c5e2bcbf57b"
      },
      "execution_count": 43,
      "outputs": [
        {
          "output_type": "stream",
          "name": "stdout",
          "text": [
            "False\n"
          ]
        }
      ]
    },
    {
      "cell_type": "code",
      "source": [
        "with open('demo.txt','w') as file :\n",
        "  data = file.write('ioahfhweahej ')"
      ],
      "metadata": {
        "id": "BFWYczuC2Opl"
      },
      "execution_count": 45,
      "outputs": []
    },
    {
      "cell_type": "code",
      "source": [
        "print(file.closed)"
      ],
      "metadata": {
        "colab": {
          "base_uri": "https://localhost:8080/"
        },
        "id": "xHGXtnyU2cWQ",
        "outputId": "1befda5e-a6f0-45e5-8cc2-c3e4a37e78e7"
      },
      "execution_count": 46,
      "outputs": [
        {
          "output_type": "stream",
          "name": "stdout",
          "text": [
            "True\n"
          ]
        }
      ]
    },
    {
      "cell_type": "code",
      "source": [
        "# copy files into newfiles\n",
        "\n",
        "from shutil import  copyfile"
      ],
      "metadata": {
        "id": "gyeKpFe92lBi"
      },
      "execution_count": 47,
      "outputs": []
    },
    {
      "cell_type": "code",
      "source": [
        "copyfile('demo.txt','some.txt')\n"
      ],
      "metadata": {
        "colab": {
          "base_uri": "https://localhost:8080/",
          "height": 36
        },
        "id": "6ebN83F02_x0",
        "outputId": "94b77ff2-6c1f-4b84-d113-cea41e5c13fe"
      },
      "execution_count": 48,
      "outputs": [
        {
          "output_type": "execute_result",
          "data": {
            "text/plain": [
              "'some.txt'"
            ],
            "application/vnd.google.colaboratory.intrinsic+json": {
              "type": "string"
            }
          },
          "metadata": {},
          "execution_count": 48
        }
      ]
    },
    {
      "cell_type": "code",
      "source": [
        "with open('some.txt','r') as file :\n",
        "  print(file.readlines())"
      ],
      "metadata": {
        "colab": {
          "base_uri": "https://localhost:8080/"
        },
        "id": "eqlt_wpk3dHX",
        "outputId": "f90b0568-862c-460d-d02f-cb9c66588694"
      },
      "execution_count": 50,
      "outputs": [
        {
          "output_type": "stream",
          "name": "stdout",
          "text": [
            "['ioahfhweahej ']\n"
          ]
        }
      ]
    },
    {
      "cell_type": "code",
      "source": [
        "p = open('loan.png','rb')"
      ],
      "metadata": {
        "id": "c5zxFNHR3my2"
      },
      "execution_count": 55,
      "outputs": []
    },
    {
      "cell_type": "code",
      "source": [
        "p.read()"
      ],
      "metadata": {
        "id": "q3JbAV1R39aa"
      },
      "execution_count": null,
      "outputs": []
    },
    {
      "cell_type": "code",
      "source": [
        "copyfile('loan.png','demo.png')"
      ],
      "metadata": {
        "colab": {
          "base_uri": "https://localhost:8080/",
          "height": 36
        },
        "id": "OrkXf6pX4vHH",
        "outputId": "eb8fe2fb-6efe-4d65-fa80-eb6e995cc095"
      },
      "execution_count": 57,
      "outputs": [
        {
          "output_type": "execute_result",
          "data": {
            "text/plain": [
              "'demo.png'"
            ],
            "application/vnd.google.colaboratory.intrinsic+json": {
              "type": "string"
            }
          },
          "metadata": {},
          "execution_count": 57
        }
      ]
    },
    {
      "cell_type": "code",
      "source": [],
      "metadata": {
        "id": "vkXWhIDS46bZ"
      },
      "execution_count": null,
      "outputs": []
    }
  ]
}