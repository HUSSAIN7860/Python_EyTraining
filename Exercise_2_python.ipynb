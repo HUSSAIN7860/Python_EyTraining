{
  "nbformat": 4,
  "nbformat_minor": 0,
  "metadata": {
    "colab": {
      "provenance": [],
      "authorship_tag": "ABX9TyNVOJempytHkODiGqWLiDI5",
      "include_colab_link": true
    },
    "kernelspec": {
      "name": "python3",
      "display_name": "Python 3"
    },
    "language_info": {
      "name": "python"
    }
  },
  "cells": [
    {
      "cell_type": "markdown",
      "metadata": {
        "id": "view-in-github",
        "colab_type": "text"
      },
      "source": [
        "<a href=\"https://colab.research.google.com/github/HUSSAIN7860/Python_EyTraining/blob/main/Exercise_2_python.ipynb\" target=\"_parent\"><img src=\"https://colab.research.google.com/assets/colab-badge.svg\" alt=\"Open In Colab\"/></a>"
      ]
    },
    {
      "cell_type": "markdown",
      "source": [
        "### 1. Write a program to take three names as input from a user in the single input() function call. "
      ],
      "metadata": {
        "id": "MC76lkdwbR3O"
      }
    },
    {
      "cell_type": "code",
      "source": [
        "t = input(\"Enter the three name here with space seprated :\")\n",
        "name = t.split(' ')\n",
        "print(name)\n"
      ],
      "metadata": {
        "colab": {
          "base_uri": "https://localhost:8080/"
        },
        "id": "Fal_dPMdbUFG",
        "outputId": "6f2545e3-80e1-48da-a93e-5f1661e7cca4"
      },
      "execution_count": null,
      "outputs": [
        {
          "output_type": "stream",
          "name": "stdout",
          "text": [
            "Enter the three name here with space seprated :md ishtiyaque hussain\n",
            "['md', 'ishtiyaque', 'hussain']\n"
          ]
        }
      ]
    },
    {
      "cell_type": "markdown",
      "source": [
        "### 2. Write a program to print the following number pattern using a loop. \n",
        "\n",
        "\t1  \n",
        "\n",
        "\t1 2 \n",
        "\n",
        "\t1 2 3 \n",
        "\n",
        "  1 2 3 4 \n",
        "\n",
        "\t1 2 3 4 5 "
      ],
      "metadata": {
        "id": "IzCEMKhOb8aR"
      }
    },
    {
      "cell_type": "code",
      "source": [
        "for i in range( 1,6):\n",
        "  for j in range(1,6):\n",
        "    if i>= j:\n",
        "      print(j, end = '')\n",
        "  print('\\t')"
      ],
      "metadata": {
        "colab": {
          "base_uri": "https://localhost:8080/"
        },
        "id": "qVqHrpEgbuEG",
        "outputId": "83d3a17b-cc59-4758-a1a2-dda6d5854199"
      },
      "execution_count": null,
      "outputs": [
        {
          "output_type": "stream",
          "name": "stdout",
          "text": [
            "1\t\n",
            "12\t\n",
            "123\t\n",
            "1234\t\n",
            "12345\t\n"
          ]
        }
      ]
    },
    {
      "cell_type": "markdown",
      "source": [
        "### 3. Write a program to accept a number from a user and calculate the sum of all numbers from 1 to a given number "
      ],
      "metadata": {
        "id": "ngbrv1oXcvlg"
      }
    },
    {
      "cell_type": "code",
      "source": [
        "n = int(input(\" enter the number here :\"))\n",
        "sum = 0\n",
        "for i in range(n+1):\n",
        "  sum += i\n",
        "\n",
        "print(sum)"
      ],
      "metadata": {
        "colab": {
          "base_uri": "https://localhost:8080/"
        },
        "id": "neh3-ISncUud",
        "outputId": "ba15a849-3f89-4ec9-cc69-93589bf4c332"
      },
      "execution_count": null,
      "outputs": [
        {
          "output_type": "stream",
          "name": "stdout",
          "text": [
            " enter the number here :5\n",
            "15\n"
          ]
        }
      ]
    },
    {
      "cell_type": "markdown",
      "source": [
        "### 4. Print list in reverse order using a loop "
      ],
      "metadata": {
        "id": "66cnI5GNdRRw"
      }
    },
    {
      "cell_type": "code",
      "source": [
        "l =[ 1,3 ,4,5,6]\n",
        "for i in range(len(l)+1 , 0, -1):\n",
        "  print(i , end =' ')"
      ],
      "metadata": {
        "colab": {
          "base_uri": "https://localhost:8080/"
        },
        "id": "Z0E6va4Sc_aw",
        "outputId": "152e6173-ca3d-45e4-9a14-a84d8e130695"
      },
      "execution_count": null,
      "outputs": [
        {
          "output_type": "stream",
          "name": "stdout",
          "text": [
            "6 5 4 3 2 1 "
          ]
        }
      ]
    },
    {
      "cell_type": "markdown",
      "source": [
        "### 5. Write a program to display all prime numbers within a range "
      ],
      "metadata": {
        "id": "hTFBZ7uBdw9H"
      }
    },
    {
      "cell_type": "code",
      "source": [
        "n = int(input('Enter the number here :'))\n",
        "for i in range(2 , n):\n",
        "  for j in range(2 , i):\n",
        "    if i % j == 0:\n",
        "      break\n",
        "  else:\n",
        "    print(f'the number {i} is prime ')\n",
        "      "
      ],
      "metadata": {
        "colab": {
          "base_uri": "https://localhost:8080/"
        },
        "id": "0KxsqW4TdfgU",
        "outputId": "b937fab4-c0f5-4d6a-d439-ccf74d831034"
      },
      "execution_count": null,
      "outputs": [
        {
          "output_type": "stream",
          "name": "stdout",
          "text": [
            "Enter the number here :10\n",
            "the number 2 is prime \n",
            "the number 3 is prime \n",
            "the number 5 is prime \n",
            "the number 7 is prime \n"
          ]
        }
      ]
    },
    {
      "cell_type": "markdown",
      "source": [
        "### 6. Find the factorial of a given number without using math module \n"
      ],
      "metadata": {
        "id": "fAxBvn04f5q6"
      }
    },
    {
      "cell_type": "code",
      "source": [
        "fact = int(input(\" Enter the number here :\"))\n",
        "sum = 1\n",
        "if fact == 0 or fact == 1:\n",
        "  print(1)\n",
        "else:\n",
        "  for i in range(1,fact+1):\n",
        "    sum = sum*i\n",
        "print(sum)"
      ],
      "metadata": {
        "colab": {
          "base_uri": "https://localhost:8080/"
        },
        "id": "CgPlVmuqe19e",
        "outputId": "27aa4ef2-7550-4f38-8d2d-2a45bfc07129"
      },
      "execution_count": null,
      "outputs": [
        {
          "output_type": "stream",
          "name": "stdout",
          "text": [
            " Enter the number here :5\n",
            "120\n"
          ]
        }
      ]
    },
    {
      "cell_type": "markdown",
      "source": [
        "### 7. Print the following pattern \n",
        "\n",
        "\t* \n",
        "\n",
        "\t* *  \n",
        "\n",
        "\t* * * \n",
        "\n",
        "\t* * * * \n",
        "\n",
        "\t* * * * * \n",
        "\n",
        "\t* * * * \n",
        "\n",
        "\t* * * \n",
        "\n",
        "\t* * \n",
        "\n",
        "\t* "
      ],
      "metadata": {
        "id": "uBTiFKCMhpHJ"
      }
    },
    {
      "cell_type": "code",
      "source": [
        "for i in range (0, 5):\n",
        "    for j in range(0, i + 1):\n",
        "        print(\"* \", end='')\n",
        "    print(\"\\r\")\n",
        "for i in range (5, 0, -1):\n",
        "    for j in range(0, i -1):\n",
        "        print(\"* \", end='')\n",
        "    print(\"\\r\")"
      ],
      "metadata": {
        "colab": {
          "base_uri": "https://localhost:8080/"
        },
        "id": "DL4sWQCKguoa",
        "outputId": "31982ded-612c-49fb-ed34-b555747ee235"
      },
      "execution_count": 50,
      "outputs": [
        {
          "output_type": "stream",
          "name": "stdout",
          "text": [
            "* \r\n",
            "* * \r\n",
            "* * * \r\n",
            "* * * * \r\n",
            "* * * * * \r\n",
            "* * * * \r\n",
            "* * * \r\n",
            "* * \r\n",
            "* \r\n",
            "\r\n"
          ]
        }
      ]
    },
    {
      "cell_type": "code",
      "source": [],
      "metadata": {
        "id": "gnvL0r9Gi-OI"
      },
      "execution_count": null,
      "outputs": []
    }
  ]
}