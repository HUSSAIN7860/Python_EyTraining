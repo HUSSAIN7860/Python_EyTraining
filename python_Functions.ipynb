{
  "nbformat": 4,
  "nbformat_minor": 0,
  "metadata": {
    "colab": {
      "provenance": [],
      "authorship_tag": "ABX9TyN7Id9w0i9QQzTntvOxrAbb",
      "include_colab_link": true
    },
    "kernelspec": {
      "name": "python3",
      "display_name": "Python 3"
    },
    "language_info": {
      "name": "python"
    }
  },
  "cells": [
    {
      "cell_type": "markdown",
      "metadata": {
        "id": "view-in-github",
        "colab_type": "text"
      },
      "source": [
        "<a href=\"https://colab.research.google.com/github/HUSSAIN7860/Python_EyTraining/blob/main/python_Functions.ipynb\" target=\"_parent\"><img src=\"https://colab.research.google.com/assets/colab-badge.svg\" alt=\"Open In Colab\"/></a>"
      ]
    },
    {
      "cell_type": "markdown",
      "source": [
        "### 1. Create a function in such a way that we can pass any number of arguments to this function, and the function should process them and display each argument’s value "
      ],
      "metadata": {
        "id": "GFCL_URZMI5T"
      }
    },
    {
      "cell_type": "code",
      "source": [
        "def multiple_arg(*arg):\n",
        "  for i in arg:\n",
        "    print('Element of the argument that you passed is :', i)"
      ],
      "metadata": {
        "id": "6izAAO6aMRdu"
      },
      "execution_count": 1,
      "outputs": []
    },
    {
      "cell_type": "code",
      "source": [
        "multiple_arg(1,2,4,5,6)"
      ],
      "metadata": {
        "colab": {
          "base_uri": "https://localhost:8080/"
        },
        "id": "uZwgZgC3MwP-",
        "outputId": "e21bbebe-e5fe-4e6d-d6e5-fa04993697a2"
      },
      "execution_count": 2,
      "outputs": [
        {
          "output_type": "stream",
          "name": "stdout",
          "text": [
            "Element of the argument that you passed is : 1\n",
            "Element of the argument that you passed is : 2\n",
            "Element of the argument that you passed is : 4\n",
            "Element of the argument that you passed is : 5\n",
            "Element of the argument that you passed is : 6\n"
          ]
        }
      ]
    },
    {
      "cell_type": "markdown",
      "source": [
        "### 2. Write a program to create function calculation() such that it can accept two variables and calculate addition and subtraction. Also, it must return both addition and subtraction in a single return call. "
      ],
      "metadata": {
        "id": "IJC4JlN4M7Cx"
      }
    },
    {
      "cell_type": "code",
      "source": [
        "# defining function \n",
        "def calculation():\n",
        "  a = int(input('enter the first number here :'))\n",
        "  b = int(input('enter the second number here :'))\n",
        "  addition = a+b\n",
        "  subtraction = a-b\n",
        "  return print('addition is :',addition ,'substraction is :' ,subtraction)\n"
      ],
      "metadata": {
        "id": "xs8OuUF-M1ss"
      },
      "execution_count": 6,
      "outputs": []
    },
    {
      "cell_type": "code",
      "source": [
        "# calling function\n",
        "calculation()"
      ],
      "metadata": {
        "colab": {
          "base_uri": "https://localhost:8080/"
        },
        "id": "f95GZqvNNlRo",
        "outputId": "39174982-e1f8-49a6-a501-06307b9fbe60"
      },
      "execution_count": 7,
      "outputs": [
        {
          "output_type": "stream",
          "name": "stdout",
          "text": [
            "enter the first number here :15\n",
            "enter the second number here :10\n",
            "addition is : 25 substraction is : 5\n"
          ]
        }
      ]
    },
    {
      "cell_type": "markdown",
      "source": [
        "### 3. Write a program to create a function show_employee() using the following conditions. \n",
        "A)It should accept the employee’s name and salary and display both. \n",
        "\n",
        "B)If the salary is missing in the function call then assign default value 9000 to salary "
      ],
      "metadata": {
        "id": "PlMMQkZ5OI3Y"
      }
    },
    {
      "cell_type": "code",
      "source": [
        "# defining function \n",
        "def show_employee(name , salary=9000):\n",
        "  print(f'the name of the employee is {name} and whose salary is {salary}')\n",
        " "
      ],
      "metadata": {
        "id": "fqksCurRNv1x"
      },
      "execution_count": 8,
      "outputs": []
    },
    {
      "cell_type": "code",
      "source": [
        "# calling function \n",
        "show_employee('hussain')"
      ],
      "metadata": {
        "colab": {
          "base_uri": "https://localhost:8080/"
        },
        "id": "DX78Az6WPKfY",
        "outputId": "b091679b-4c52-413e-c407-6e038e14a113"
      },
      "execution_count": 10,
      "outputs": [
        {
          "output_type": "stream",
          "name": "stdout",
          "text": [
            "the name of the employee is hussain and whose salary is 9000\n"
          ]
        }
      ]
    },
    {
      "cell_type": "markdown",
      "source": [
        "### 4. Create an outer function that will accept two parameters, a and b,   Create an inner function inside an outer function that will calculate the addition of a and b,  At last, an outer function will add 5 into addition and return it "
      ],
      "metadata": {
        "id": "FEWDLeTEPZTj"
      }
    },
    {
      "cell_type": "code",
      "source": [
        "# defining function\n",
        "def outer_func(a,b):\n",
        "  def inner_func(a,b):\n",
        "    c = a+b\n",
        "    return c\n",
        "  d = inner_func(a,b)+5\n",
        "  return d"
      ],
      "metadata": {
        "id": "YQF2zEMEPRim"
      },
      "execution_count": 13,
      "outputs": []
    },
    {
      "cell_type": "code",
      "source": [
        "# calling functions\n",
        "outer_func(3,5)"
      ],
      "metadata": {
        "colab": {
          "base_uri": "https://localhost:8080/"
        },
        "id": "0uE53kMMQSZX",
        "outputId": "38ba35a4-3369-45f2-bfc1-bec5fa3a3599"
      },
      "execution_count": 14,
      "outputs": [
        {
          "output_type": "execute_result",
          "data": {
            "text/plain": [
              "13"
            ]
          },
          "metadata": {},
          "execution_count": 14
        }
      ]
    },
    {
      "cell_type": "code",
      "source": [],
      "metadata": {
        "id": "lSWMDs0sQYdz"
      },
      "execution_count": null,
      "outputs": []
    }
  ]
}