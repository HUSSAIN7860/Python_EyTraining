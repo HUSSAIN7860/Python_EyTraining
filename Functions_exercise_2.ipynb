{
  "nbformat": 4,
  "nbformat_minor": 0,
  "metadata": {
    "colab": {
      "provenance": [],
      "authorship_tag": "ABX9TyMfa8sMF+S+Iuo0CThEL7dj",
      "include_colab_link": true
    },
    "kernelspec": {
      "name": "python3",
      "display_name": "Python 3"
    },
    "language_info": {
      "name": "python"
    }
  },
  "cells": [
    {
      "cell_type": "markdown",
      "metadata": {
        "id": "view-in-github",
        "colab_type": "text"
      },
      "source": [
        "<a href=\"https://colab.research.google.com/github/HUSSAIN7860/Python_EyTraining/blob/main/Functions_exercise_2.ipynb\" target=\"_parent\"><img src=\"https://colab.research.google.com/assets/colab-badge.svg\" alt=\"Open In Colab\"/></a>"
      ]
    },
    {
      "cell_type": "markdown",
      "source": [
        "### 1. Write a Python function that accepts a string and calculate the number of upper case letters and lower case letters "
      ],
      "metadata": {
        "id": "pDiPsUNgqQxl"
      }
    },
    {
      "cell_type": "code",
      "source": [
        "# defining function\n",
        "def upper_lower(s):\n",
        "  u = 0\n",
        "  l = 0\n",
        "  for i in s :\n",
        "    if i.isupper():\n",
        "      u += 1\n",
        "    else:\n",
        "      l += 1\n",
        "  return print(f'Number of uppercase is {u} and the lower case is {l}')\n",
        "\n"
      ],
      "metadata": {
        "id": "Gz-6gY--qU46"
      },
      "execution_count": null,
      "outputs": []
    },
    {
      "cell_type": "code",
      "source": [
        "# Calling Function\n",
        "name = input('enter your name here :')\n",
        "upper_lower(name)"
      ],
      "metadata": {
        "colab": {
          "base_uri": "https://localhost:8080/"
        },
        "id": "4fhTCJ1grFrc",
        "outputId": "486390ec-7448-4398-e048-37e10298c454"
      },
      "execution_count": null,
      "outputs": [
        {
          "output_type": "stream",
          "name": "stdout",
          "text": [
            "enter your name here :HussaIn\n",
            "Number of uppercase is 2 and the lower case is 5\n"
          ]
        }
      ]
    },
    {
      "cell_type": "markdown",
      "source": [
        "### 2. Write a Python function to check whether a string is a pangram or not. "
      ],
      "metadata": {
        "id": "Bn97jYjpsqBZ"
      }
    },
    {
      "cell_type": "code",
      "source": [
        "# A pangram is a sentence containing every letter in the English Alphabet.\n",
        "\n",
        "# defining function\n",
        "\n",
        "def pangram(s):\n",
        "  alphabet = \"abcdefghijklmnopqrstuvwxyz\"\n",
        "  for i in alphabet:\n",
        "    if i not in s.lower():\n",
        "      return False\n",
        "  \n",
        "  return True\n"
      ],
      "metadata": {
        "id": "B8l12tP1rXDp"
      },
      "execution_count": 11,
      "outputs": []
    },
    {
      "cell_type": "code",
      "source": [
        "# calling function\n",
        "pangram('hussain')"
      ],
      "metadata": {
        "colab": {
          "base_uri": "https://localhost:8080/"
        },
        "id": "0W1lznldtAHt",
        "outputId": "0c2acd7d-9ddf-49c3-cf0f-c4116f54b285"
      },
      "execution_count": 12,
      "outputs": [
        {
          "output_type": "execute_result",
          "data": {
            "text/plain": [
              "False"
            ]
          },
          "metadata": {},
          "execution_count": 12
        }
      ]
    },
    {
      "cell_type": "markdown",
      "source": [
        "### 3. Write a Python function that takes a number as a parameter and check the number is prime or not. "
      ],
      "metadata": {
        "id": "wTSxGrmvt_jm"
      }
    },
    {
      "cell_type": "code",
      "source": [
        "# defining function\n",
        "def prime(num):\n",
        "  for i in range(2, num):\n",
        "    for j in range(2,i):\n",
        "      if i% j==0:\n",
        "        return print('Number is not prime')\n",
        "  else:\n",
        "    return print('Number is prime')"
      ],
      "metadata": {
        "id": "dWjiNdyrtvvY"
      },
      "execution_count": 15,
      "outputs": []
    },
    {
      "cell_type": "code",
      "source": [
        "print(prime(10))"
      ],
      "metadata": {
        "colab": {
          "base_uri": "https://localhost:8080/"
        },
        "id": "4EZcUvm6ulQx",
        "outputId": "1196e6e8-ce09-474e-9407-6905e70bace0"
      },
      "execution_count": 18,
      "outputs": [
        {
          "output_type": "stream",
          "name": "stdout",
          "text": [
            "Number is not prime\n",
            "None\n"
          ]
        }
      ]
    },
    {
      "cell_type": "markdown",
      "source": [
        "###  4. Write a Python function to check whether a number is perfect or not."
      ],
      "metadata": {
        "id": "L8JApkUpu9sn"
      }
    },
    {
      "cell_type": "code",
      "source": [
        "# A perfect Number is a number in which the sum of the divisors of the number is equal to the number.\n",
        "def perfect_num(num):\n",
        "  sum = 0\n",
        "  for i in range(1,num):\n",
        "    if num %i ==0:\n",
        "      sum = sum +i\n",
        "  return sum == num\n",
        "  "
      ],
      "metadata": {
        "id": "GN6hPavHuqSn"
      },
      "execution_count": 19,
      "outputs": []
    },
    {
      "cell_type": "code",
      "source": [
        "# calling function \n",
        "perfect_num(25)"
      ],
      "metadata": {
        "colab": {
          "base_uri": "https://localhost:8080/"
        },
        "id": "Kg_dQnJMwaf4",
        "outputId": "345ce69e-28a2-43ce-c48e-e3d9f24cc42a"
      },
      "execution_count": 20,
      "outputs": [
        {
          "output_type": "execute_result",
          "data": {
            "text/plain": [
              "False"
            ]
          },
          "metadata": {},
          "execution_count": 20
        }
      ]
    },
    {
      "cell_type": "code",
      "source": [],
      "metadata": {
        "id": "Gi0ITqTbwfq3"
      },
      "execution_count": null,
      "outputs": []
    }
  ]
}