{
  "nbformat": 4,
  "nbformat_minor": 0,
  "metadata": {
    "colab": {
      "provenance": [],
      "authorship_tag": "ABX9TyMbZjwuDc/IuMMGS93Hx/rR",
      "include_colab_link": true
    },
    "kernelspec": {
      "name": "python3",
      "display_name": "Python 3"
    },
    "language_info": {
      "name": "python"
    }
  },
  "cells": [
    {
      "cell_type": "markdown",
      "metadata": {
        "id": "view-in-github",
        "colab_type": "text"
      },
      "source": [
        "<a href=\"https://colab.research.google.com/github/HUSSAIN7860/Python_EyTraining/blob/main/EY_Training.ipynb\" target=\"_parent\"><img src=\"https://colab.research.google.com/assets/colab-badge.svg\" alt=\"Open In Colab\"/></a>"
      ]
    },
    {
      "cell_type": "code",
      "execution_count": 1,
      "metadata": {
        "colab": {
          "base_uri": "https://localhost:8080/"
        },
        "id": "ULo4i_BsU96W",
        "outputId": "d9892376-7b5d-4bb1-bd09-709fd816f101"
      },
      "outputs": [
        {
          "output_type": "stream",
          "name": "stdout",
          "text": [
            "this is my first training python code here while i am using google colab \n"
          ]
        }
      ],
      "source": [
        "print(\"this is my first training python code here while i am using google colab \")"
      ]
    },
    {
      "cell_type": "code",
      "source": [
        "for i in range(100001):\n",
        "  print(i)"
      ],
      "metadata": {
        "id": "vZFa27kCVS87"
      },
      "execution_count": null,
      "outputs": []
    },
    {
      "cell_type": "code",
      "source": [
        "name = 'Md Ishtiayque Hussain'"
      ],
      "metadata": {
        "id": "4DysxsTHVgNi"
      },
      "execution_count": 4,
      "outputs": []
    },
    {
      "cell_type": "code",
      "source": [
        "roll_num = 180240101059"
      ],
      "metadata": {
        "id": "cp721bWIXwGa"
      },
      "execution_count": 5,
      "outputs": []
    },
    {
      "cell_type": "code",
      "source": [
        "print(name , roll_num)"
      ],
      "metadata": {
        "colab": {
          "base_uri": "https://localhost:8080/"
        },
        "id": "TiEcJ03cX0aO",
        "outputId": "a737d81d-aafb-4a2e-9f24-3c4aa2b15660"
      },
      "execution_count": 6,
      "outputs": [
        {
          "output_type": "stream",
          "name": "stdout",
          "text": [
            "Md Ishtiayque Hussain 180240101059\n"
          ]
        }
      ]
    },
    {
      "cell_type": "code",
      "source": [
        "type(name)"
      ],
      "metadata": {
        "colab": {
          "base_uri": "https://localhost:8080/"
        },
        "id": "AkE28s6FX4Qw",
        "outputId": "64332485-0fcc-4013-de8e-24f8d46a3d41"
      },
      "execution_count": 7,
      "outputs": [
        {
          "output_type": "execute_result",
          "data": {
            "text/plain": [
              "str"
            ]
          },
          "metadata": {},
          "execution_count": 7
        }
      ]
    },
    {
      "cell_type": "code",
      "source": [
        "4+5j != 3+6j"
      ],
      "metadata": {
        "colab": {
          "base_uri": "https://localhost:8080/"
        },
        "id": "Vk4idhKBX9e6",
        "outputId": "a2a557b5-1fff-40ef-b296-a11436da48a1"
      },
      "execution_count": 10,
      "outputs": [
        {
          "output_type": "execute_result",
          "data": {
            "text/plain": [
              "True"
            ]
          },
          "metadata": {},
          "execution_count": 10
        }
      ]
    },
    {
      "cell_type": "code",
      "source": [
        "9>8>6>7"
      ],
      "metadata": {
        "colab": {
          "base_uri": "https://localhost:8080/"
        },
        "id": "A1UQIc9llIz2",
        "outputId": "89ad5155-6cac-454d-a3af-8ef5ffb80b18"
      },
      "execution_count": 12,
      "outputs": [
        {
          "output_type": "execute_result",
          "data": {
            "text/plain": [
              "False"
            ]
          },
          "metadata": {},
          "execution_count": 12
        }
      ]
    },
    {
      "cell_type": "code",
      "source": [
        "5 is 5"
      ],
      "metadata": {
        "colab": {
          "base_uri": "https://localhost:8080/"
        },
        "id": "_XQh80YIyMxr",
        "outputId": "08b2a717-4dde-438b-a42d-6977a36acd33"
      },
      "execution_count": 15,
      "outputs": [
        {
          "output_type": "execute_result",
          "data": {
            "text/plain": [
              "True"
            ]
          },
          "metadata": {},
          "execution_count": 15
        }
      ]
    },
    {
      "cell_type": "code",
      "source": [
        "a , b = int(input('enter two number :')) , int(input())\n",
        "print('sum of two number :',a+b)"
      ],
      "metadata": {
        "colab": {
          "base_uri": "https://localhost:8080/"
        },
        "id": "Slyvd9dE2Fcr",
        "outputId": "44260ad9-71df-4281-de68-11ec3872e4e6"
      },
      "execution_count": 19,
      "outputs": [
        {
          "output_type": "stream",
          "name": "stdout",
          "text": [
            "enter two number :5\n",
            "2\n",
            "sum of two number : 7\n"
          ]
        }
      ]
    },
    {
      "cell_type": "code",
      "source": [
        "p , r , t = int(input('enter the priciple : ')) , int(input('enter the rate of interest :')) , int(input('time :'))\n",
        "s = (p*r*t)/100\n",
        "print('simple interest is :' ,s)"
      ],
      "metadata": {
        "colab": {
          "base_uri": "https://localhost:8080/"
        },
        "id": "x69xFKB02NXO",
        "outputId": "44151740-02fe-42d1-c9cd-fec0f3d23de9"
      },
      "execution_count": 21,
      "outputs": [
        {
          "output_type": "stream",
          "name": "stdout",
          "text": [
            "enter the priciple : 1000\n",
            "enter the rate of interest :8\n",
            "time :10\n",
            "simple interest is : 800.0\n"
          ]
        }
      ]
    },
    {
      "cell_type": "code",
      "source": [
        "import numpy as np"
      ],
      "metadata": {
        "id": "KmbfJrtd3cqW"
      },
      "execution_count": 22,
      "outputs": []
    },
    {
      "cell_type": "code",
      "source": [
        "print('My', 'name' , sep = ' ')"
      ],
      "metadata": {
        "colab": {
          "base_uri": "https://localhost:8080/"
        },
        "id": "fSfElnx943_y",
        "outputId": "ff7b51af-2412-471a-b2aa-9bad0785e4f7"
      },
      "execution_count": 25,
      "outputs": [
        {
          "output_type": "stream",
          "name": "stdout",
          "text": [
            "My name\n"
          ]
        }
      ]
    },
    {
      "cell_type": "code",
      "source": [
        "p = 12\n",
        "print(f'this is {p}')"
      ],
      "metadata": {
        "colab": {
          "base_uri": "https://localhost:8080/"
        },
        "id": "9tvUMdzm6ezF",
        "outputId": "618b8001-ebeb-4d56-8024-705d9c6f2093"
      },
      "execution_count": 26,
      "outputs": [
        {
          "output_type": "stream",
          "name": "stdout",
          "text": [
            "this is 12\n"
          ]
        }
      ]
    },
    {
      "cell_type": "code",
      "source": [
        "x = 10 \n",
        "y = 3"
      ],
      "metadata": {
        "id": "XDXfkOd3774A"
      },
      "execution_count": 27,
      "outputs": []
    },
    {
      "cell_type": "code",
      "source": [
        "for i in range(10):\n",
        "  print(i)"
      ],
      "metadata": {
        "colab": {
          "base_uri": "https://localhost:8080/"
        },
        "id": "n5PE_TqfD54I",
        "outputId": "09ceade4-b6fb-4904-a0f2-df31adbd366e"
      },
      "execution_count": 31,
      "outputs": [
        {
          "output_type": "stream",
          "name": "stdout",
          "text": [
            "0\n",
            "1\n",
            "2\n",
            "3\n",
            "4\n",
            "5\n",
            "6\n",
            "7\n",
            "8\n",
            "9\n"
          ]
        }
      ]
    },
    {
      "cell_type": "code",
      "source": [
        "print('test')"
      ],
      "metadata": {
        "colab": {
          "base_uri": "https://localhost:8080/"
        },
        "id": "eK_YbzJAD8UW",
        "outputId": "bb79a71d-1ab4-4023-81e3-3529839e0d80"
      },
      "execution_count": 32,
      "outputs": [
        {
          "output_type": "stream",
          "name": "stdout",
          "text": [
            "test\n"
          ]
        }
      ]
    },
    {
      "cell_type": "code",
      "source": [],
      "metadata": {
        "id": "0bvXBPl0FXTP"
      },
      "execution_count": null,
      "outputs": []
    }
  ]
}