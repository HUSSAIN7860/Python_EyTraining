{
  "nbformat": 4,
  "nbformat_minor": 0,
  "metadata": {
    "colab": {
      "provenance": [],
      "authorship_tag": "ABX9TyPSEIa7h9by3DENxVwwsSpy",
      "include_colab_link": true
    },
    "kernelspec": {
      "name": "python3",
      "display_name": "Python 3"
    },
    "language_info": {
      "name": "python"
    }
  },
  "cells": [
    {
      "cell_type": "markdown",
      "metadata": {
        "id": "view-in-github",
        "colab_type": "text"
      },
      "source": [
        "<a href=\"https://colab.research.google.com/github/HUSSAIN7860/Python_EyTraining/blob/main/RDDs.ipynb\" target=\"_parent\"><img src=\"https://colab.research.google.com/assets/colab-badge.svg\" alt=\"Open In Colab\"/></a>"
      ]
    },
    {
      "cell_type": "code",
      "execution_count": 1,
      "metadata": {
        "colab": {
          "base_uri": "https://localhost:8080/"
        },
        "id": "HzJFJqrSJLKy",
        "outputId": "a77697c5-cabc-47fc-b227-4a00ba50e00d"
      },
      "outputs": [
        {
          "output_type": "stream",
          "name": "stdout",
          "text": [
            "Looking in indexes: https://pypi.org/simple, https://us-python.pkg.dev/colab-wheels/public/simple/\n",
            "Collecting pyspark\n",
            "  Downloading pyspark-3.3.0.tar.gz (281.3 MB)\n",
            "\u001b[K     |████████████████████████████████| 281.3 MB 38 kB/s \n",
            "\u001b[?25hCollecting py4j==0.10.9.5\n",
            "  Downloading py4j-0.10.9.5-py2.py3-none-any.whl (199 kB)\n",
            "\u001b[K     |████████████████████████████████| 199 kB 44.5 MB/s \n",
            "\u001b[?25hBuilding wheels for collected packages: pyspark\n",
            "  Building wheel for pyspark (setup.py) ... \u001b[?25l\u001b[?25hdone\n",
            "  Created wheel for pyspark: filename=pyspark-3.3.0-py2.py3-none-any.whl size=281764026 sha256=820ecc9c7b5dc58b974ff20c9c551d460bd39028f71fd906a7a7990993cee6fa\n",
            "  Stored in directory: /root/.cache/pip/wheels/7a/8e/1b/f73a52650d2e5f337708d9f6a1750d451a7349a867f928b885\n",
            "Successfully built pyspark\n",
            "Installing collected packages: py4j, pyspark\n",
            "Successfully installed py4j-0.10.9.5 pyspark-3.3.0\n"
          ]
        }
      ],
      "source": [
        "!pip install pyspark"
      ]
    },
    {
      "cell_type": "code",
      "source": [
        "#importing library\n",
        "import pyspark\n",
        "from pyspark.sql import SparkSession"
      ],
      "metadata": {
        "id": "63YvRCbxJuYY"
      },
      "execution_count": 2,
      "outputs": []
    },
    {
      "cell_type": "code",
      "source": [
        "# creating object for the session \n",
        "spark = SparkSession.builder.appName(\"RDDs\").getOrCreate()"
      ],
      "metadata": {
        "id": "WeFewGJIKOtq"
      },
      "execution_count": 3,
      "outputs": []
    },
    {
      "cell_type": "code",
      "source": [
        "spark"
      ],
      "metadata": {
        "colab": {
          "base_uri": "https://localhost:8080/",
          "height": 219
        },
        "id": "SGNQQE1MKeD3",
        "outputId": "38bd8ef1-942b-4b77-d216-809f920b738f"
      },
      "execution_count": 4,
      "outputs": [
        {
          "output_type": "execute_result",
          "data": {
            "text/plain": [
              "<pyspark.sql.session.SparkSession at 0x7f7684ed31d0>"
            ],
            "text/html": [
              "\n",
              "            <div>\n",
              "                <p><b>SparkSession - in-memory</b></p>\n",
              "                \n",
              "        <div>\n",
              "            <p><b>SparkContext</b></p>\n",
              "\n",
              "            <p><a href=\"http://aa8440b5e758:4040\">Spark UI</a></p>\n",
              "\n",
              "            <dl>\n",
              "              <dt>Version</dt>\n",
              "                <dd><code>v3.3.0</code></dd>\n",
              "              <dt>Master</dt>\n",
              "                <dd><code>local[*]</code></dd>\n",
              "              <dt>AppName</dt>\n",
              "                <dd><code>RDDs</code></dd>\n",
              "            </dl>\n",
              "        </div>\n",
              "        \n",
              "            </div>\n",
              "        "
            ]
          },
          "metadata": {},
          "execution_count": 4
        }
      ]
    },
    {
      "cell_type": "code",
      "source": [
        "# create rdd using sparkcontext \n",
        "df = spark.sparkContext.parallelize([(12,20,35,'abc'),(41,58,64,'def'),(70,85,90,'ghi')]).toDF(['col1','col2','col3','col4'])"
      ],
      "metadata": {
        "id": "atupPNJvKgj5"
      },
      "execution_count": 5,
      "outputs": []
    },
    {
      "cell_type": "code",
      "source": [
        "df.show()"
      ],
      "metadata": {
        "colab": {
          "base_uri": "https://localhost:8080/"
        },
        "id": "1pbk5_sSLBXy",
        "outputId": "36d80903-0c0d-4d00-8df3-470e5a568ad9"
      },
      "execution_count": 6,
      "outputs": [
        {
          "output_type": "stream",
          "name": "stdout",
          "text": [
            "+----+----+----+----+\n",
            "|col1|col2|col3|col4|\n",
            "+----+----+----+----+\n",
            "|  12|  20|  35| abc|\n",
            "|  41|  58|  64| def|\n",
            "|  70|  85|  90| ghi|\n",
            "+----+----+----+----+\n",
            "\n"
          ]
        }
      ]
    },
    {
      "cell_type": "code",
      "source": [
        "# create an empty RDD\n",
        "rdd = spark.sparkContext.parallelize([],10) # here 10 specify the number of partition in the rdd"
      ],
      "metadata": {
        "id": "vRBCljULLDXc"
      },
      "execution_count": 7,
      "outputs": []
    },
    {
      "cell_type": "code",
      "source": [
        "type(rdd)"
      ],
      "metadata": {
        "colab": {
          "base_uri": "https://localhost:8080/"
        },
        "id": "VwKAuc68LWmM",
        "outputId": "dfe58ee1-78ed-42d6-f794-fd2f83c53cd0"
      },
      "execution_count": 8,
      "outputs": [
        {
          "output_type": "execute_result",
          "data": {
            "text/plain": [
              "pyspark.rdd.RDD"
            ]
          },
          "metadata": {},
          "execution_count": 8
        }
      ]
    },
    {
      "cell_type": "code",
      "source": [
        "# to find the total number of partitions of rdd\n",
        "x = rdd.getNumPartitions()"
      ],
      "metadata": {
        "id": "kCFMbRszLYhk"
      },
      "execution_count": 9,
      "outputs": []
    },
    {
      "cell_type": "code",
      "source": [
        "x"
      ],
      "metadata": {
        "colab": {
          "base_uri": "https://localhost:8080/"
        },
        "id": "LLMH22H2LfQL",
        "outputId": "01fb3095-e735-449d-a141-7073f95bb327"
      },
      "execution_count": 10,
      "outputs": [
        {
          "output_type": "execute_result",
          "data": {
            "text/plain": [
              "10"
            ]
          },
          "metadata": {},
          "execution_count": 10
        }
      ]
    },
    {
      "cell_type": "code",
      "source": [
        "id(rdd)"
      ],
      "metadata": {
        "colab": {
          "base_uri": "https://localhost:8080/"
        },
        "id": "uf3dKJdvLso3",
        "outputId": "598e5ca6-01bf-4ae9-d5c8-8bc031b608ab"
      },
      "execution_count": 11,
      "outputs": [
        {
          "output_type": "execute_result",
          "data": {
            "text/plain": [
              "140146906008720"
            ]
          },
          "metadata": {},
          "execution_count": 11
        }
      ]
    },
    {
      "cell_type": "code",
      "source": [
        "# repartition \n",
        "\n",
        "reparRdd = rdd.repartition(5) # means we can change the partition"
      ],
      "metadata": {
        "id": "I4j39n2yL4ov"
      },
      "execution_count": 12,
      "outputs": []
    },
    {
      "cell_type": "code",
      "source": [
        "type(reparRdd)"
      ],
      "metadata": {
        "colab": {
          "base_uri": "https://localhost:8080/"
        },
        "id": "RvesVhzfMC0t",
        "outputId": "6466d9ff-e351-455a-e66b-f9a760c4e46e"
      },
      "execution_count": 13,
      "outputs": [
        {
          "output_type": "execute_result",
          "data": {
            "text/plain": [
              "pyspark.rdd.RDD"
            ]
          },
          "metadata": {},
          "execution_count": 13
        }
      ]
    },
    {
      "cell_type": "code",
      "source": [
        "id(reparRdd) # here you can see the id of pervious and now is changed"
      ],
      "metadata": {
        "colab": {
          "base_uri": "https://localhost:8080/"
        },
        "id": "AEG7C-dLMGtD",
        "outputId": "22275905-7e89-44b7-d7b0-c7fa9bbd5139"
      },
      "execution_count": 14,
      "outputs": [
        {
          "output_type": "execute_result",
          "data": {
            "text/plain": [
              "140146894050256"
            ]
          },
          "metadata": {},
          "execution_count": 14
        }
      ]
    },
    {
      "cell_type": "code",
      "source": [
        "y = reparRdd.getNumPartitions() # created the new id for the rdd"
      ],
      "metadata": {
        "id": "CwWnBk9MMOjz"
      },
      "execution_count": 15,
      "outputs": []
    },
    {
      "cell_type": "code",
      "source": [
        "y"
      ],
      "metadata": {
        "colab": {
          "base_uri": "https://localhost:8080/"
        },
        "id": "3qlHsNtqMlWt",
        "outputId": "13d2cf44-44cf-4f99-9269-6e9c0f4fd78c"
      },
      "execution_count": 16,
      "outputs": [
        {
          "output_type": "execute_result",
          "data": {
            "text/plain": [
              "5"
            ]
          },
          "metadata": {},
          "execution_count": 16
        }
      ]
    },
    {
      "cell_type": "code",
      "source": [
        "x"
      ],
      "metadata": {
        "colab": {
          "base_uri": "https://localhost:8080/"
        },
        "id": "SfTm5WFDMmAl",
        "outputId": "f347f934-5512-44c5-ce74-d4605b90d613"
      },
      "execution_count": 17,
      "outputs": [
        {
          "output_type": "execute_result",
          "data": {
            "text/plain": [
              "10"
            ]
          },
          "metadata": {},
          "execution_count": 17
        }
      ]
    },
    {
      "cell_type": "code",
      "source": [
        "# Creating an RDD using sparkcontext.wholeTextFiles()\n",
        "rdd1 = spark.sparkContext.wholeTextFiles(\"test1.txt\")"
      ],
      "metadata": {
        "id": "mV0BB9nMMpZT"
      },
      "execution_count": 18,
      "outputs": []
    },
    {
      "cell_type": "code",
      "source": [
        "rdd1.getNumPartitions()"
      ],
      "metadata": {
        "id": "RUk3yK3PNPZy"
      },
      "execution_count": null,
      "outputs": []
    },
    {
      "cell_type": "code",
      "source": [
        "# creating an empty rdd \n",
        "rdd3 = spark.sparkContext.emptyRDD"
      ],
      "metadata": {
        "id": "MV8VO2cJNVgo"
      },
      "execution_count": null,
      "outputs": []
    },
    {
      "cell_type": "code",
      "source": [
        "type(rdd3)"
      ],
      "metadata": {
        "id": "6gjy8iAOOe4T"
      },
      "execution_count": null,
      "outputs": []
    },
    {
      "cell_type": "code",
      "source": [
        "l1=['A','B',\"c\",\"D\",'ABC']"
      ],
      "metadata": {
        "id": "6Ixd7DNdOiF0"
      },
      "execution_count": 21,
      "outputs": []
    },
    {
      "cell_type": "code",
      "source": [
        "rdd3 = spark.sparkContext.parallelize(l1)"
      ],
      "metadata": {
        "id": "yV71RAnAOuFs"
      },
      "execution_count": 22,
      "outputs": []
    },
    {
      "cell_type": "code",
      "source": [
        "type(rdd3)"
      ],
      "metadata": {
        "colab": {
          "base_uri": "https://localhost:8080/"
        },
        "id": "T-JSaBwdO1ua",
        "outputId": "bfec7663-2573-4af8-8788-c815a4d4eecf"
      },
      "execution_count": 23,
      "outputs": [
        {
          "output_type": "execute_result",
          "data": {
            "text/plain": [
              "pyspark.rdd.RDD"
            ]
          },
          "metadata": {},
          "execution_count": 23
        }
      ]
    },
    {
      "cell_type": "code",
      "source": [
        "word = spark.sparkContext.parallelize(['python','scala and py','c','c++','java','spark'])"
      ],
      "metadata": {
        "id": "bQcnkQhTO5AR"
      },
      "execution_count": 24,
      "outputs": []
    },
    {
      "cell_type": "code",
      "source": [
        "type(word)"
      ],
      "metadata": {
        "colab": {
          "base_uri": "https://localhost:8080/"
        },
        "id": "YbNqQ8PhPMRN",
        "outputId": "c977f293-22e2-48fb-cbbc-1c76768381a2"
      },
      "execution_count": 25,
      "outputs": [
        {
          "output_type": "execute_result",
          "data": {
            "text/plain": [
              "pyspark.rdd.RDD"
            ]
          },
          "metadata": {},
          "execution_count": 25
        }
      ]
    },
    {
      "cell_type": "code",
      "source": [
        "counts = word.count()"
      ],
      "metadata": {
        "id": "DrH5AwuBPNWl"
      },
      "execution_count": 26,
      "outputs": []
    },
    {
      "cell_type": "code",
      "source": [
        "# total number of element in the rdd\n",
        "counts"
      ],
      "metadata": {
        "colab": {
          "base_uri": "https://localhost:8080/"
        },
        "id": "hR4eYA3QPTss",
        "outputId": "e6d24bd8-cafd-4143-e890-6e2eec7db490"
      },
      "execution_count": 27,
      "outputs": [
        {
          "output_type": "execute_result",
          "data": {
            "text/plain": [
              "6"
            ]
          },
          "metadata": {},
          "execution_count": 27
        }
      ]
    },
    {
      "cell_type": "code",
      "source": [
        "# collect is  for collection all the elements which is passed in\n",
        "collect = word.collect()"
      ],
      "metadata": {
        "id": "9mkzeMvTPcDu"
      },
      "execution_count": 28,
      "outputs": []
    },
    {
      "cell_type": "code",
      "source": [
        "# elements in the rdd\n",
        "collect"
      ],
      "metadata": {
        "colab": {
          "base_uri": "https://localhost:8080/"
        },
        "id": "r86CuxwAPlWP",
        "outputId": "3c99398b-b010-4ca3-acaf-07401630f6b6"
      },
      "execution_count": 29,
      "outputs": [
        {
          "output_type": "execute_result",
          "data": {
            "text/plain": [
              "['python', 'scala and py', 'c', 'c++', 'java', 'spark']"
            ]
          },
          "metadata": {},
          "execution_count": 29
        }
      ]
    },
    {
      "cell_type": "code",
      "source": [
        "# foreach\n",
        "def f(x):\n",
        "  print(x)"
      ],
      "metadata": {
        "id": "RjZioagsPnA5"
      },
      "execution_count": 30,
      "outputs": []
    },
    {
      "cell_type": "code",
      "source": [
        "fore = word.foreach(f)"
      ],
      "metadata": {
        "id": "PNhB8eYMQEtA"
      },
      "execution_count": 31,
      "outputs": []
    },
    {
      "cell_type": "code",
      "source": [
        "fore"
      ],
      "metadata": {
        "id": "Ab-aES7gQLYb"
      },
      "execution_count": 32,
      "outputs": []
    },
    {
      "cell_type": "code",
      "source": [
        "type(fore)"
      ],
      "metadata": {
        "colab": {
          "base_uri": "https://localhost:8080/"
        },
        "id": "ZVk8wuvsQNL2",
        "outputId": "fc1b0af8-4896-4d97-d039-84805240b2db"
      },
      "execution_count": 33,
      "outputs": [
        {
          "output_type": "execute_result",
          "data": {
            "text/plain": [
              "NoneType"
            ]
          },
          "metadata": {},
          "execution_count": 33
        }
      ]
    },
    {
      "cell_type": "code",
      "source": [
        "# filter in rdd\n",
        "\n",
        "word_filter =  word.filter(lambda x : 'py' in x)\n",
        "filtered = word_filter.collect()"
      ],
      "metadata": {
        "id": "7q6kF7d_QSFY"
      },
      "execution_count": 34,
      "outputs": []
    },
    {
      "cell_type": "code",
      "source": [
        "filtered"
      ],
      "metadata": {
        "colab": {
          "base_uri": "https://localhost:8080/"
        },
        "id": "KvuARLhHQmz0",
        "outputId": "6c2306b5-9a2c-45bc-c69f-01d196bcaa2d"
      },
      "execution_count": 35,
      "outputs": [
        {
          "output_type": "execute_result",
          "data": {
            "text/plain": [
              "['python', 'scala and py']"
            ]
          },
          "metadata": {},
          "execution_count": 35
        }
      ]
    },
    {
      "cell_type": "code",
      "source": [
        "# map() in the rdd\n",
        "\n",
        "word_map = word.map(lambda x : (x,1))\n",
        "mapped = word_map.collect()"
      ],
      "metadata": {
        "id": "_eLEwwqmQrmU"
      },
      "execution_count": 36,
      "outputs": []
    },
    {
      "cell_type": "code",
      "source": [
        "mapped"
      ],
      "metadata": {
        "colab": {
          "base_uri": "https://localhost:8080/"
        },
        "id": "LndAOU2ISclV",
        "outputId": "95cf3b46-944d-4eec-cd31-16a74cef91b6"
      },
      "execution_count": 37,
      "outputs": [
        {
          "output_type": "execute_result",
          "data": {
            "text/plain": [
              "[('python', 1),\n",
              " ('scala and py', 1),\n",
              " ('c', 1),\n",
              " ('c++', 1),\n",
              " ('java', 1),\n",
              " ('spark', 1)]"
            ]
          },
          "metadata": {},
          "execution_count": 37
        }
      ]
    },
    {
      "cell_type": "code",
      "source": [
        "sum = spark.sparkContext.parallelize([1,2,4,5,6,7])"
      ],
      "metadata": {
        "id": "PEcx_qc-SdyI"
      },
      "execution_count": 38,
      "outputs": []
    },
    {
      "cell_type": "code",
      "source": [
        "# reduce \n",
        "\n",
        "import operator\n",
        "from operator import add,mul\n",
        "\n"
      ],
      "metadata": {
        "id": "AbNmDrJiSpii"
      },
      "execution_count": 39,
      "outputs": []
    },
    {
      "cell_type": "code",
      "source": [
        "adding = sum.reduce(add)"
      ],
      "metadata": {
        "id": "qLxFIPi2S1YM"
      },
      "execution_count": 40,
      "outputs": []
    },
    {
      "cell_type": "code",
      "source": [
        "print('sum of all the elements in rdd',adding)"
      ],
      "metadata": {
        "colab": {
          "base_uri": "https://localhost:8080/"
        },
        "id": "RhTQM04kS5fR",
        "outputId": "11dc1a54-e747-4f61-fbc6-b6a9ff82b104"
      },
      "execution_count": 41,
      "outputs": [
        {
          "output_type": "stream",
          "name": "stdout",
          "text": [
            "sum of all the elements in rdd 25\n"
          ]
        }
      ]
    },
    {
      "cell_type": "code",
      "source": [
        "# first elements\n",
        "first = word.first() "
      ],
      "metadata": {
        "id": "IAtIbHLkTBbj"
      },
      "execution_count": 42,
      "outputs": []
    },
    {
      "cell_type": "code",
      "source": [
        "first"
      ],
      "metadata": {
        "colab": {
          "base_uri": "https://localhost:8080/",
          "height": 36
        },
        "id": "Bru1ai_oTJgJ",
        "outputId": "40eccf95-f4a2-4be7-825c-15e5c2aeb0ae"
      },
      "execution_count": 43,
      "outputs": [
        {
          "output_type": "execute_result",
          "data": {
            "text/plain": [
              "'python'"
            ],
            "application/vnd.google.colaboratory.intrinsic+json": {
              "type": "string"
            }
          },
          "metadata": {},
          "execution_count": 43
        }
      ]
    },
    {
      "cell_type": "code",
      "source": [
        "type(first) # returs the element of the type "
      ],
      "metadata": {
        "colab": {
          "base_uri": "https://localhost:8080/"
        },
        "id": "LAL5MYP7TK8v",
        "outputId": "70d982c3-d468-43b1-c519-bd87493927d5"
      },
      "execution_count": 44,
      "outputs": [
        {
          "output_type": "execute_result",
          "data": {
            "text/plain": [
              "str"
            ]
          },
          "metadata": {},
          "execution_count": 44
        }
      ]
    },
    {
      "cell_type": "code",
      "source": [
        "dir(word)"
      ],
      "metadata": {
        "id": "uJ2cBJCtTPYT"
      },
      "execution_count": null,
      "outputs": []
    },
    {
      "cell_type": "code",
      "source": [
        "# cache()\n",
        "\n",
        "word.cache()"
      ],
      "metadata": {
        "colab": {
          "base_uri": "https://localhost:8080/"
        },
        "id": "JPuR9_Q_TXkn",
        "outputId": "6fc37de0-342a-4595-bbe6-1d4437ebedcc"
      },
      "execution_count": 46,
      "outputs": [
        {
          "output_type": "execute_result",
          "data": {
            "text/plain": [
              "ParallelCollectionRDD[17] at readRDDFromFile at PythonRDD.scala:274"
            ]
          },
          "metadata": {},
          "execution_count": 46
        }
      ]
    },
    {
      "cell_type": "code",
      "source": [
        "caching = word.persist().is_cached"
      ],
      "metadata": {
        "id": "ibgKqdy2TeLn"
      },
      "execution_count": 47,
      "outputs": []
    },
    {
      "cell_type": "code",
      "source": [
        "print(' the word got cached', caching)"
      ],
      "metadata": {
        "colab": {
          "base_uri": "https://localhost:8080/"
        },
        "id": "Go6zz39DTp4X",
        "outputId": "b4b73efc-f539-42a0-925d-329febb64771"
      },
      "execution_count": 48,
      "outputs": [
        {
          "output_type": "stream",
          "name": "stdout",
          "text": [
            " the word got cached True\n"
          ]
        }
      ]
    },
    {
      "cell_type": "code",
      "source": [
        "word = spark.sparkContext.parallelize([1,3,4,5,6,7,8])"
      ],
      "metadata": {
        "id": "J_LNjTW4TzMN"
      },
      "execution_count": 49,
      "outputs": []
    },
    {
      "cell_type": "code",
      "source": [
        "rdd3 = spark.sparkContext.emptyRDD"
      ],
      "metadata": {
        "id": "J3tdbIFps0Vs"
      },
      "execution_count": null,
      "outputs": []
    },
    {
      "cell_type": "code",
      "source": [
        "caching = rdd3.persist().is_cached\n",
        "caching"
      ],
      "metadata": {
        "colab": {
          "base_uri": "https://localhost:8080/"
        },
        "id": "4hFyNDVRT7lr",
        "outputId": "79e537e1-e84b-424c-8ea1-81b07d4d231e"
      },
      "execution_count": 64,
      "outputs": [
        {
          "output_type": "execute_result",
          "data": {
            "text/plain": [
              "True"
            ]
          },
          "metadata": {},
          "execution_count": 64
        }
      ]
    },
    {
      "cell_type": "code",
      "source": [
        "word1 = spark.sparkContext.parallelize([])"
      ],
      "metadata": {
        "id": "QMhhg46OsBuW"
      },
      "execution_count": 52,
      "outputs": []
    },
    {
      "cell_type": "code",
      "source": [
        "caching = word1.persist().is_cached\n",
        "caching"
      ],
      "metadata": {
        "colab": {
          "base_uri": "https://localhost:8080/"
        },
        "id": "f4S2azWmsPLu",
        "outputId": "18467145-ba82-429f-fea5-e444956dc877"
      },
      "execution_count": 53,
      "outputs": [
        {
          "output_type": "execute_result",
          "data": {
            "text/plain": [
              "True"
            ]
          },
          "metadata": {},
          "execution_count": 53
        }
      ]
    },
    {
      "cell_type": "code",
      "source": [
        "word.saveAsTextFile(\"word.txt\")"
      ],
      "metadata": {
        "id": "J_CIsnLKUD42"
      },
      "execution_count": 54,
      "outputs": []
    },
    {
      "cell_type": "code",
      "source": [
        "union = word.union(sum).distinct()"
      ],
      "metadata": {
        "id": "9BZONX6cUT2i"
      },
      "execution_count": 55,
      "outputs": []
    },
    {
      "cell_type": "code",
      "source": [
        "union.collect()"
      ],
      "metadata": {
        "colab": {
          "base_uri": "https://localhost:8080/"
        },
        "id": "Hd1tK20OUuP_",
        "outputId": "9fb5909a-e310-4d6d-dbfc-68608b8ec443"
      },
      "execution_count": 56,
      "outputs": [
        {
          "output_type": "execute_result",
          "data": {
            "text/plain": [
              "[4, 8, 1, 5, 6, 2, 3, 7]"
            ]
          },
          "metadata": {},
          "execution_count": 56
        }
      ]
    },
    {
      "cell_type": "code",
      "source": [
        "type(union)"
      ],
      "metadata": {
        "colab": {
          "base_uri": "https://localhost:8080/"
        },
        "id": "7vbYdAEjUw1S",
        "outputId": "ad6027cc-8a89-4545-8ea9-8ca2fe2cd4e7"
      },
      "execution_count": 57,
      "outputs": [
        {
          "output_type": "execute_result",
          "data": {
            "text/plain": [
              "pyspark.rdd.PipelinedRDD"
            ]
          },
          "metadata": {},
          "execution_count": 57
        }
      ]
    },
    {
      "cell_type": "code",
      "source": [
        "# intersection between rdds \n",
        "\n",
        "inter = word.intersection(sum)\n",
        "inter.collect()"
      ],
      "metadata": {
        "colab": {
          "base_uri": "https://localhost:8080/"
        },
        "id": "JW7DVdZVU79L",
        "outputId": "c18c18b6-f08d-4bb7-cf65-59f1aa65e8d1"
      },
      "execution_count": 58,
      "outputs": [
        {
          "output_type": "execute_result",
          "data": {
            "text/plain": [
              "[4, 1, 5, 6, 7]"
            ]
          },
          "metadata": {},
          "execution_count": 58
        }
      ]
    },
    {
      "cell_type": "code",
      "source": [
        "worddd=  spark.sparkContext.parallelize(['C',\n",
        " 'C++',\n",
        " 'Scala',\n",
        " 'pyspark and Hadoop'])"
      ],
      "metadata": {
        "id": "AeP6ZY2BVIbj"
      },
      "execution_count": 59,
      "outputs": []
    },
    {
      "cell_type": "code",
      "source": [
        "word=  spark.sparkContext.parallelize(['C',\n",
        " 'C++',\n",
        " 'Scala'])\n",
        "\n"
      ],
      "metadata": {
        "id": "5j0gd15fVZ5o"
      },
      "execution_count": 60,
      "outputs": []
    },
    {
      "cell_type": "code",
      "source": [
        "# substracting the element in the rdds \n",
        "\n",
        "sub = worddd.subtract(word)"
      ],
      "metadata": {
        "id": "lpKXr6aOVfnJ"
      },
      "execution_count": 61,
      "outputs": []
    },
    {
      "cell_type": "code",
      "source": [
        "sub.collect()"
      ],
      "metadata": {
        "colab": {
          "base_uri": "https://localhost:8080/"
        },
        "id": "d8HG--ULVu1Z",
        "outputId": "7191777f-34f9-4a67-9feb-ffcb4dd9fe23"
      },
      "execution_count": 62,
      "outputs": [
        {
          "output_type": "execute_result",
          "data": {
            "text/plain": [
              "['pyspark and Hadoop']"
            ]
          },
          "metadata": {},
          "execution_count": 62
        }
      ]
    },
    {
      "cell_type": "code",
      "source": [
        "sub = word.subtract(worddd)\n",
        "sub.collect()"
      ],
      "metadata": {
        "colab": {
          "base_uri": "https://localhost:8080/"
        },
        "id": "uh1Xdy0SVwm3",
        "outputId": "71124761-2682-45eb-e401-752d4f229f54"
      },
      "execution_count": 63,
      "outputs": [
        {
          "output_type": "execute_result",
          "data": {
            "text/plain": [
              "[]"
            ]
          },
          "metadata": {},
          "execution_count": 63
        }
      ]
    },
    {
      "cell_type": "code",
      "source": [],
      "metadata": {
        "id": "OydU0smAV3l5"
      },
      "execution_count": 63,
      "outputs": []
    }
  ]
}