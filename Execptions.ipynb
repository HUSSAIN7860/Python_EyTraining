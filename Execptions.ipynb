{
  "nbformat": 4,
  "nbformat_minor": 0,
  "metadata": {
    "colab": {
      "provenance": [],
      "authorship_tag": "ABX9TyMdqYi2t3LL/473YJwS9z/Q",
      "include_colab_link": true
    },
    "kernelspec": {
      "name": "python3",
      "display_name": "Python 3"
    },
    "language_info": {
      "name": "python"
    }
  },
  "cells": [
    {
      "cell_type": "markdown",
      "metadata": {
        "id": "view-in-github",
        "colab_type": "text"
      },
      "source": [
        "<a href=\"https://colab.research.google.com/github/HUSSAIN7860/Python_EyTraining/blob/main/Execptions.ipynb\" target=\"_parent\"><img src=\"https://colab.research.google.com/assets/colab-badge.svg\" alt=\"Open In Colab\"/></a>"
      ]
    },
    {
      "cell_type": "code",
      "execution_count": 1,
      "metadata": {
        "colab": {
          "base_uri": "https://localhost:8080/"
        },
        "id": "l2A7kodlrT6x",
        "outputId": "8f467958-187d-4dd9-c4c6-da35ad61def0"
      },
      "outputs": [
        {
          "output_type": "stream",
          "name": "stdout",
          "text": [
            "10\n",
            "12\n",
            "22\n"
          ]
        }
      ],
      "source": [
        "# no execption in it \n",
        "a = int(input())\n",
        "b = int(input())\n",
        "print(a+b)"
      ]
    },
    {
      "cell_type": "code",
      "source": [
        "# having exceptions \n",
        "\n",
        "a = int(input('enter the number here :'))\n",
        "\n",
        "b = (input('enter the number here :'))\n",
        "\n",
        "print(a+b)"
      ],
      "metadata": {
        "colab": {
          "base_uri": "https://localhost:8080/",
          "height": 235
        },
        "id": "bY0LbfG-rrCl",
        "outputId": "df443b8d-3731-4a21-e1c7-3d829e5e8c96"
      },
      "execution_count": 2,
      "outputs": [
        {
          "name": "stdout",
          "output_type": "stream",
          "text": [
            "enter the number here :10\n",
            "enter the number here :5\n"
          ]
        },
        {
          "output_type": "error",
          "ename": "TypeError",
          "evalue": "ignored",
          "traceback": [
            "\u001b[0;31m---------------------------------------------------------------------------\u001b[0m",
            "\u001b[0;31mTypeError\u001b[0m                                 Traceback (most recent call last)",
            "\u001b[0;32m<ipython-input-2-4a2b214a9c7c>\u001b[0m in \u001b[0;36m<module>\u001b[0;34m\u001b[0m\n\u001b[1;32m      5\u001b[0m \u001b[0mb\u001b[0m \u001b[0;34m=\u001b[0m \u001b[0;34m(\u001b[0m\u001b[0minput\u001b[0m\u001b[0;34m(\u001b[0m\u001b[0;34m'enter the number here :'\u001b[0m\u001b[0;34m)\u001b[0m\u001b[0;34m)\u001b[0m\u001b[0;34m\u001b[0m\u001b[0;34m\u001b[0m\u001b[0m\n\u001b[1;32m      6\u001b[0m \u001b[0;34m\u001b[0m\u001b[0m\n\u001b[0;32m----> 7\u001b[0;31m \u001b[0mprint\u001b[0m\u001b[0;34m(\u001b[0m\u001b[0ma\u001b[0m\u001b[0;34m+\u001b[0m\u001b[0mb\u001b[0m\u001b[0;34m)\u001b[0m\u001b[0;34m\u001b[0m\u001b[0;34m\u001b[0m\u001b[0m\n\u001b[0m",
            "\u001b[0;31mTypeError\u001b[0m: unsupported operand type(s) for +: 'int' and 'str'"
          ]
        }
      ]
    },
    {
      "cell_type": "code",
      "source": [
        "# a number is not divisible by 0 this show you exceptions\n",
        "a = int(input())\n",
        "b = int(input())\n",
        "print(a/b)"
      ],
      "metadata": {
        "colab": {
          "base_uri": "https://localhost:8080/",
          "height": 235
        },
        "id": "EbsrXs69sAt4",
        "outputId": "72a80958-77bb-4744-9c66-72609431f1a6"
      },
      "execution_count": 3,
      "outputs": [
        {
          "name": "stdout",
          "output_type": "stream",
          "text": [
            "10\n",
            "0\n"
          ]
        },
        {
          "output_type": "error",
          "ename": "ZeroDivisionError",
          "evalue": "ignored",
          "traceback": [
            "\u001b[0;31m---------------------------------------------------------------------------\u001b[0m",
            "\u001b[0;31mZeroDivisionError\u001b[0m                         Traceback (most recent call last)",
            "\u001b[0;32m<ipython-input-3-9ec12f351543>\u001b[0m in \u001b[0;36m<module>\u001b[0;34m\u001b[0m\n\u001b[1;32m      2\u001b[0m \u001b[0ma\u001b[0m \u001b[0;34m=\u001b[0m \u001b[0mint\u001b[0m\u001b[0;34m(\u001b[0m\u001b[0minput\u001b[0m\u001b[0;34m(\u001b[0m\u001b[0;34m)\u001b[0m\u001b[0;34m)\u001b[0m\u001b[0;34m\u001b[0m\u001b[0;34m\u001b[0m\u001b[0m\n\u001b[1;32m      3\u001b[0m \u001b[0mb\u001b[0m \u001b[0;34m=\u001b[0m \u001b[0mint\u001b[0m\u001b[0;34m(\u001b[0m\u001b[0minput\u001b[0m\u001b[0;34m(\u001b[0m\u001b[0;34m)\u001b[0m\u001b[0;34m)\u001b[0m\u001b[0;34m\u001b[0m\u001b[0;34m\u001b[0m\u001b[0m\n\u001b[0;32m----> 4\u001b[0;31m \u001b[0mprint\u001b[0m\u001b[0;34m(\u001b[0m\u001b[0ma\u001b[0m\u001b[0;34m/\u001b[0m\u001b[0mb\u001b[0m\u001b[0;34m)\u001b[0m\u001b[0;34m\u001b[0m\u001b[0;34m\u001b[0m\u001b[0m\n\u001b[0m",
            "\u001b[0;31mZeroDivisionError\u001b[0m: division by zero"
          ]
        }
      ]
    },
    {
      "cell_type": "code",
      "source": [
        "# handing exceptions using try except block\n",
        "a = 5\n",
        "b = 'o'\n",
        "try:\n",
        "  print(a/b) # if the bock arrise expection then only except block is executed\n",
        "\n",
        "except:\n",
        "  print('there is an error in try block ')\n",
        "\n",
        "\n",
        "\n"
      ],
      "metadata": {
        "colab": {
          "base_uri": "https://localhost:8080/"
        },
        "id": "_L8ROJCXsXdX",
        "outputId": "00d05860-41a2-4580-d77c-74667faf8347"
      },
      "execution_count": 4,
      "outputs": [
        {
          "output_type": "stream",
          "name": "stdout",
          "text": [
            "there is an error in try block \n"
          ]
        }
      ]
    },
    {
      "cell_type": "code",
      "source": [
        "a = 5\n",
        "b = 4\n",
        "try:\n",
        "  print(a/b)\n",
        "\n",
        "except:\n",
        "  print('there is an error in try block ') # no execption no excelt block execution\n",
        "\n",
        "print('outside of both of the block')"
      ],
      "metadata": {
        "colab": {
          "base_uri": "https://localhost:8080/"
        },
        "id": "nY-r0vEotEF4",
        "outputId": "04c38e5c-7081-49e9-8f2b-1888b4ad4771"
      },
      "execution_count": 6,
      "outputs": [
        {
          "output_type": "stream",
          "name": "stdout",
          "text": [
            "1.25\n",
            "outside of both of the block\n"
          ]
        }
      ]
    },
    {
      "cell_type": "code",
      "source": [
        "# Handling different types of exception here:\n",
        "try :\n",
        "  a = int(input('enter the number here :')) \n",
        "  b = int(input('enter the number here :'))\n",
        "  c = int(input('enter the number here :'))\n",
        "\n",
        "  print(a/b)\n",
        "  print(a+c)\n",
        "except ZeroDivisionError :\n",
        "  print('Number is not divisible by 0')\n",
        "except ValueError:\n",
        "  print('Enter the number only')\n",
        "except TypeError:\n",
        "  print('enter the number only')\n"
      ],
      "metadata": {
        "colab": {
          "base_uri": "https://localhost:8080/"
        },
        "id": "eZjotSPjtkxy",
        "outputId": "c01aec34-dd5b-46b4-fce1-4234869d89a5"
      },
      "execution_count": 8,
      "outputs": [
        {
          "output_type": "stream",
          "name": "stdout",
          "text": [
            "enter the number here :10\n",
            "enter the number here :0\n",
            "enter the number here :a\n",
            "Enter the number only\n"
          ]
        }
      ]
    },
    {
      "cell_type": "code",
      "source": [
        "# else and finally keywords in exception handling\n",
        "\n",
        "try :\n",
        "  a = int(input('enter the number here :')) \n",
        "  b = int(input('enter the number here :'))\n",
        "  c = int(input('enter the number here :'))\n",
        "\n",
        "  print(a/b)\n",
        "  print(a+c)\n",
        "except ZeroDivisionError :\n",
        "  print('Number is not divisible by 0')\n",
        "except ValueError:\n",
        "  print('Enter the number only')\n",
        "except TypeError:\n",
        "  print('enter the number only')\n",
        "\n",
        "else:\n",
        "  print('else block')\n",
        "  print('division by ',c)\n",
        "\n",
        "\n",
        "\n",
        "\n"
      ],
      "metadata": {
        "colab": {
          "base_uri": "https://localhost:8080/"
        },
        "id": "hvzGQWFbueAA",
        "outputId": "b93396aa-36e0-41a7-cfff-289c8f6ec6d2"
      },
      "execution_count": 10,
      "outputs": [
        {
          "output_type": "stream",
          "name": "stdout",
          "text": [
            "enter the number here :10\n",
            "enter the number here :5\n",
            "enter the number here :2\n",
            "2.0\n",
            "12\n",
            "else block\n",
            "division by  2\n"
          ]
        }
      ]
    },
    {
      "cell_type": "code",
      "source": [
        "# finally \n",
        "try :\n",
        "  a = int(input('enter the number here :')) \n",
        "  b = int(input('enter the number here :'))\n",
        "  c = int(input('enter the number here :'))\n",
        "\n",
        "  print(a/b)\n",
        "  print(a+c)\n",
        "except ZeroDivisionError :\n",
        "  print('Number is not divisible by 0')\n",
        "except ValueError:\n",
        "  print('Enter the number only')\n",
        "except TypeError:\n",
        "  print('enter the number only')\n",
        "finally :\n",
        "  print('finally block') # finally block is always executed irrespect of execution of try except block"
      ],
      "metadata": {
        "colab": {
          "base_uri": "https://localhost:8080/"
        },
        "id": "4Thp1tqov4ek",
        "outputId": "d93b4bb8-2ae3-41a8-a803-c4fcd378fa01"
      },
      "execution_count": 11,
      "outputs": [
        {
          "output_type": "stream",
          "name": "stdout",
          "text": [
            "enter the number here :10\n",
            "enter the number here :5\n",
            "enter the number here :2\n",
            "2.0\n",
            "12\n",
            "finally block\n"
          ]
        }
      ]
    },
    {
      "cell_type": "code",
      "source": [
        "# finally \n",
        "try :\n",
        "  a = int(input('enter the number here :')) \n",
        "  b = int(input('enter the number here :'))\n",
        "  c = int(input('enter the number here :'))\n",
        "\n",
        "  print(a/b)\n",
        "  print(a+c)\n",
        "except ZeroDivisionError :\n",
        "  print('Number is not divisible by 0')\n",
        "except ValueError:\n",
        "  print('Enter the number only')\n",
        "except TypeError:\n",
        "  print('enter the number only')\n",
        "finally :\n",
        "  print('finally block') # finally block is always executed irrespect of execution of try except block"
      ],
      "metadata": {
        "colab": {
          "base_uri": "https://localhost:8080/"
        },
        "id": "UKMyPhapwvl5",
        "outputId": "0d6c42be-3efc-4e8b-9ede-f7e310326bdf"
      },
      "execution_count": 12,
      "outputs": [
        {
          "output_type": "stream",
          "name": "stdout",
          "text": [
            "enter the number here :10\n",
            "enter the number here :4\n",
            "enter the number here :a\n",
            "Enter the number only\n",
            "finally block\n"
          ]
        }
      ]
    },
    {
      "cell_type": "code",
      "source": [
        "# finally \n",
        "try :\n",
        "  a = int(input('enter the number here :')) \n",
        "  b = int(input('enter the number here :'))\n",
        "  c = int(input('enter the number here :'))\n",
        "\n",
        "  print(a/b)\n",
        "  print(a+c)\n",
        "except ZeroDivisionError :\n",
        "  print('Number is not divisible by 0')\n",
        "except ValueError:\n",
        "  print('Enter the number only')\n",
        "except TypeError:\n",
        "  print('enter the number only')\n",
        "\n",
        "\n",
        "else:\n",
        "  print('else block')\n",
        "  print('division by ',c)\n",
        "\n",
        "finally :\n",
        "  print('finally block') # finally block is always executed irrespect of execution of try except block"
      ],
      "metadata": {
        "colab": {
          "base_uri": "https://localhost:8080/"
        },
        "id": "a1TaxS-iw2XX",
        "outputId": "bc6849b9-5f0a-4c7e-d2bc-d6f2ded25e61"
      },
      "execution_count": 13,
      "outputs": [
        {
          "output_type": "stream",
          "name": "stdout",
          "text": [
            "enter the number here :10\n",
            "enter the number here :5\n",
            "enter the number here :a\n",
            "Enter the number only\n",
            "finally block\n"
          ]
        }
      ]
    },
    {
      "cell_type": "code",
      "source": [
        "10# arising our own exception\n",
        "from ast import Raise\n",
        "\n",
        "a = int(input())\n",
        "b = int(input())\n",
        "try :\n",
        "  if y==0:\n",
        "    raise ZeroDivisionError()\n",
        "    z = a/b\n",
        "    print('Division =',z)\n",
        "except ZeroDivisionError:\n",
        "  print('you can not divide a number by 0')\n",
        "\n",
        "finally :\n",
        "  print('this is finally block')"
      ],
      "metadata": {
        "colab": {
          "base_uri": "https://localhost:8080/",
          "height": 287
        },
        "id": "vUK6rA9uxJrZ",
        "outputId": "22f4fa40-dbc9-4b34-98f2-bbe6139600a7"
      },
      "execution_count": 16,
      "outputs": [
        {
          "output_type": "stream",
          "name": "stdout",
          "text": [
            "10\n",
            "0\n",
            "this is finally block\n"
          ]
        },
        {
          "output_type": "error",
          "ename": "NameError",
          "evalue": "ignored",
          "traceback": [
            "\u001b[0;31m---------------------------------------------------------------------------\u001b[0m",
            "\u001b[0;31mNameError\u001b[0m                                 Traceback (most recent call last)",
            "\u001b[0;32m<ipython-input-16-dc161d4749c2>\u001b[0m in \u001b[0;36m<module>\u001b[0;34m\u001b[0m\n\u001b[1;32m      5\u001b[0m \u001b[0mb\u001b[0m \u001b[0;34m=\u001b[0m \u001b[0mint\u001b[0m\u001b[0;34m(\u001b[0m\u001b[0minput\u001b[0m\u001b[0;34m(\u001b[0m\u001b[0;34m)\u001b[0m\u001b[0;34m)\u001b[0m\u001b[0;34m\u001b[0m\u001b[0;34m\u001b[0m\u001b[0m\n\u001b[1;32m      6\u001b[0m \u001b[0;32mtry\u001b[0m \u001b[0;34m:\u001b[0m\u001b[0;34m\u001b[0m\u001b[0;34m\u001b[0m\u001b[0m\n\u001b[0;32m----> 7\u001b[0;31m   \u001b[0;32mif\u001b[0m \u001b[0my\u001b[0m\u001b[0;34m==\u001b[0m\u001b[0;36m0\u001b[0m\u001b[0;34m:\u001b[0m\u001b[0;34m\u001b[0m\u001b[0;34m\u001b[0m\u001b[0m\n\u001b[0m\u001b[1;32m      8\u001b[0m     \u001b[0;32mraise\u001b[0m \u001b[0mZeroDivisionError\u001b[0m\u001b[0;34m(\u001b[0m\u001b[0;34m)\u001b[0m\u001b[0;34m\u001b[0m\u001b[0;34m\u001b[0m\u001b[0m\n\u001b[1;32m      9\u001b[0m     \u001b[0mz\u001b[0m \u001b[0;34m=\u001b[0m \u001b[0ma\u001b[0m\u001b[0;34m/\u001b[0m\u001b[0mb\u001b[0m\u001b[0;34m\u001b[0m\u001b[0;34m\u001b[0m\u001b[0m\n",
            "\u001b[0;31mNameError\u001b[0m: name 'y' is not defined"
          ]
        }
      ]
    },
    {
      "cell_type": "code",
      "source": [
        "#Nesting of try block\n",
        "\n",
        "\n",
        "try:\n",
        "  print(\"line1\")\n",
        "  print('line2')\n",
        "  try:\n",
        "    print(\"line3\")\n",
        "    print('line4')\n",
        "  except ZeroDivisionError:\n",
        "    print(\"except\")\n",
        "  finally:\n",
        "    print('finally')\n",
        "  print('lines')\n",
        "except TypeError:\n",
        "  print(\"exception2\")\n",
        "finally:\n",
        "  print(\"finally2\")"
      ],
      "metadata": {
        "colab": {
          "base_uri": "https://localhost:8080/"
        },
        "id": "DXcLDweEyUvQ",
        "outputId": "cf8b0b0a-d75f-4fa5-ab3a-df2e6a558bc6"
      },
      "execution_count": 17,
      "outputs": [
        {
          "output_type": "stream",
          "name": "stdout",
          "text": [
            "line1\n",
            "line2\n",
            "line3\n",
            "line4\n",
            "finally\n",
            "lines\n",
            "finally2\n"
          ]
        }
      ]
    },
    {
      "cell_type": "code",
      "source": [
        "\"\"\"\n",
        "1.try, except, \n",
        "2. try and except should be used along\n",
        "3. We can have no of except blocks\n",
        "4.type of exception raised should be matched with the except exceptionclass Name\n",
        "5. If there is no exception raised in try block, except block is skipped\n",
        "6. if the exception raised is not handled by using except., then DEM works, the program ends\n",
        "7.finally block always runs\n",
        "8. if try block has no exception raised, then else will get executed and viceversa\n",
        "\"\"\""
      ],
      "metadata": {
        "id": "yt31TsoFywt6"
      },
      "execution_count": null,
      "outputs": []
    },
    {
      "cell_type": "markdown",
      "source": [
        "### 1.create a list, try to access any element with the help of index.\n",
        "Now, try to specify the index which is not in range, check for the exception you got.\n",
        "handle that exception using exception handling"
      ],
      "metadata": {
        "id": "9CIM245GzKqX"
      }
    },
    {
      "cell_type": "code",
      "source": [
        "l = [x for x in range(10)]\n",
        "l"
      ],
      "metadata": {
        "colab": {
          "base_uri": "https://localhost:8080/"
        },
        "id": "JQafj_0hzMne",
        "outputId": "8b371526-b99a-4f2b-cf7c-a2b1ac44c735"
      },
      "execution_count": 18,
      "outputs": [
        {
          "output_type": "execute_result",
          "data": {
            "text/plain": [
              "[0, 1, 2, 3, 4, 5, 6, 7, 8, 9]"
            ]
          },
          "metadata": {},
          "execution_count": 18
        }
      ]
    },
    {
      "cell_type": "code",
      "source": [
        "\n",
        "try :\n",
        "  index = int(input('enter the index here :'))\n",
        "  c=l[:index]\n",
        "  print(c)\n",
        "\n",
        "except IndexError:\n",
        "  print('index should be less than ',len(l))"
      ],
      "metadata": {
        "colab": {
          "base_uri": "https://localhost:8080/"
        },
        "id": "gw4Gm5OPzYwL",
        "outputId": "15787932-7a52-49a8-dd13-a8c767de293d"
      },
      "execution_count": 26,
      "outputs": [
        {
          "output_type": "stream",
          "name": "stdout",
          "text": [
            "enter the index here :5\n",
            "[0, 1, 2, 3, 4]\n"
          ]
        }
      ]
    },
    {
      "cell_type": "markdown",
      "source": [
        "### 2. let's say you have the following code written:\n",
        "names = Input('Enter your name:')\n",
        "\n",
        "check for the error/exception that you got, \n",
        "handle the exception using exception handling"
      ],
      "metadata": {
        "id": "_2l-0yhX0dOS"
      }
    },
    {
      "cell_type": "code",
      "source": [
        "\n",
        "try :\n",
        "  name = input('enter the name here :')\n",
        "  print(b[:len(name)])\n",
        "except TypeError:\n",
        "  print('there is exception in try block')\n"
      ],
      "metadata": {
        "colab": {
          "base_uri": "https://localhost:8080/"
        },
        "id": "YD7yp5Ryzg1t",
        "outputId": "5b292356-479f-425b-f0b2-38602e25fea0"
      },
      "execution_count": 39,
      "outputs": [
        {
          "output_type": "stream",
          "name": "stdout",
          "text": [
            "enter the name here :\n",
            "there is exception in try block\n"
          ]
        }
      ]
    },
    {
      "cell_type": "code",
      "source": [],
      "metadata": {
        "id": "ReEqOXy53PXu"
      },
      "execution_count": null,
      "outputs": []
    }
  ]
}